{
 "cells": [
  {
   "cell_type": "markdown",
   "id": "b7fd6123",
   "metadata": {},
   "source": [
    "## Group Project 509 ,  Hoori Javadnia & Fatemeh Khosravi"
   ]
  },
  {
   "cell_type": "markdown",
   "id": "0cf726d0",
   "metadata": {},
   "source": [
    "### descriptive statistics "
   ]
  },
  {
   "cell_type": "code",
   "execution_count": 1,
   "id": "ce63fc01",
   "metadata": {},
   "outputs": [
    {
     "name": "stdout",
     "output_type": "stream",
     "text": [
      "Requirement already satisfied: emoji in /Users/fatemehkhosravi/opt/anaconda3/lib/python3.8/site-packages (2.2.0)\n",
      "Collecting emoji\n",
      "  Downloading emoji-2.5.1.tar.gz (356 kB)\n",
      "\u001b[2K     \u001b[90m━━━━━━━━━━━━━━━━━━━━━━━━━━━━━━━━━━━━━━━\u001b[0m \u001b[32m356.3/356.3 kB\u001b[0m \u001b[31m5.0 MB/s\u001b[0m eta \u001b[36m0:00:00\u001b[0ma \u001b[36m0:00:01\u001b[0m\n",
      "\u001b[?25h  Preparing metadata (setup.py) ... \u001b[?25ldone\n",
      "\u001b[?25hBuilding wheels for collected packages: emoji\n",
      "  Building wheel for emoji (setup.py) ... \u001b[?25ldone\n",
      "\u001b[?25h  Created wheel for emoji: filename=emoji-2.5.1-py2.py3-none-any.whl size=351210 sha256=5614fe176293f08405987f0c276b4d77203c41e1bf7bba4e33b950cec1bdcf3b\n",
      "  Stored in directory: /Users/fatemehkhosravi/Library/Caches/pip/wheels/8d/f5/02/63dc849dcc2c6d417626fd8440f2fc9da91c2f12afbe65c790\n",
      "Successfully built emoji\n",
      "Installing collected packages: emoji\n",
      "  Attempting uninstall: emoji\n",
      "    Found existing installation: emoji 2.2.0\n",
      "    Uninstalling emoji-2.2.0:\n",
      "      Successfully uninstalled emoji-2.2.0\n",
      "Successfully installed emoji-2.5.1\n",
      "Note: you may need to restart the kernel to use updated packages.\n"
     ]
    }
   ],
   "source": [
    "#!pip install --upgrade emoji\n",
    "#!pip install plotly"
   ]
  },
  {
   "cell_type": "code",
   "execution_count": 1,
   "id": "8209b122",
   "metadata": {},
   "outputs": [
    {
     "data": {
      "text/html": [
       "        <script type=\"text/javascript\">\n",
       "        window.PlotlyConfig = {MathJaxConfig: 'local'};\n",
       "        if (window.MathJax && window.MathJax.Hub && window.MathJax.Hub.Config) {window.MathJax.Hub.Config({SVG: {font: \"STIX-Web\"}});}\n",
       "        if (typeof require !== 'undefined') {\n",
       "        require.undef(\"plotly\");\n",
       "        requirejs.config({\n",
       "            paths: {\n",
       "                'plotly': ['https://cdn.plot.ly/plotly-2.24.1.min']\n",
       "            }\n",
       "        });\n",
       "        require(['plotly'], function(Plotly) {\n",
       "            window._Plotly = Plotly;\n",
       "        });\n",
       "        }\n",
       "        </script>\n",
       "        "
      ]
     },
     "metadata": {},
     "output_type": "display_data"
    },
    {
     "name": "stderr",
     "output_type": "stream",
     "text": [
      "[nltk_data] Downloading package stopwords to\n",
      "[nltk_data]     /Users/javadniahoori/nltk_data...\n",
      "[nltk_data]   Package stopwords is already up-to-date!\n"
     ]
    },
    {
     "data": {
      "text/plain": [
       "re.compile(r'<title>(.*)</title>', re.UNICODE)"
      ]
     },
     "execution_count": 1,
     "metadata": {},
     "output_type": "execute_result"
    }
   ],
   "source": [
    "import pandas as pd\n",
    "import numpy as np\n",
    "from bs4 import BeautifulSoup\n",
    "import requests\n",
    "import csv\n",
    "import time\n",
    "import random\n",
    "from collections import OrderedDict\n",
    "import string\n",
    "import re\n",
    "import matplotlib.pyplot as plt\n",
    "import seaborn as sns\n",
    "import plotly.offline as py\n",
    "import plotly.graph_objs as go\n",
    "import plotly.tools as tls\n",
    "import plotly.express as px\n",
    "import nltk\n",
    "import random\n",
    "\n",
    "\n",
    "py.init_notebook_mode(connected=True)\n",
    "\n",
    "\n",
    "from nltk.stem import WordNetLemmatizer\n",
    "from random import randint\n",
    "#from textblob import TextBlob\n",
    "from time import sleep\n",
    "\n",
    "color = sns.color_palette()\n",
    "%matplotlib inline\n",
    "\n",
    "\n",
    "from collections import Counter, defaultdict\n",
    "from string import punctuation\n",
    "from nltk.corpus import stopwords\n",
    "from nltk.metrics import ConfusionMatrix\n",
    "import plotly.io as pio\n",
    "\n",
    "color = sns.color_palette()\n",
    "%matplotlib inline\n",
    "import emoji\n",
    "from nltk.tokenize import word_tokenize\n",
    "import re\n",
    "re.compile('<title>(.*)</title>')\n",
    "\n",
    "import nltk\n",
    "nltk.download('stopwords')\n",
    "\n",
    "import os\n",
    "import re\n",
    "import emoji\n",
    "import pandas as pd\n",
    "import numpy as np\n",
    "\n",
    "from collections import Counter, defaultdict\n",
    "from nltk.corpus import stopwords\n",
    "from string import punctuation\n",
    "\n",
    "sw = stopwords.words(\"english\")\n",
    "\n",
    "import re\n",
    "re.compile('<title>(.*)</title>')"
   ]
  },
  {
   "cell_type": "markdown",
   "id": "2b0424e7",
   "metadata": {},
   "source": [
    "## Read the data "
   ]
  },
  {
   "cell_type": "code",
   "execution_count": 13,
   "id": "3a7b5230",
   "metadata": {},
   "outputs": [],
   "source": [
    "import pandas as pd\n",
    "data = pd.read_csv('/Users/javadniahoori/Downloads/509/group/cus_q_dataset_final.csv')"
   ]
  },
  {
   "cell_type": "code",
   "execution_count": 14,
   "id": "39f46384",
   "metadata": {},
   "outputs": [
    {
     "name": "stdout",
     "output_type": "stream",
     "text": [
      "(40267, 2)\n"
     ]
    },
    {
     "data": {
      "text/html": [
       "<div>\n",
       "<style scoped>\n",
       "    .dataframe tbody tr th:only-of-type {\n",
       "        vertical-align: middle;\n",
       "    }\n",
       "\n",
       "    .dataframe tbody tr th {\n",
       "        vertical-align: top;\n",
       "    }\n",
       "\n",
       "    .dataframe thead th {\n",
       "        text-align: right;\n",
       "    }\n",
       "</style>\n",
       "<table border=\"1\" class=\"dataframe\">\n",
       "  <thead>\n",
       "    <tr style=\"text-align: right;\">\n",
       "      <th></th>\n",
       "      <th>Query</th>\n",
       "      <th>Class</th>\n",
       "    </tr>\n",
       "  </thead>\n",
       "  <tbody>\n",
       "    <tr>\n",
       "      <th>36836</th>\n",
       "      <td>\\r\\n\\r\\nI received my January gym membership i...</td>\n",
       "      <td>Billing</td>\n",
       "    </tr>\n",
       "    <tr>\n",
       "      <th>21016</th>\n",
       "      <td>\\r\\n\\r\\nWhat features make this convertible ma...</td>\n",
       "      <td>Product Inquiry</td>\n",
       "    </tr>\n",
       "    <tr>\n",
       "      <th>20525</th>\n",
       "      <td>\\r\\n\\r\\nDid my monthly subscription payment of...</td>\n",
       "      <td>Billing</td>\n",
       "    </tr>\n",
       "    <tr>\n",
       "      <th>26684</th>\n",
       "      <td>\\r\\n\\r\\nAre any clothes items in this collecti...</td>\n",
       "      <td>Product Inquiry</td>\n",
       "    </tr>\n",
       "    <tr>\n",
       "      <th>34357</th>\n",
       "      <td>\\r\\n\\r\\nAre you able to provide instructions o...</td>\n",
       "      <td>Returns</td>\n",
       "    </tr>\n",
       "    <tr>\n",
       "      <th>29392</th>\n",
       "      <td>\\r\\n\\r\\nI recently purchased a wireless keyboa...</td>\n",
       "      <td>Tech. Support</td>\n",
       "    </tr>\n",
       "    <tr>\n",
       "      <th>23364</th>\n",
       "      <td>\\r\\n\\r\\nI received an unusually large bill wha...</td>\n",
       "      <td>Billing</td>\n",
       "    </tr>\n",
       "    <tr>\n",
       "      <th>24749</th>\n",
       "      <td>\\r\\n\\r\\nDid you receive the wanted discount on...</td>\n",
       "      <td>Billing</td>\n",
       "    </tr>\n",
       "    <tr>\n",
       "      <th>34132</th>\n",
       "      <td>\\r\\n\\r\\nCan I return this item that I ordered ...</td>\n",
       "      <td>Returns</td>\n",
       "    </tr>\n",
       "    <tr>\n",
       "      <th>27404</th>\n",
       "      <td>\\r\\n\\r\\nWhat product(s) that you LediaCo sale(...</td>\n",
       "      <td>Returns</td>\n",
       "    </tr>\n",
       "  </tbody>\n",
       "</table>\n",
       "</div>"
      ],
      "text/plain": [
       "                                                   Query            Class\n",
       "36836  \\r\\n\\r\\nI received my January gym membership i...          Billing\n",
       "21016  \\r\\n\\r\\nWhat features make this convertible ma...  Product Inquiry\n",
       "20525  \\r\\n\\r\\nDid my monthly subscription payment of...          Billing\n",
       "26684  \\r\\n\\r\\nAre any clothes items in this collecti...  Product Inquiry\n",
       "34357  \\r\\n\\r\\nAre you able to provide instructions o...          Returns\n",
       "29392  \\r\\n\\r\\nI recently purchased a wireless keyboa...    Tech. Support\n",
       "23364  \\r\\n\\r\\nI received an unusually large bill wha...          Billing\n",
       "24749  \\r\\n\\r\\nDid you receive the wanted discount on...          Billing\n",
       "34132  \\r\\n\\r\\nCan I return this item that I ordered ...          Returns\n",
       "27404  \\r\\n\\r\\nWhat product(s) that you LediaCo sale(...          Returns"
      ]
     },
     "execution_count": 14,
     "metadata": {},
     "output_type": "execute_result"
    }
   ],
   "source": [
    "print(data.shape)\n",
    "data.sample(10)"
   ]
  },
  {
   "cell_type": "code",
   "execution_count": 15,
   "id": "51bedd5b",
   "metadata": {},
   "outputs": [
    {
     "data": {
      "text/html": [
       "<div>\n",
       "<style scoped>\n",
       "    .dataframe tbody tr th:only-of-type {\n",
       "        vertical-align: middle;\n",
       "    }\n",
       "\n",
       "    .dataframe tbody tr th {\n",
       "        vertical-align: top;\n",
       "    }\n",
       "\n",
       "    .dataframe thead th {\n",
       "        text-align: right;\n",
       "    }\n",
       "</style>\n",
       "<table border=\"1\" class=\"dataframe\">\n",
       "  <thead>\n",
       "    <tr style=\"text-align: right;\">\n",
       "      <th></th>\n",
       "      <th>Query</th>\n",
       "      <th>Class</th>\n",
       "    </tr>\n",
       "  </thead>\n",
       "  <tbody>\n",
       "    <tr>\n",
       "      <th>count</th>\n",
       "      <td>40265</td>\n",
       "      <td>40267</td>\n",
       "    </tr>\n",
       "    <tr>\n",
       "      <th>unique</th>\n",
       "      <td>39790</td>\n",
       "      <td>4</td>\n",
       "    </tr>\n",
       "    <tr>\n",
       "      <th>top</th>\n",
       "      <td>\\r\\n\\r\\nMy laptop won't turn on when I press t...</td>\n",
       "      <td>Billing</td>\n",
       "    </tr>\n",
       "    <tr>\n",
       "      <th>freq</th>\n",
       "      <td>16</td>\n",
       "      <td>10069</td>\n",
       "    </tr>\n",
       "  </tbody>\n",
       "</table>\n",
       "</div>"
      ],
      "text/plain": [
       "                                                    Query    Class\n",
       "count                                               40265    40267\n",
       "unique                                              39790        4\n",
       "top     \\r\\n\\r\\nMy laptop won't turn on when I press t...  Billing\n",
       "freq                                                   16    10069"
      ]
     },
     "execution_count": 15,
     "metadata": {},
     "output_type": "execute_result"
    }
   ],
   "source": [
    "#Summary of the dataset\n",
    "data.describe()"
   ]
  },
  {
   "cell_type": "code",
   "execution_count": 16,
   "id": "5156a74e",
   "metadata": {},
   "outputs": [
    {
     "data": {
      "text/plain": [
       "Class\n",
       "Billing            10069\n",
       "Product Inquiry    10067\n",
       "Returns            10066\n",
       "Tech. Support      10065\n",
       "Name: count, dtype: int64"
      ]
     },
     "execution_count": 16,
     "metadata": {},
     "output_type": "execute_result"
    }
   ],
   "source": [
    "data['Class'].value_counts()"
   ]
  },
  {
   "cell_type": "code",
   "execution_count": 17,
   "id": "acdda112",
   "metadata": {},
   "outputs": [
    {
     "data": {
      "text/plain": [
       "<AxesSubplot:xlabel='Class'>"
      ]
     },
     "execution_count": 17,
     "metadata": {},
     "output_type": "execute_result"
    },
    {
     "data": {
      "image/png": "[encoded data removed]",
      "text/plain": [
       "<Figure size 720x432 with 1 Axes>"
      ]
     },
     "metadata": {
      "needs_background": "light"
     },
     "output_type": "display_data"
    }
   ],
   "source": [
    "%matplotlib inline\n",
    "data.groupby('Class').agg({'Query': 'count'}).plot.bar(figsize=(10,6))"
   ]
  },
  {
   "cell_type": "code",
   "execution_count": 18,
   "id": "b9779c80",
   "metadata": {},
   "outputs": [
    {
     "data": {
      "text/plain": [
       "Index(['Query', 'Class'], dtype='object')"
      ]
     },
     "execution_count": 18,
     "metadata": {},
     "output_type": "execute_result"
    }
   ],
   "source": [
    "data.columns"
   ]
  },
  {
   "cell_type": "code",
   "execution_count": 19,
   "id": "c9db8882",
   "metadata": {},
   "outputs": [],
   "source": [
    "# Stopwords\n",
    "sw = stopwords.words(\"english\")\n",
    "\n",
    "# Some punctuation variations\n",
    "punct = list(set(punctuation))\n",
    "punct.append(\",\")\n",
    "punct = \"\".join(punct)\n",
    "tw_punct = list(set(punct) - set([\"#\"]))\n",
    "tw_punct = \"\".join(tw_punct)"
   ]
  },
  {
   "cell_type": "code",
   "execution_count": 20,
   "id": "2387d86c",
   "metadata": {},
   "outputs": [],
   "source": [
    "\n",
    "\n",
    "# Global text prep pipeline function\n",
    "def prepare(text, pipeline): \n",
    "    tokens = str(text)\n",
    "\n",
    "    for transform in pipeline: \n",
    "        tokens = transform(tokens)\n",
    "        \n",
    "    return(tokens)\n",
    "    \n",
    "# Remove Punctuation Function\n",
    "def remove_punctuation(text): \n",
    "    text = text.translate(str.maketrans(\"\", \"\", tw_punct))\n",
    "    return text\n",
    "\n",
    "# Two useful regex\n",
    "whitespace_pattern = re.compile(r\"\\s+\")\n",
    "hashtag_pattern = re.compile(r\"^#[0-9a-zA-Z]+\")\n",
    "\n",
    "# Remove White Spaces Function\n",
    "def remove_whitespace(text):\n",
    "    text = whitespace_pattern.sub(r\" \", text)\n",
    "    return text\n",
    "\n",
    "def tokenize(text):  \n",
    "    tokens = text.split(\" \")\n",
    "    # Remove empty splits\n",
    "    tokens = [x for x in tokens if x != \"\"]\n",
    "    return tokens\n",
    "\n",
    "def remove_stop(tokens):\n",
    "    tokens = [x for x in tokens if not x in sw]\n",
    "    return tokens\n",
    "\n",
    "\n",
    "\n",
    "def descriptive_stats(df_col, verbose=True) :\n",
    "    \"\"\"\n",
    "        Given a list of tokens, print number of tokens, number of unique tokens, \n",
    "        number of characters, lexical diversity, and num_tokens most common\n",
    "        tokens. Return a list of \n",
    "    \"\"\"\n",
    "    # Initialize blank counter\n",
    "    token_counter = Counter()\n",
    "    # Update counter row by row with token column\n",
    "    df_col.map(token_counter.update)\n",
    "    \n",
    "    num_tokens = sum(token_counter.values())\n",
    "    num_unique_tokens = len(token_counter)\n",
    "    lexical_diversity = num_unique_tokens / num_tokens\n",
    "\n",
    "    num_characters = 0\n",
    "    for k,v in token_counter.items():\n",
    "        token_length = len(k) * v\n",
    "        num_characters += token_length\n",
    "\n",
    "    top_tokens = token_counter.most_common(5)\n",
    "    # Convert top 5 tokens to dataframe\n",
    "    top_token_df = pd.DataFrame(top_tokens, columns = [\"Token\", \"Frequency\"])\n",
    "    \n",
    "    if verbose == True:        \n",
    "        print(f\"There are {num_tokens} tokens in the data.\")\n",
    "        print(f\"There are {num_unique_tokens} unique tokens in the data.\")\n",
    "        print(f\"There are {num_characters} characters in the data.\")\n",
    "        print(f\"The lexical diversity is {lexical_diversity:.3f} in the data.\")\n",
    "    \n",
    "        # print the five most common tokens\n",
    "        print(\"The top five most common tokens are:\")\n",
    "        print(top_token_df)\n",
    "    return([num_tokens, num_unique_tokens,\n",
    "            lexical_diversity,\n",
    "            num_characters])"
   ]
  },
  {
   "cell_type": "code",
   "execution_count": 21,
   "id": "ee1d8fe9",
   "metadata": {},
   "outputs": [],
   "source": [
    "# Apply Processing Pipeline\n",
    "prep_pipeline = [str.lower, remove_punctuation, \n",
    "                   remove_whitespace, tokenize, \n",
    "                   remove_stop]\n",
    "\n",
    "data[\"tokens\"] = data[\"Query\"].apply(\n",
    "    prepare, pipeline = prep_pipeline\n",
    ")\n"
   ]
  },
  {
   "cell_type": "code",
   "execution_count": 22,
   "id": "b566cef2",
   "metadata": {},
   "outputs": [
    {
     "data": {
      "text/html": [
       "<div>\n",
       "<style scoped>\n",
       "    .dataframe tbody tr th:only-of-type {\n",
       "        vertical-align: middle;\n",
       "    }\n",
       "\n",
       "    .dataframe tbody tr th {\n",
       "        vertical-align: top;\n",
       "    }\n",
       "\n",
       "    .dataframe thead th {\n",
       "        text-align: right;\n",
       "    }\n",
       "</style>\n",
       "<table border=\"1\" class=\"dataframe\">\n",
       "  <thead>\n",
       "    <tr style=\"text-align: right;\">\n",
       "      <th></th>\n",
       "      <th>Query</th>\n",
       "      <th>Class</th>\n",
       "      <th>tokens</th>\n",
       "    </tr>\n",
       "  </thead>\n",
       "  <tbody>\n",
       "    <tr>\n",
       "      <th>0</th>\n",
       "      <td>\\r\\n\\r\\nWhat is the PDF document stating my fi...</td>\n",
       "      <td>Billing</td>\n",
       "      <td>[pdf, document, stating, final, transaction, b...</td>\n",
       "    </tr>\n",
       "    <tr>\n",
       "      <th>1</th>\n",
       "      <td>\\r\\n\\r\\nI noticed that I was charged an additi...</td>\n",
       "      <td>Billing</td>\n",
       "      <td>[noticed, charged, additional, fee, even, thou...</td>\n",
       "    </tr>\n",
       "    <tr>\n",
       "      <th>2</th>\n",
       "      <td>\\r\\n\\r\\nI charged 83.00 a payment on my card b...</td>\n",
       "      <td>Billing</td>\n",
       "      <td>[charged, 8300, payment, card, still, seen, cr...</td>\n",
       "    </tr>\n",
       "    <tr>\n",
       "      <th>3</th>\n",
       "      <td>\\r\\n\\r\\nWhat address should I use to send this...</td>\n",
       "      <td>Billing</td>\n",
       "      <td>[address, use, send, customers, invoice, recen...</td>\n",
       "    </tr>\n",
       "    <tr>\n",
       "      <th>4</th>\n",
       "      <td>\\r\\n\\r\\nI noticed an pending charge on my cell...</td>\n",
       "      <td>Billing</td>\n",
       "      <td>[noticed, pending, charge, cellular, phone, bi...</td>\n",
       "    </tr>\n",
       "  </tbody>\n",
       "</table>\n",
       "</div>"
      ],
      "text/plain": [
       "                                               Query    Class  \\\n",
       "0  \\r\\n\\r\\nWhat is the PDF document stating my fi...  Billing   \n",
       "1  \\r\\n\\r\\nI noticed that I was charged an additi...  Billing   \n",
       "2  \\r\\n\\r\\nI charged 83.00 a payment on my card b...  Billing   \n",
       "3  \\r\\n\\r\\nWhat address should I use to send this...  Billing   \n",
       "4  \\r\\n\\r\\nI noticed an pending charge on my cell...  Billing   \n",
       "\n",
       "                                              tokens  \n",
       "0  [pdf, document, stating, final, transaction, b...  \n",
       "1  [noticed, charged, additional, fee, even, thou...  \n",
       "2  [charged, 8300, payment, card, still, seen, cr...  \n",
       "3  [address, use, send, customers, invoice, recen...  \n",
       "4  [noticed, pending, charge, cellular, phone, bi...  "
      ]
     },
     "execution_count": 22,
     "metadata": {},
     "output_type": "execute_result"
    }
   ],
   "source": [
    "data.head()"
   ]
  },
  {
   "cell_type": "code",
   "execution_count": 23,
   "id": "dd918bc3",
   "metadata": {},
   "outputs": [],
   "source": [
    "data[\"num_tokens\"] = data[\"tokens\"].map(len)"
   ]
  },
  {
   "cell_type": "code",
   "execution_count": 24,
   "id": "5a611e63",
   "metadata": {},
   "outputs": [
    {
     "name": "stdout",
     "output_type": "stream",
     "text": [
      "Descriptive Stats:\n",
      "\n",
      "There are 364409 tokens in the data.\n",
      "There are 21031 unique tokens in the data.\n",
      "There are 2295525 characters in the data.\n",
      "The lexical diversity is 0.058 in the data.\n",
      "The top five most common tokens are:\n",
      "       Token  Frequency\n",
      "0     return       8343\n",
      "1    product       6412\n",
      "2       item       5398\n",
      "3  purchased       4106\n",
      "4    payment       3736\n",
      "[364409, 21031, 0.057712625099819156, 2295525]\n"
     ]
    }
   ],
   "source": [
    "print(\"Descriptive Stats:\\n\")\n",
    "print(descriptive_stats(data[\"tokens\"]))\n"
   ]
  },
  {
   "cell_type": "code",
   "execution_count": 25,
   "id": "b4ec7201",
   "metadata": {},
   "outputs": [],
   "source": [
    "# Save the preprocessed data to a new CSV file\n",
    "#data.to_csv('preprocessed_data.csv', index=False)"
   ]
  },
  {
   "cell_type": "code",
   "execution_count": null,
   "id": "3a140745",
   "metadata": {},
   "outputs": [],
   "source": []
  },
  {
   "cell_type": "code",
   "execution_count": null,
   "id": "66e7541e",
   "metadata": {},
   "outputs": [],
   "source": []
  },
  {
   "cell_type": "code",
   "execution_count": null,
   "id": "857b6d67",
   "metadata": {},
   "outputs": [],
   "source": []
  }
 ],
 "metadata": {
  "kernelspec": {
   "display_name": "Python 3 (ipykernel)",
   "language": "python",
   "name": "python3"
  },
  "language_info": {
   "codemirror_mode": {
    "name": "ipython",
    "version": 3
   },
   "file_extension": ".py",
   "mimetype": "text/x-python",
   "name": "python",
   "nbconvert_exporter": "python",
   "pygments_lexer": "ipython3",
   "version": "3.9.7"
  }
 },
 "nbformat": 4,
 "nbformat_minor": 5
}
