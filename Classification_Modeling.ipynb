{
  "nbformat": 4,
  "nbformat_minor": 0,
  "metadata": {
    "colab": {
      "provenance": []
    },
    "kernelspec": {
      "name": "python3",
      "display_name": "Python 3"
    },
    "language_info": {
      "name": "python"
    }
  },
  "cells": [
    {
      "cell_type": "markdown",
      "source": [
        "# Customer Query Classification\n",
        "### Fatemeh Khosravi & Hoori Javadnia"
      ],
      "metadata": {
        "id": "FZbhNYEoN_YK"
      }
    },
    {
      "cell_type": "markdown",
      "source": [
        "### Classification Modeling"
      ],
      "metadata": {
        "id": "n7RcfysLOO_w"
      }
    },
    {
      "cell_type": "code",
      "source": [
        "#!pip install plotly\n",
        "#!python -m nltk.downloader stopwords\n",
        "#!pip install --upgrade scikit-learn\n",
        "#!pip install transformers"
      ],
      "metadata": {
        "id": "P_AHRcnqOGnJ"
      },
      "execution_count": null,
      "outputs": []
    },
    {
      "cell_type": "code",
      "source": [
        "import pandas as pd\n",
        "from collections import OrderedDict\n",
        "import matplotlib.pyplot as plt\n",
        "import seaborn as sns\n",
        "import plotly.offline as py\n",
        "%matplotlib inline\n",
        "from collections import Counter, defaultdict\n",
        "from string import punctuation\n",
        "from nltk.corpus import stopwords\n",
        "from nltk.metrics import ConfusionMatrix\n",
        "from nltk.tokenize import word_tokenize\n",
        "import random\n",
        "import re\n",
        "re.compile('<title>(.*)</title>')\n",
        "import nltk\n",
        "from collections import Counter, defaultdict\n",
        "from nltk.corpus import stopwords\n",
        "from string import punctuation\n",
        "from wordcloud import WordCloud\n",
        "from nltk.corpus import stopwords\n",
        "from sklearn.model_selection import train_test_split\n",
        "from sklearn.feature_extraction.text import TfidfVectorizer\n",
        "from sklearn.svm import LinearSVC, SVC\n",
        "from sklearn.metrics import accuracy_score\n",
        "from sklearn.metrics import confusion_matrix, ConfusionMatrixDisplay\n",
        "from sklearn.metrics import classification_report\n",
        "from sklearn.pipeline import Pipeline\n",
        "from sklearn.model_selection import GridSearchCV\n",
        "from sklearn.model_selection import cross_val_score\n",
        "import sklearn.metrics as metrics\n",
        "from sklearn.naive_bayes import MultinomialNB"
      ],
      "metadata": {
        "id": "idZEkSYUP_l1"
      },
      "execution_count": 64,
      "outputs": []
    },
    {
      "cell_type": "markdown",
      "source": [
        "### Read the Data"
      ],
      "metadata": {
        "id": "hff--mcZNMlO"
      }
    },
    {
      "cell_type": "code",
      "source": [
        "# Read data\n",
        "\n",
        "customer_queries = pd.read_csv('customer_query.csv')"
      ],
      "metadata": {
        "id": "hODEbB6a2TWw"
      },
      "execution_count": 65,
      "outputs": []
    },
    {
      "cell_type": "markdown",
      "source": [
        "### Clean the Data"
      ],
      "metadata": {
        "id": "pT8gAaP0NPBN"
      }
    },
    {
      "cell_type": "code",
      "source": [
        "# Some punctuation variations\n",
        "\n",
        "punctuation = set(punctuation)\n",
        "\n",
        "\n",
        "# Stopwords\n",
        "\n",
        "sw = stopwords.words(\"english\")\n",
        "\n",
        "\n",
        "# Useful regex\n",
        "\n",
        "whitespace_pattern = re.compile(r\"\\s+\")\n",
        "\n",
        "\n",
        "#Descriptive function\n",
        "\n",
        "def descriptive_stats(tokens, num_tokens = 10, verbose=True) :\n",
        "    \"\"\"\n",
        "        Given a list of tokens, print number of tokens, number of unique tokens,\n",
        "        number of characters, lexical diversity, and num_tokens most common\n",
        "        tokens. Return a list of\n",
        "    \"\"\"\n",
        "\n",
        "    if verbose :\n",
        "        print(f\"There are {len(tokens)} tokens in the data.\")\n",
        "        print(f\"There are {len(set(tokens))} unique tokens in the data.\")\n",
        "        print(f\"There are {len(''.join(tokens))} characters in the data.\")\n",
        "        print(f\"The lexical diversity is {len(set(tokens))/len(tokens):.3f} in the data.\")\n",
        "\n",
        "        counts = Counter(tokens)\n",
        "\n",
        "        if num_tokens > 0 :\n",
        "            print(\"The top ten most common tokens are:\")\n",
        "            top_tokens=counts.most_common(num_tokens)\n",
        "            top_token_df = pd.DataFrame(top_tokens, columns = [\"Token\", \"Frequency\"])\n",
        "            print(top_token_df)\n",
        "\n",
        "    return([len(tokens),\n",
        "           len(set(tokens)),\n",
        "           len(\"\".join(tokens)),\n",
        "           len(set(tokens))/len(tokens)])\n",
        "\n",
        "\n",
        "\n",
        "\n",
        "\n",
        "# Remove stop words\n",
        "\n",
        "def remove_stop(tokens) :\n",
        "    return([t for t in tokens if t.lower() not in sw])\n",
        "\n",
        "# Remove punctuation\n",
        "\n",
        "def remove_punctuation(text, punct_set=punctuation) :\n",
        "    return(\"\".join([ch for ch in text if ch not in punct_set]))\n",
        "\n",
        "# Remove white space\n",
        "\n",
        "def remove_whitespace(text):\n",
        "    text = whitespace_pattern.sub(r\" \", text)\n",
        "    return text\n",
        "\n",
        "# Tokenization\n",
        "\n",
        "def tokenize(text) :\n",
        "    \"\"\" Splitting on whitespace rather than the book's tokenize function. That\n",
        "        function will drop tokens like '#hashtag' or '2A', which we need for Twitter. \"\"\"\n",
        "\n",
        "    return([t for t in whitespace_pattern.split(text) if t])\n",
        "\n",
        "# Join tokens\n",
        "\n",
        "def join_tokens(tokens):\n",
        "\n",
        "    text = \" \".join(tokens)\n",
        "\n",
        "    return(text)\n",
        "\n",
        "\n",
        "# Pipeline function\n",
        "\n",
        "def prepare(text, pipeline) :\n",
        "    tokens = str(text)\n",
        "\n",
        "    for transform in pipeline :\n",
        "        tokens = transform(tokens)\n",
        "\n",
        "    return(tokens)\n"
      ],
      "metadata": {
        "id": "0ALhVtBSKrHW"
      },
      "execution_count": 66,
      "outputs": []
    },
    {
      "cell_type": "code",
      "source": [
        "# Apply processing pipeline\n",
        "\n",
        "prep_pipeline = [str.lower, remove_punctuation,remove_whitespace, tokenize, remove_stop, join_tokens]\n",
        "\n",
        "# Tokenization on 'Query' column\n",
        "\n",
        "customer_queries[\"tokens\"] = customer_queries[\"Query\"].apply(prepare, pipeline = prep_pipeline)\n",
        "\n",
        "customer_queries.sample(10)\n"
      ],
      "metadata": {
        "colab": {
          "base_uri": "https://localhost:8080/",
          "height": 363
        },
        "id": "voOiknrGKtv4",
        "outputId": "2c2fe991-1ffd-452f-e087-09e6342d08f9"
      },
      "execution_count": 67,
      "outputs": [
        {
          "output_type": "execute_result",
          "data": {
            "text/plain": [
              "                                                   Query          Class  \\\n",
              "6782   \\r\\n\\r\\nMy WiFi is not connecting, what do I n...  Tech. Support   \n",
              "9628   \\r\\n\\r\\nHow can I pay my bill quickly and secu...        Billing   \n",
              "17849  \\r\\n\\r\\nI recently purchased an item from your...        Returns   \n",
              "24020  \\r\\n\\r\\nCompany Striker asks: Is the card info...        Billing   \n",
              "5223   \\r\\n\\r\\nWas there any bit of damage to the del...        Returns   \n",
              "1262   \\r\\n\\r\\nDo I need to provide proof of purchase...        Returns   \n",
              "30009  \\r\\n\\r\\nI have a problem with email not loadin...  Tech. Support   \n",
              "21977  \\r\\n\\r\\nI bought a product from your store rec...        Returns   \n",
              "39189  \\r\\n\\r\\nWhy have I not received a replaced ite...        Returns   \n",
              "29706  \\r\\n\\r\\nI reinstalled my printer on my laptop,...  Tech. Support   \n",
              "\n",
              "                                                  tokens  \n",
              "6782               wifi connecting need order get online  \n",
              "9628                           pay bill quickly securely  \n",
              "17849  recently purchased item store quality also exp...  \n",
              "24020  company striker asks card information provided...  \n",
              "5223   bit damage delivered order partially refunding...  \n",
              "1262                  need provide proof purchase return  \n",
              "30009  problem email loading properly laptop open get...  \n",
              "21977  bought product store recently meeting expectat...  \n",
              "39189  received replaced item order even though state...  \n",
              "29706  reinstalled printer laptop computer wont recog...  "
            ],
            "text/html": [
              "\n",
              "  <div id=\"df-a1855ff3-5bf2-459d-824b-69fd07c6f17c\">\n",
              "    <div class=\"colab-df-container\">\n",
              "      <div>\n",
              "<style scoped>\n",
              "    .dataframe tbody tr th:only-of-type {\n",
              "        vertical-align: middle;\n",
              "    }\n",
              "\n",
              "    .dataframe tbody tr th {\n",
              "        vertical-align: top;\n",
              "    }\n",
              "\n",
              "    .dataframe thead th {\n",
              "        text-align: right;\n",
              "    }\n",
              "</style>\n",
              "<table border=\"1\" class=\"dataframe\">\n",
              "  <thead>\n",
              "    <tr style=\"text-align: right;\">\n",
              "      <th></th>\n",
              "      <th>Query</th>\n",
              "      <th>Class</th>\n",
              "      <th>tokens</th>\n",
              "    </tr>\n",
              "  </thead>\n",
              "  <tbody>\n",
              "    <tr>\n",
              "      <th>6782</th>\n",
              "      <td>\\r\\n\\r\\nMy WiFi is not connecting, what do I n...</td>\n",
              "      <td>Tech. Support</td>\n",
              "      <td>wifi connecting need order get online</td>\n",
              "    </tr>\n",
              "    <tr>\n",
              "      <th>9628</th>\n",
              "      <td>\\r\\n\\r\\nHow can I pay my bill quickly and secu...</td>\n",
              "      <td>Billing</td>\n",
              "      <td>pay bill quickly securely</td>\n",
              "    </tr>\n",
              "    <tr>\n",
              "      <th>17849</th>\n",
              "      <td>\\r\\n\\r\\nI recently purchased an item from your...</td>\n",
              "      <td>Returns</td>\n",
              "      <td>recently purchased item store quality also exp...</td>\n",
              "    </tr>\n",
              "    <tr>\n",
              "      <th>24020</th>\n",
              "      <td>\\r\\n\\r\\nCompany Striker asks: Is the card info...</td>\n",
              "      <td>Billing</td>\n",
              "      <td>company striker asks card information provided...</td>\n",
              "    </tr>\n",
              "    <tr>\n",
              "      <th>5223</th>\n",
              "      <td>\\r\\n\\r\\nWas there any bit of damage to the del...</td>\n",
              "      <td>Returns</td>\n",
              "      <td>bit damage delivered order partially refunding...</td>\n",
              "    </tr>\n",
              "    <tr>\n",
              "      <th>1262</th>\n",
              "      <td>\\r\\n\\r\\nDo I need to provide proof of purchase...</td>\n",
              "      <td>Returns</td>\n",
              "      <td>need provide proof purchase return</td>\n",
              "    </tr>\n",
              "    <tr>\n",
              "      <th>30009</th>\n",
              "      <td>\\r\\n\\r\\nI have a problem with email not loadin...</td>\n",
              "      <td>Tech. Support</td>\n",
              "      <td>problem email loading properly laptop open get...</td>\n",
              "    </tr>\n",
              "    <tr>\n",
              "      <th>21977</th>\n",
              "      <td>\\r\\n\\r\\nI bought a product from your store rec...</td>\n",
              "      <td>Returns</td>\n",
              "      <td>bought product store recently meeting expectat...</td>\n",
              "    </tr>\n",
              "    <tr>\n",
              "      <th>39189</th>\n",
              "      <td>\\r\\n\\r\\nWhy have I not received a replaced ite...</td>\n",
              "      <td>Returns</td>\n",
              "      <td>received replaced item order even though state...</td>\n",
              "    </tr>\n",
              "    <tr>\n",
              "      <th>29706</th>\n",
              "      <td>\\r\\n\\r\\nI reinstalled my printer on my laptop,...</td>\n",
              "      <td>Tech. Support</td>\n",
              "      <td>reinstalled printer laptop computer wont recog...</td>\n",
              "    </tr>\n",
              "  </tbody>\n",
              "</table>\n",
              "</div>\n",
              "      <button class=\"colab-df-convert\" onclick=\"convertToInteractive('df-a1855ff3-5bf2-459d-824b-69fd07c6f17c')\"\n",
              "              title=\"Convert this dataframe to an interactive table.\"\n",
              "              style=\"display:none;\">\n",
              "        \n",
              "  <svg xmlns=\"http://www.w3.org/2000/svg\" height=\"24px\"viewBox=\"0 0 24 24\"\n",
              "       width=\"24px\">\n",
              "    <path d=\"M0 0h24v24H0V0z\" fill=\"none\"/>\n",
              "    <path d=\"M18.56 5.44l.94 2.06.94-2.06 2.06-.94-2.06-.94-.94-2.06-.94 2.06-2.06.94zm-11 1L8.5 8.5l.94-2.06 2.06-.94-2.06-.94L8.5 2.5l-.94 2.06-2.06.94zm10 10l.94 2.06.94-2.06 2.06-.94-2.06-.94-.94-2.06-.94 2.06-2.06.94z\"/><path d=\"M17.41 7.96l-1.37-1.37c-.4-.4-.92-.59-1.43-.59-.52 0-1.04.2-1.43.59L10.3 9.45l-7.72 7.72c-.78.78-.78 2.05 0 2.83L4 21.41c.39.39.9.59 1.41.59.51 0 1.02-.2 1.41-.59l7.78-7.78 2.81-2.81c.8-.78.8-2.07 0-2.86zM5.41 20L4 18.59l7.72-7.72 1.47 1.35L5.41 20z\"/>\n",
              "  </svg>\n",
              "      </button>\n",
              "      \n",
              "  <style>\n",
              "    .colab-df-container {\n",
              "      display:flex;\n",
              "      flex-wrap:wrap;\n",
              "      gap: 12px;\n",
              "    }\n",
              "\n",
              "    .colab-df-convert {\n",
              "      background-color: #E8F0FE;\n",
              "      border: none;\n",
              "      border-radius: 50%;\n",
              "      cursor: pointer;\n",
              "      display: none;\n",
              "      fill: #1967D2;\n",
              "      height: 32px;\n",
              "      padding: 0 0 0 0;\n",
              "      width: 32px;\n",
              "    }\n",
              "\n",
              "    .colab-df-convert:hover {\n",
              "      background-color: #E2EBFA;\n",
              "      box-shadow: 0px 1px 2px rgba(60, 64, 67, 0.3), 0px 1px 3px 1px rgba(60, 64, 67, 0.15);\n",
              "      fill: #174EA6;\n",
              "    }\n",
              "\n",
              "    [theme=dark] .colab-df-convert {\n",
              "      background-color: #3B4455;\n",
              "      fill: #D2E3FC;\n",
              "    }\n",
              "\n",
              "    [theme=dark] .colab-df-convert:hover {\n",
              "      background-color: #434B5C;\n",
              "      box-shadow: 0px 1px 3px 1px rgba(0, 0, 0, 0.15);\n",
              "      filter: drop-shadow(0px 1px 2px rgba(0, 0, 0, 0.3));\n",
              "      fill: #FFFFFF;\n",
              "    }\n",
              "  </style>\n",
              "\n",
              "      <script>\n",
              "        const buttonEl =\n",
              "          document.querySelector('#df-a1855ff3-5bf2-459d-824b-69fd07c6f17c button.colab-df-convert');\n",
              "        buttonEl.style.display =\n",
              "          google.colab.kernel.accessAllowed ? 'block' : 'none';\n",
              "\n",
              "        async function convertToInteractive(key) {\n",
              "          const element = document.querySelector('#df-a1855ff3-5bf2-459d-824b-69fd07c6f17c');\n",
              "          const dataTable =\n",
              "            await google.colab.kernel.invokeFunction('convertToInteractive',\n",
              "                                                     [key], {});\n",
              "          if (!dataTable) return;\n",
              "\n",
              "          const docLinkHtml = 'Like what you see? Visit the ' +\n",
              "            '<a target=\"_blank\" href=https://colab.research.google.com/notebooks/data_table.ipynb>data table notebook</a>'\n",
              "            + ' to learn more about interactive tables.';\n",
              "          element.innerHTML = '';\n",
              "          dataTable['output_type'] = 'display_data';\n",
              "          await google.colab.output.renderOutput(dataTable, element);\n",
              "          const docLink = document.createElement('div');\n",
              "          docLink.innerHTML = docLinkHtml;\n",
              "          element.appendChild(docLink);\n",
              "        }\n",
              "      </script>\n",
              "    </div>\n",
              "  </div>\n",
              "  "
            ]
          },
          "metadata": {},
          "execution_count": 67
        }
      ]
    },
    {
      "cell_type": "markdown",
      "source": [
        "###  Exploratory Naive Bayes\n",
        "\n",
        "We'll first build a NB model on the query data itself, as a way to understand what words distinguish between the four classes. First, pull in the query for each class and prepare it for use in Naive Bayes.\n",
        "\n",
        "We will use the DataFrame.itertuples() function to iterate over each of the row of the customer_queries Dataframe and construct a list out of the query and related class of each row."
      ],
      "metadata": {
        "id": "IRexGZzuh2tT"
      }
    },
    {
      "cell_type": "code",
      "source": [
        "query_data =[]\n",
        "\n",
        "# Iterate over each row\n",
        "for row in customer_queries.itertuples():\n",
        "    Query=row.Query\n",
        "    Class= row.Class\n",
        "    clean_text=prepare(Query, pipeline=prep_pipeline)\n",
        "\n",
        "    # append the list to the final list\n",
        "    query_data.append([clean_text, Class])\n",
        "\n",
        "random.choices(query_data,k=10)"
      ],
      "metadata": {
        "colab": {
          "base_uri": "https://localhost:8080/"
        },
        "id": "hiJiHnIBiUt5",
        "outputId": "bd83ca4a-d721-4f5f-9491-d5a56190b6e7"
      },
      "execution_count": 68,
      "outputs": [
        {
          "output_type": "execute_result",
          "data": {
            "text/plain": [
              "[['payment options recent purchase', 'Billing'],\n",
              " ['information need order process return physical receipt bank record purchase count proof purchase',\n",
              "  'Returns'],\n",
              " ['computer randomly deleting files im worried perhaps drive corrupt something blocking accessing fix',\n",
              "  'Tech. Support'],\n",
              " ['product installed outdoors', 'Product Inquiry'],\n",
              " ['im considering buying large bidet weatherseasonal changes affect models large bidets reliable',\n",
              "  'Product Inquiry'],\n",
              " ['much interference productcreate phone line im connected wirelessly',\n",
              "  'Product Inquiry'],\n",
              " ['billing office didnt receive first installment invoiced earlier – find way process payments yet',\n",
              "  'Billing'],\n",
              " ['new laptop wont turn despite fully charged', 'Tech. Support'],\n",
              " ['saw similar product website strikes costeffective difference product one circumstance one better',\n",
              "  'Product Inquiry'],\n",
              " ['invoice total payments remedies case issue payment', 'Billing']]"
            ]
          },
          "metadata": {},
          "execution_count": 68
        }
      ]
    },
    {
      "cell_type": "markdown",
      "source": [
        "### Make Function to Turn Tokens into Features\n",
        "\n",
        "* We wanted to keep the number of features reasonable, so we only used words that occur at least word_cutoff times (in our case 5).  \n",
        "\n",
        "As we can see the total number of features with word_cutoff = 0 is 20,993 and the total number of features with word_cutoff=5 is 3,950\n",
        "  "
      ],
      "metadata": {
        "id": "xFGZKbItMyyE"
      }
    },
    {
      "cell_type": "code",
      "source": [
        "# without cut off\n",
        "\n",
        "word_cutoff = 0\n",
        "\n",
        "tokens = [w for q, c in query_data for w in q.split()]\n",
        "\n",
        "word_dist = nltk.FreqDist(tokens)\n",
        "\n",
        "feature_words = set()\n",
        "\n",
        "for word, count in word_dist.items() :\n",
        "    if count > word_cutoff :\n",
        "        feature_words.add(word)\n",
        "\n",
        "print(f\"With a word cutoff of {word_cutoff}, we have {len(feature_words)} as features in the model.\")\n"
      ],
      "metadata": {
        "colab": {
          "base_uri": "https://localhost:8080/"
        },
        "id": "quQQ4aBoOIv2",
        "outputId": "91aa8ece-a904-410d-ab48-7c3426f92be8"
      },
      "execution_count": 69,
      "outputs": [
        {
          "output_type": "stream",
          "name": "stdout",
          "text": [
            "With a word cutoff of 0, we have 20993 as features in the model.\n"
          ]
        }
      ]
    },
    {
      "cell_type": "code",
      "source": [
        "# with cut off\n",
        "\n",
        "word_cutoff = 5\n",
        "\n",
        "tokens = [w for q, c in query_data for w in q.split()]\n",
        "\n",
        "word_dist = nltk.FreqDist(tokens)\n",
        "\n",
        "feature_words_cutoff = set()\n",
        "\n",
        "for word, count in word_dist.items() :\n",
        "    if count > word_cutoff :\n",
        "        feature_words_cutoff.add(word)\n",
        "\n",
        "print(f\"With a word cutoff of {word_cutoff}, we have {len(feature_words_cutoff)} as features in the model.\")"
      ],
      "metadata": {
        "colab": {
          "base_uri": "https://localhost:8080/"
        },
        "id": "jn9ZxlYtBC5W",
        "outputId": "8e7b3fe3-a075-43c0-9716-b6187f76e3bf"
      },
      "execution_count": 70,
      "outputs": [
        {
          "output_type": "stream",
          "name": "stdout",
          "text": [
            "With a word cutoff of 5, we have 3950 as features in the model.\n"
          ]
        }
      ]
    },
    {
      "cell_type": "code",
      "source": [
        "def query_features(text,fw) :\n",
        "    \"\"\"Given some text, this returns a dictionary holding the\n",
        "       feature words.\n",
        "\n",
        "       Args:\n",
        "            * text: a piece of text in a continuous string. Assumes\n",
        "            text has been cleaned and case folded.\n",
        "            * fw: the *feature words* that we're considering. A word\n",
        "            in `text` must be in fw in order to be returned. This\n",
        "            prevents us from considering very rarely occurring words.\n",
        "\n",
        "       Returns:\n",
        "            A dictionary with the words in `text` that appear in `fw`.\n",
        "            Words are only counted once.\n",
        "            If `text` were \"quick quick brown fox\" and `fw` = {'quick','fox','jumps'},\n",
        "            then this would return a dictionary of\n",
        "            {'quick' : True,\n",
        "             'fox' :    True}\n",
        "\n",
        "    \"\"\"\n",
        "\n",
        "\n",
        "    ret_dict = dict()\n",
        "\n",
        "    for word in text.split():\n",
        "        if word in fw:\n",
        "            ret_dict [word]=True\n",
        "    return(ret_dict)"
      ],
      "metadata": {
        "id": "luRdLKXJSd7k"
      },
      "execution_count": 71,
      "outputs": []
    },
    {
      "cell_type": "markdown",
      "source": [
        "###  Build our Feature Set"
      ],
      "metadata": {
        "id": "zmfaZ19QyquC"
      }
    },
    {
      "cell_type": "code",
      "source": [
        "featuresets = [(query_features(q,feature_words_cutoff),c) for (q, c) in query_data]"
      ],
      "metadata": {
        "id": "dCBPXKx0Ss3L"
      },
      "execution_count": 72,
      "outputs": []
    },
    {
      "cell_type": "code",
      "source": [
        "random.seed(123)\n",
        "random.shuffle(featuresets)\n",
        "test_size = 2000\n",
        "test_set, train_set = featuresets[:test_size], featuresets[test_size:]\n",
        "classifier = nltk.NaiveBayesClassifier.train(train_set)\n",
        "print(nltk.classify.accuracy(classifier, test_set))"
      ],
      "metadata": {
        "colab": {
          "base_uri": "https://localhost:8080/"
        },
        "id": "tBbzvhA57uKk",
        "outputId": "2958a1e0-6024-4cba-8e30-e86f1fe3eb09"
      },
      "execution_count": 73,
      "outputs": [
        {
          "output_type": "stream",
          "name": "stdout",
          "text": [
            "0.94\n"
          ]
        }
      ]
    },
    {
      "cell_type": "markdown",
      "source": [
        "### Feature Importance\n",
        "\n",
        "Out of the top 25 words, 8 words are repeated more often in 'Return', 9 words are repeated more often in 'Billing' and 8 top words among 25 words are related to 'Tech Support’.\n",
        "* It seems that the 'Return' class put a lot of emphasis on words like refund which is reasonable while people will ask refund for their returning items.\n",
        "\n",
        "* In ‘Billing’ class we can see top words are billing, statement, total, payment etc.\n",
        "\n",
        "* For ‘Tech. Support’ class words like connect, connection, computer and networks show most of queries are related to the hardware and or software aplications.\n",
        "\n",
        "* Among top 25 words there are no words related to the ‘Product Inquiry’ class.  "
      ],
      "metadata": {
        "id": "wiOZQV-88SHw"
      }
    },
    {
      "cell_type": "code",
      "source": [
        "classifier.show_most_informative_features(25)"
      ],
      "metadata": {
        "colab": {
          "base_uri": "https://localhost:8080/"
        },
        "id": "_jtIQnXhxS2v",
        "outputId": "ef8dd64d-0e41-47d0-c38b-9a533e07aeea"
      },
      "execution_count": 74,
      "outputs": [
        {
          "output_type": "stream",
          "name": "stdout",
          "text": [
            "Most Informative Features\n",
            "                  refund = True           Return : Tech.  =   1202.6 : 1.0\n",
            "                  return = True           Return : Tech.  =    778.1 : 1.0\n",
            "                    turn = True           Tech.  : Billin =    645.5 : 1.0\n",
            "                  laptop = True           Tech.  : Billin =    628.7 : 1.0\n",
            "                    bill = True           Billin : Tech.  =    627.2 : 1.0\n",
            "                 billing = True           Billin : Return =    585.3 : 1.0\n",
            "               returning = True           Return : Tech.  =    507.3 : 1.0\n",
            "                 balance = True           Billin : Return =    503.5 : 1.0\n",
            "                  policy = True           Return : Tech.  =    415.8 : 1.0\n",
            "                   total = True           Billin : Tech.  =    375.9 : 1.0\n",
            "              connection = True           Tech.  : Return =    348.5 : 1.0\n",
            "                 connect = True           Tech.  : Return =    347.3 : 1.0\n",
            "                 payment = True           Billin : Tech.  =    314.6 : 1.0\n",
            "                computer = True           Tech.  : Billin =    313.8 : 1.0\n",
            "                 printer = True           Tech.  : Return =    296.8 : 1.0\n",
            "                 network = True           Tech.  : Return =    295.9 : 1.0\n",
            "               statement = True           Billin : Produc =    289.5 : 1.0\n",
            "                    item = True           Return : Tech.  =    253.9 : 1.0\n",
            "                 charges = True           Billin : Tech.  =    251.6 : 1.0\n",
            "                 confirm = True           Billin : Tech.  =    240.0 : 1.0\n",
            "                   keeps = True           Tech.  : Return =    238.7 : 1.0\n",
            "                  credit = True           Billin : Tech.  =    235.5 : 1.0\n",
            "                  billed = True           Billin : Return =    221.9 : 1.0\n",
            "                internet = True           Tech.  : Return =    216.7 : 1.0\n",
            "                wireless = True           Tech.  : Return =    208.7 : 1.0\n"
          ]
        }
      ]
    },
    {
      "cell_type": "markdown",
      "source": [
        "Let's take a random sample and see how our classifer does."
      ],
      "metadata": {
        "id": "pM1EHn-6I0CH"
      }
    },
    {
      "cell_type": "code",
      "source": [
        "query_data_sample = random.choices(query_data,k=10)\n",
        "\n",
        "for Query, Class in query_data_sample :\n",
        "    estimated_class = classifier.classify(query_features(Query,feature_words_cutoff))\n",
        "\n",
        "\n",
        "    print(f\"Here's our (cleaned) query: {Query}\")\n",
        "    print(f\"Actual class is {Class} and our classifer says { estimated_class}.\")\n",
        "    print(\"\")\n"
      ],
      "metadata": {
        "colab": {
          "base_uri": "https://localhost:8080/"
        },
        "id": "8ad1JCSWI8K4",
        "outputId": "f83eeb43-9ee3-496a-a755-3b91bfa331a3"
      },
      "execution_count": 83,
      "outputs": [
        {
          "output_type": "stream",
          "name": "stdout",
          "text": [
            "Here's our (cleaned) query: gmail account examplegmailcom longer appears login desktop screen\n",
            "Actual class is Tech. Support and our classifer says Tech. Support.\n",
            "\n",
            "Here's our (cleaned) query: product enlarged fit ipad pro\n",
            "Actual class is Product Inquiry and our classifer says Product Inquiry.\n",
            "\n",
            "Here's our (cleaned) query: customer reviews product verified many customers happy purchases\n",
            "Actual class is Product Inquiry and our classifer says Returns.\n",
            "\n",
            "Here's our (cleaned) query: recently purchased toaster store noticed wasnt heating food making error4t wanted see could resolve issue\n",
            "Actual class is Product Inquiry and our classifer says Product Inquiry.\n",
            "\n",
            "Here's our (cleaned) query: payment method use pay balance 425 due date april 13th\n",
            "Actual class is Billing and our classifer says Billing.\n",
            "\n",
            "Here's our (cleaned) query: balance due last statement account number 1254mpjnh\n",
            "Actual class is Billing and our classifer says Billing.\n",
            "\n",
            "Here's our (cleaned) query: oven wont heat set temperature something fix without needing repair technician\n",
            "Actual class is Product Inquiry and our classifer says Product Inquiry.\n",
            "\n",
            "Here's our (cleaned) query: installed new router im issues connecting without disconnected every minutes\n",
            "Actual class is Tech. Support and our classifer says Tech. Support.\n",
            "\n",
            "Here's our (cleaned) query: get break charges account easier reporting business\n",
            "Actual class is Billing and our classifer says Billing.\n",
            "\n",
            "Here's our (cleaned) query: expected durability waterproof hiking boots benefit warranties long observe wear tear\n",
            "Actual class is Product Inquiry and our classifer says Product Inquiry.\n",
            "\n"
          ]
        }
      ]
    },
    {
      "cell_type": "markdown",
      "source": [
        "Now that we've looked at it some, let's score a bunch and see how we're doing."
      ],
      "metadata": {
        "id": "CEI8hkb8MVac"
      }
    },
    {
      "cell_type": "code",
      "source": [
        "featuresets = [(query_features(q,feature_words_cutoff), c) for (q, c) in query_data]\n",
        "accuracy=nltk.classify.accuracy(classifier, featuresets)\n",
        "print(round(accuracy,2))"
      ],
      "metadata": {
        "colab": {
          "base_uri": "https://localhost:8080/"
        },
        "id": "Sww6eBMwNlAu",
        "outputId": "5356b92a-fc27-4bdd-bb21-2e9accb9ef45"
      },
      "execution_count": 84,
      "outputs": [
        {
          "output_type": "stream",
          "name": "stdout",
          "text": [
            "0.95\n"
          ]
        }
      ]
    },
    {
      "cell_type": "markdown",
      "source": [
        "### Train Test Split"
      ],
      "metadata": {
        "id": "Fg5WrBpXUhKg"
      }
    },
    {
      "cell_type": "code",
      "source": [
        "data= customer_queries[['tokens','Class']]\n",
        "\n",
        "# Train test split\n",
        "X_train, X_test, Y_train, Y_test = train_test_split(data['tokens'],data['Class'],test_size=0.2,\n",
        "                                                    random_state=42, stratify=data['Class'])\n",
        "\n",
        "\n",
        "print('Size of Training Data ', X_train.shape[0])\n",
        "print('Size of Test Data ', X_test.shape[0])\n"
      ],
      "metadata": {
        "colab": {
          "base_uri": "https://localhost:8080/"
        },
        "id": "nb2_wdq5RG0Q",
        "outputId": "1df41a2b-d48e-418a-ddd9-a988395c14c5"
      },
      "execution_count": 85,
      "outputs": [
        {
          "output_type": "stream",
          "name": "stdout",
          "text": [
            "Size of Training Data  32213\n",
            "Size of Test Data  8054\n"
          ]
        }
      ]
    },
    {
      "cell_type": "markdown",
      "source": [
        "### Term-Frequency Inverse Document Frequency (TF- IDF) vectorization"
      ],
      "metadata": {
        "id": "nYAFGc6jZwNK"
      }
    },
    {
      "cell_type": "code",
      "source": [
        "tfidf = TfidfVectorizer(min_df = 5, ngram_range=(1,2), stop_words=\"english\")\n",
        "X_train_tf = tfidf.fit_transform(X_train)\n",
        "X_test_tf = tfidf.transform(X_test)"
      ],
      "metadata": {
        "id": "wwQCBwOHUMYM"
      },
      "execution_count": 86,
      "outputs": []
    },
    {
      "cell_type": "markdown",
      "source": [
        "### Naive Bayes Classifier"
      ],
      "metadata": {
        "id": "QNRF6FnyuEOj"
      }
    },
    {
      "cell_type": "code",
      "source": [
        "# Fit the model\n",
        "\n",
        "nb_clf= MultinomialNB()\n",
        "nb_clf.fit(X_train_tf, Y_train)\n",
        "\n",
        "# Model evaluation\n",
        "\n",
        "Y_pred_nb = nb_clf.predict(X_test_tf)\n",
        "print ('Accuracy Score - ',round( accuracy_score(Y_test, Y_pred_nb),2))\n",
        "\n"
      ],
      "metadata": {
        "colab": {
          "base_uri": "https://localhost:8080/"
        },
        "id": "ENKQrrq0uDLk",
        "outputId": "841914a7-66cb-4e2e-a8cd-1ee413ea9969"
      },
      "execution_count": 87,
      "outputs": [
        {
          "output_type": "stream",
          "name": "stdout",
          "text": [
            "Accuracy Score -  0.95\n"
          ]
        }
      ]
    },
    {
      "cell_type": "markdown",
      "source": [
        "### Confusion Matrix"
      ],
      "metadata": {
        "id": "jc9Rbm8ZurRy"
      }
    },
    {
      "cell_type": "code",
      "source": [
        "cm_nb=confusion_matrix(Y_test, Y_pred_nb)\n",
        "\n",
        "disp = ConfusionMatrixDisplay(confusion_matrix=cm_nb,\n",
        "                              display_labels=nb_clf.classes_)\n",
        "disp.plot()"
      ],
      "metadata": {
        "colab": {
          "base_uri": "https://localhost:8080/",
          "height": 466
        },
        "id": "3ATv75EyutBG",
        "outputId": "8a99e881-b635-4b20-dadc-6a91c003ad56"
      },
      "execution_count": 88,
      "outputs": [
        {
          "output_type": "execute_result",
          "data": {
            "text/plain": [
              "<sklearn.metrics._plot.confusion_matrix.ConfusionMatrixDisplay at 0x7f9c3a9a0790>"
            ]
          },
          "metadata": {},
          "execution_count": 88
        },
        {
          "output_type": "display_data",
          "data": {
            "text/plain": [
              "<Figure size 640x480 with 2 Axes>"
            ],
            "image/png": "[encoded data removed]"
          },
          "metadata": {}
        }
      ]
    },
    {
      "cell_type": "markdown",
      "source": [
        "### Classification Report"
      ],
      "metadata": {
        "id": "5vQsW1LQvIcn"
      }
    },
    {
      "cell_type": "code",
      "source": [
        "print(classification_report(Y_test, Y_pred_nb))"
      ],
      "metadata": {
        "colab": {
          "base_uri": "https://localhost:8080/"
        },
        "id": "lKw4nTijw2Fn",
        "outputId": "e6fcf09e-c420-484d-f932-f9de8643d007"
      },
      "execution_count": 89,
      "outputs": [
        {
          "output_type": "stream",
          "name": "stdout",
          "text": [
            "                 precision    recall  f1-score   support\n",
            "\n",
            "        Billing       0.96      0.97      0.96      2014\n",
            "Product Inquiry       0.95      0.90      0.92      2014\n",
            "        Returns       0.94      0.98      0.96      2013\n",
            "  Tech. Support       0.96      0.96      0.96      2013\n",
            "\n",
            "       accuracy                           0.95      8054\n",
            "      macro avg       0.95      0.95      0.95      8054\n",
            "   weighted avg       0.95      0.95      0.95      8054\n",
            "\n"
          ]
        }
      ]
    },
    {
      "cell_type": "markdown",
      "source": [
        "### SVM Classification"
      ],
      "metadata": {
        "id": "1Q5eaaGpZ_N0"
      }
    },
    {
      "cell_type": "code",
      "source": [
        "# Fit the model\n",
        "\n",
        "svm_clf = LinearSVC(random_state=0, tol=1e-5)\n",
        "svm_clf.fit(X_train_tf, Y_train)\n",
        "\n",
        "# Model evaluation\n",
        "\n",
        "Y_pred_svm = svm_clf.predict(X_test_tf)\n",
        "print ('Accuracy Score - ',round( accuracy_score(Y_test, Y_pred_svm),2))"
      ],
      "metadata": {
        "colab": {
          "base_uri": "https://localhost:8080/"
        },
        "id": "eLka8v8bYCMA",
        "outputId": "4620d01e-7b8f-4c7a-d43a-a21fb18a347d"
      },
      "execution_count": 90,
      "outputs": [
        {
          "output_type": "stream",
          "name": "stdout",
          "text": [
            "Accuracy Score -  0.96\n"
          ]
        }
      ]
    },
    {
      "cell_type": "markdown",
      "source": [
        "### Confusion Matrix"
      ],
      "metadata": {
        "id": "S3_rSIN2DX_p"
      }
    },
    {
      "cell_type": "code",
      "source": [
        "cm_svm=confusion_matrix(Y_test, Y_pred_svm)\n",
        "\n",
        "disp = ConfusionMatrixDisplay(confusion_matrix=cm_svm,\n",
        "                              display_labels=svm_clf.classes_)\n",
        "disp.plot()"
      ],
      "metadata": {
        "colab": {
          "base_uri": "https://localhost:8080/",
          "height": 466
        },
        "id": "72QV5kxsD687",
        "outputId": "6c15dfda-f423-44a8-d1fd-ce8762ee9725"
      },
      "execution_count": 91,
      "outputs": [
        {
          "output_type": "execute_result",
          "data": {
            "text/plain": [
              "<sklearn.metrics._plot.confusion_matrix.ConfusionMatrixDisplay at 0x7f9c36e15690>"
            ]
          },
          "metadata": {},
          "execution_count": 91
        },
        {
          "output_type": "display_data",
          "data": {
            "text/plain": [
              "<Figure size 640x480 with 2 Axes>"
            ],
            "image/png": "[encoded data removed]"
          },
          "metadata": {}
        }
      ]
    },
    {
      "cell_type": "markdown",
      "source": [
        "### Classification Report"
      ],
      "metadata": {
        "id": "Vlo2xzrxxCIs"
      }
    },
    {
      "cell_type": "code",
      "source": [
        "print(classification_report(Y_test, Y_pred_svm))"
      ],
      "metadata": {
        "colab": {
          "base_uri": "https://localhost:8080/"
        },
        "id": "vRdPiXm_xD-9",
        "outputId": "6f68069d-bf81-4c32-dc5d-1d8a7099615d"
      },
      "execution_count": 92,
      "outputs": [
        {
          "output_type": "stream",
          "name": "stdout",
          "text": [
            "                 precision    recall  f1-score   support\n",
            "\n",
            "        Billing       0.96      0.97      0.97      2014\n",
            "Product Inquiry       0.94      0.92      0.93      2014\n",
            "        Returns       0.97      0.97      0.97      2013\n",
            "  Tech. Support       0.96      0.96      0.96      2013\n",
            "\n",
            "       accuracy                           0.96      8054\n",
            "      macro avg       0.96      0.96      0.96      8054\n",
            "   weighted avg       0.96      0.96      0.96      8054\n",
            "\n"
          ]
        }
      ]
    },
    {
      "cell_type": "code",
      "source": [
        "# Actual and Predicted values\n",
        "\n",
        "frame = { 'text': X_test, 'actual': Y_test, 'predicted': Y_pred_svm }\n",
        "result = pd.DataFrame(frame)\n",
        "result.sample(10)"
      ],
      "metadata": {
        "colab": {
          "base_uri": "https://localhost:8080/",
          "height": 363
        },
        "id": "lRMRR-xwe_oD",
        "outputId": "84946b29-db0c-485d-a242-882dadd07bce"
      },
      "execution_count": 133,
      "outputs": [
        {
          "output_type": "execute_result",
          "data": {
            "text/plain": [
              "                                                    text           actual  \\\n",
              "8740            dispute remaining amount due recent bill          Billing   \n",
              "25651                                        use product  Product Inquiry   \n",
              "18349  recently returned product havent received refu...          Returns   \n",
              "30936                        connect wifi network office    Tech. Support   \n",
              "28435                                get refund purchase          Returns   \n",
              "3449                            whats shelf life product  Product Inquiry   \n",
              "29505  antivirus software expired renew without losin...    Tech. Support   \n",
              "11293      return policy product full refund choose keep          Returns   \n",
              "6101   need send item back address pay return shippin...          Returns   \n",
              "5121   please get refund item purchased online receiv...          Returns   \n",
              "\n",
              "             predicted  \n",
              "8740           Billing  \n",
              "25651  Product Inquiry  \n",
              "18349          Returns  \n",
              "30936    Tech. Support  \n",
              "28435          Returns  \n",
              "3449   Product Inquiry  \n",
              "29505    Tech. Support  \n",
              "11293  Product Inquiry  \n",
              "6101           Returns  \n",
              "5121           Returns  "
            ],
            "text/html": [
              "\n",
              "  <div id=\"df-ffd04797-2488-4ade-bab4-477333dca4e2\">\n",
              "    <div class=\"colab-df-container\">\n",
              "      <div>\n",
              "<style scoped>\n",
              "    .dataframe tbody tr th:only-of-type {\n",
              "        vertical-align: middle;\n",
              "    }\n",
              "\n",
              "    .dataframe tbody tr th {\n",
              "        vertical-align: top;\n",
              "    }\n",
              "\n",
              "    .dataframe thead th {\n",
              "        text-align: right;\n",
              "    }\n",
              "</style>\n",
              "<table border=\"1\" class=\"dataframe\">\n",
              "  <thead>\n",
              "    <tr style=\"text-align: right;\">\n",
              "      <th></th>\n",
              "      <th>text</th>\n",
              "      <th>actual</th>\n",
              "      <th>predicted</th>\n",
              "    </tr>\n",
              "  </thead>\n",
              "  <tbody>\n",
              "    <tr>\n",
              "      <th>8740</th>\n",
              "      <td>dispute remaining amount due recent bill</td>\n",
              "      <td>Billing</td>\n",
              "      <td>Billing</td>\n",
              "    </tr>\n",
              "    <tr>\n",
              "      <th>25651</th>\n",
              "      <td>use product</td>\n",
              "      <td>Product Inquiry</td>\n",
              "      <td>Product Inquiry</td>\n",
              "    </tr>\n",
              "    <tr>\n",
              "      <th>18349</th>\n",
              "      <td>recently returned product havent received refu...</td>\n",
              "      <td>Returns</td>\n",
              "      <td>Returns</td>\n",
              "    </tr>\n",
              "    <tr>\n",
              "      <th>30936</th>\n",
              "      <td>connect wifi network office</td>\n",
              "      <td>Tech. Support</td>\n",
              "      <td>Tech. Support</td>\n",
              "    </tr>\n",
              "    <tr>\n",
              "      <th>28435</th>\n",
              "      <td>get refund purchase</td>\n",
              "      <td>Returns</td>\n",
              "      <td>Returns</td>\n",
              "    </tr>\n",
              "    <tr>\n",
              "      <th>3449</th>\n",
              "      <td>whats shelf life product</td>\n",
              "      <td>Product Inquiry</td>\n",
              "      <td>Product Inquiry</td>\n",
              "    </tr>\n",
              "    <tr>\n",
              "      <th>29505</th>\n",
              "      <td>antivirus software expired renew without losin...</td>\n",
              "      <td>Tech. Support</td>\n",
              "      <td>Tech. Support</td>\n",
              "    </tr>\n",
              "    <tr>\n",
              "      <th>11293</th>\n",
              "      <td>return policy product full refund choose keep</td>\n",
              "      <td>Returns</td>\n",
              "      <td>Product Inquiry</td>\n",
              "    </tr>\n",
              "    <tr>\n",
              "      <th>6101</th>\n",
              "      <td>need send item back address pay return shippin...</td>\n",
              "      <td>Returns</td>\n",
              "      <td>Returns</td>\n",
              "    </tr>\n",
              "    <tr>\n",
              "      <th>5121</th>\n",
              "      <td>please get refund item purchased online receiv...</td>\n",
              "      <td>Returns</td>\n",
              "      <td>Returns</td>\n",
              "    </tr>\n",
              "  </tbody>\n",
              "</table>\n",
              "</div>\n",
              "      <button class=\"colab-df-convert\" onclick=\"convertToInteractive('df-ffd04797-2488-4ade-bab4-477333dca4e2')\"\n",
              "              title=\"Convert this dataframe to an interactive table.\"\n",
              "              style=\"display:none;\">\n",
              "        \n",
              "  <svg xmlns=\"http://www.w3.org/2000/svg\" height=\"24px\"viewBox=\"0 0 24 24\"\n",
              "       width=\"24px\">\n",
              "    <path d=\"M0 0h24v24H0V0z\" fill=\"none\"/>\n",
              "    <path d=\"M18.56 5.44l.94 2.06.94-2.06 2.06-.94-2.06-.94-.94-2.06-.94 2.06-2.06.94zm-11 1L8.5 8.5l.94-2.06 2.06-.94-2.06-.94L8.5 2.5l-.94 2.06-2.06.94zm10 10l.94 2.06.94-2.06 2.06-.94-2.06-.94-.94-2.06-.94 2.06-2.06.94z\"/><path d=\"M17.41 7.96l-1.37-1.37c-.4-.4-.92-.59-1.43-.59-.52 0-1.04.2-1.43.59L10.3 9.45l-7.72 7.72c-.78.78-.78 2.05 0 2.83L4 21.41c.39.39.9.59 1.41.59.51 0 1.02-.2 1.41-.59l7.78-7.78 2.81-2.81c.8-.78.8-2.07 0-2.86zM5.41 20L4 18.59l7.72-7.72 1.47 1.35L5.41 20z\"/>\n",
              "  </svg>\n",
              "      </button>\n",
              "      \n",
              "  <style>\n",
              "    .colab-df-container {\n",
              "      display:flex;\n",
              "      flex-wrap:wrap;\n",
              "      gap: 12px;\n",
              "    }\n",
              "\n",
              "    .colab-df-convert {\n",
              "      background-color: #E8F0FE;\n",
              "      border: none;\n",
              "      border-radius: 50%;\n",
              "      cursor: pointer;\n",
              "      display: none;\n",
              "      fill: #1967D2;\n",
              "      height: 32px;\n",
              "      padding: 0 0 0 0;\n",
              "      width: 32px;\n",
              "    }\n",
              "\n",
              "    .colab-df-convert:hover {\n",
              "      background-color: #E2EBFA;\n",
              "      box-shadow: 0px 1px 2px rgba(60, 64, 67, 0.3), 0px 1px 3px 1px rgba(60, 64, 67, 0.15);\n",
              "      fill: #174EA6;\n",
              "    }\n",
              "\n",
              "    [theme=dark] .colab-df-convert {\n",
              "      background-color: #3B4455;\n",
              "      fill: #D2E3FC;\n",
              "    }\n",
              "\n",
              "    [theme=dark] .colab-df-convert:hover {\n",
              "      background-color: #434B5C;\n",
              "      box-shadow: 0px 1px 3px 1px rgba(0, 0, 0, 0.15);\n",
              "      filter: drop-shadow(0px 1px 2px rgba(0, 0, 0, 0.3));\n",
              "      fill: #FFFFFF;\n",
              "    }\n",
              "  </style>\n",
              "\n",
              "      <script>\n",
              "        const buttonEl =\n",
              "          document.querySelector('#df-ffd04797-2488-4ade-bab4-477333dca4e2 button.colab-df-convert');\n",
              "        buttonEl.style.display =\n",
              "          google.colab.kernel.accessAllowed ? 'block' : 'none';\n",
              "\n",
              "        async function convertToInteractive(key) {\n",
              "          const element = document.querySelector('#df-ffd04797-2488-4ade-bab4-477333dca4e2');\n",
              "          const dataTable =\n",
              "            await google.colab.kernel.invokeFunction('convertToInteractive',\n",
              "                                                     [key], {});\n",
              "          if (!dataTable) return;\n",
              "\n",
              "          const docLinkHtml = 'Like what you see? Visit the ' +\n",
              "            '<a target=\"_blank\" href=https://colab.research.google.com/notebooks/data_table.ipynb>data table notebook</a>'\n",
              "            + ' to learn more about interactive tables.';\n",
              "          element.innerHTML = '';\n",
              "          dataTable['output_type'] = 'display_data';\n",
              "          await google.colab.output.renderOutput(dataTable, element);\n",
              "          const docLink = document.createElement('div');\n",
              "          docLink.innerHTML = docLinkHtml;\n",
              "          element.appendChild(docLink);\n",
              "        }\n",
              "      </script>\n",
              "    </div>\n",
              "  </div>\n",
              "  "
            ]
          },
          "metadata": {},
          "execution_count": 133
        }
      ]
    },
    {
      "cell_type": "markdown",
      "source": [
        "### Cross-Validation\n",
        "\n",
        "In order to have the right balance between underfitting, overfitting and have more realistic performance the 5-fold cross-validation technique was applied.\n",
        "\n",
        "With this technique we use all observations and we do not create a separate holdout data for testing the model. So, if our model suffers from the lack of data, cross validation can help to improve the learning phase.\n"
      ],
      "metadata": {
        "id": "-su1QhktYHN4"
      }
    },
    {
      "cell_type": "code",
      "source": [
        "tfidf = TfidfVectorizer(min_df = 10, ngram_range=(1,2), stop_words=\"english\")\n",
        "df_tf = tfidf.fit_transform(X_train).toarray()\n",
        "\n",
        "# Cross Validation with 5 folds\n",
        "scores = cross_val_score(estimator=svm_clf,\n",
        "                             X=df_tf,\n",
        "                             y=Y_train,\n",
        "                             cv=5)\n",
        "print (\"Validation scores from each iteration of the cross validation \", scores)\n",
        "print (\"Mean value across of validation scores \", scores.mean())\n",
        "print (\"Standard deviation of validation scores \", scores.std())\n"
      ],
      "metadata": {
        "colab": {
          "base_uri": "https://localhost:8080/"
        },
        "id": "tOaZi4ucZSVD",
        "outputId": "935e1312-eb5f-4c17-d117-a68a6f56da2b"
      },
      "execution_count": 134,
      "outputs": [
        {
          "output_type": "stream",
          "name": "stdout",
          "text": [
            "Validation scores from each iteration of the cross validation  [0.9525066  0.95126494 0.95204097 0.95032599 0.95017075]\n",
            "Mean value across of validation scores  0.9512618499686525\n",
            "Standard deviation of validation scores  0.0009189961605249391\n"
          ]
        }
      ]
    },
    {
      "cell_type": "markdown",
      "source": [
        "### SVC Classification With Grid Search\n",
        "\n",
        "To tuning hyperparameters of the model for obtain the better results, SVC with grid search technique was applied. The best hyperparameters based on the predefined set are:\n",
        "\n",
        "* 'model__loss': 'hinge'\n",
        "* 'model__max_iter': 10000\n",
        "* 'model__penalty': 'l2'\n",
        "* 'tfidf__min_df': 5\n",
        "* 'tfidf__ngram_range': (1, 3)\n",
        "\n",
        "Best result identified by grid search  0.95"
      ],
      "metadata": {
        "id": "Veal6qjJbI41"
      }
    },
    {
      "cell_type": "code",
      "source": [
        "# Define a pipeline\n",
        "\n",
        "training_pipeline = Pipeline(\n",
        "        steps=[('tfidf', TfidfVectorizer(stop_words=\"english\")),\n",
        "                ('model', LinearSVC(random_state=42, tol=1e-5))])\n",
        "\n",
        "#Define sets of parameters\n",
        "\n",
        "grid_param = [{\n",
        "        'tfidf__min_df': [5, 10],\n",
        "        'tfidf__ngram_range': [(1, 3), (1, 6)],\n",
        "        'model__penalty': ['l2'],\n",
        "        'model__loss': ['hinge'],\n",
        "        'model__max_iter': [10000]\n",
        "},{\n",
        "'tfidf__min_df': [5, 10], 'tfidf__ngram_range': [(1, 3), (1, 6)], 'model__C': [1, 10],\n",
        "'model__tol': [1e-2, 1e-3]\n",
        "}]\n",
        "\n",
        "\n",
        "grid_svc_clf = GridSearchCV(estimator=training_pipeline,\n",
        "                                       param_grid=grid_param,\n",
        "                                       cv=5)\n",
        "# Fit the model\n",
        "\n",
        "grid_svc_clf.fit(X_train, Y_train)\n",
        "\n",
        "Y_pred_svc = grid_svc_clf.predict(X_test)\n",
        "\n",
        "\n",
        "#Best parameters\n",
        "\n",
        "best_params = grid_svc_clf.best_params_\n",
        "print(\"Best alpha parameter identified by grid search \", best_params)\n",
        "\n",
        "best_result = grid_svc_clf.best_score_\n",
        "print(\"Best result identified by grid search \", best_result)"
      ],
      "metadata": {
        "colab": {
          "base_uri": "https://localhost:8080/"
        },
        "id": "5bHjKq4zTDN6",
        "outputId": "5ff6a7eb-c6bd-4acc-c420-ceda5e2d0099"
      },
      "execution_count": 135,
      "outputs": [
        {
          "output_type": "stream",
          "name": "stdout",
          "text": [
            "Best alpha parameter identified by grid search  {'model__loss': 'hinge', 'model__max_iter': 10000, 'model__penalty': 'l2', 'tfidf__min_df': 5, 'tfidf__ngram_range': (1, 3)}\n",
            "Best result identified by grid search  0.953900555503006\n"
          ]
        }
      ]
    },
    {
      "cell_type": "markdown",
      "source": [
        "### Confusion Matrix"
      ],
      "metadata": {
        "id": "cEY_nqLhGlfu"
      }
    },
    {
      "cell_type": "code",
      "source": [
        "cm_svc=confusion_matrix(Y_test, Y_pred_svc)\n",
        "\n",
        "disp = ConfusionMatrixDisplay(confusion_matrix=cm_svc,\n",
        "                              display_labels=grid_svc_clf.classes_)\n",
        "disp.plot()"
      ],
      "metadata": {
        "colab": {
          "base_uri": "https://localhost:8080/",
          "height": 466
        },
        "id": "dZQd0VT-DUMD",
        "outputId": "851f2163-7819-459f-ceec-2f3ba16085eb"
      },
      "execution_count": 136,
      "outputs": [
        {
          "output_type": "execute_result",
          "data": {
            "text/plain": [
              "<sklearn.metrics._plot.confusion_matrix.ConfusionMatrixDisplay at 0x7f9be9d45f90>"
            ]
          },
          "metadata": {},
          "execution_count": 136
        },
        {
          "output_type": "display_data",
          "data": {
            "text/plain": [
              "<Figure size 640x480 with 2 Axes>"
            ],
            "image/png": "[encoded data removed]"
          },
          "metadata": {}
        }
      ]
    },
    {
      "cell_type": "markdown",
      "source": [
        "### Classification Report"
      ],
      "metadata": {
        "id": "eXsLwxDxGtce"
      }
    },
    {
      "cell_type": "code",
      "source": [
        "print(classification_report(Y_test, Y_pred_svc))"
      ],
      "metadata": {
        "colab": {
          "base_uri": "https://localhost:8080/"
        },
        "id": "TDLy3yLkGkLn",
        "outputId": "7d48f1dc-9c3d-47e7-81be-59ca43347557"
      },
      "execution_count": 137,
      "outputs": [
        {
          "output_type": "stream",
          "name": "stdout",
          "text": [
            "                 precision    recall  f1-score   support\n",
            "\n",
            "        Billing       0.96      0.97      0.97      2014\n",
            "Product Inquiry       0.94      0.91      0.93      2014\n",
            "        Returns       0.96      0.98      0.97      2013\n",
            "  Tech. Support       0.96      0.96      0.96      2013\n",
            "\n",
            "       accuracy                           0.96      8054\n",
            "      macro avg       0.96      0.96      0.96      8054\n",
            "   weighted avg       0.96      0.96      0.96      8054\n",
            "\n"
          ]
        }
      ]
    },
    {
      "cell_type": "code",
      "source": [
        "gridsearch_results = pd.DataFrame(grid_svc_clf.cv_results_)\n",
        "gridsearch_results[['rank_test_score', 'mean_test_score',\n",
        "                        'params']].sort_values(by=['rank_test_score'])[:5]"
      ],
      "metadata": {
        "colab": {
          "base_uri": "https://localhost:8080/",
          "height": 206
        },
        "id": "mt7eovsgUCiD",
        "outputId": "fe8640c6-a709-46ee-856a-d4eb3b2789c5"
      },
      "execution_count": 138,
      "outputs": [
        {
          "output_type": "execute_result",
          "data": {
            "text/plain": [
              "   rank_test_score  mean_test_score  \\\n",
              "0                1         0.953901   \n",
              "1                2         0.953776   \n",
              "5                3         0.952969   \n",
              "9                3         0.952969   \n",
              "4                5         0.952969   \n",
              "\n",
              "                                              params  \n",
              "0  {'model__loss': 'hinge', 'model__max_iter': 10...  \n",
              "1  {'model__loss': 'hinge', 'model__max_iter': 10...  \n",
              "5  {'model__C': 1, 'model__tol': 0.01, 'tfidf__mi...  \n",
              "9  {'model__C': 1, 'model__tol': 0.001, 'tfidf__m...  \n",
              "4  {'model__C': 1, 'model__tol': 0.01, 'tfidf__mi...  "
            ],
            "text/html": [
              "\n",
              "  <div id=\"df-c571c78b-788a-4fcc-8a54-2cc2bb00cdb9\">\n",
              "    <div class=\"colab-df-container\">\n",
              "      <div>\n",
              "<style scoped>\n",
              "    .dataframe tbody tr th:only-of-type {\n",
              "        vertical-align: middle;\n",
              "    }\n",
              "\n",
              "    .dataframe tbody tr th {\n",
              "        vertical-align: top;\n",
              "    }\n",
              "\n",
              "    .dataframe thead th {\n",
              "        text-align: right;\n",
              "    }\n",
              "</style>\n",
              "<table border=\"1\" class=\"dataframe\">\n",
              "  <thead>\n",
              "    <tr style=\"text-align: right;\">\n",
              "      <th></th>\n",
              "      <th>rank_test_score</th>\n",
              "      <th>mean_test_score</th>\n",
              "      <th>params</th>\n",
              "    </tr>\n",
              "  </thead>\n",
              "  <tbody>\n",
              "    <tr>\n",
              "      <th>0</th>\n",
              "      <td>1</td>\n",
              "      <td>0.953901</td>\n",
              "      <td>{'model__loss': 'hinge', 'model__max_iter': 10...</td>\n",
              "    </tr>\n",
              "    <tr>\n",
              "      <th>1</th>\n",
              "      <td>2</td>\n",
              "      <td>0.953776</td>\n",
              "      <td>{'model__loss': 'hinge', 'model__max_iter': 10...</td>\n",
              "    </tr>\n",
              "    <tr>\n",
              "      <th>5</th>\n",
              "      <td>3</td>\n",
              "      <td>0.952969</td>\n",
              "      <td>{'model__C': 1, 'model__tol': 0.01, 'tfidf__mi...</td>\n",
              "    </tr>\n",
              "    <tr>\n",
              "      <th>9</th>\n",
              "      <td>3</td>\n",
              "      <td>0.952969</td>\n",
              "      <td>{'model__C': 1, 'model__tol': 0.001, 'tfidf__m...</td>\n",
              "    </tr>\n",
              "    <tr>\n",
              "      <th>4</th>\n",
              "      <td>5</td>\n",
              "      <td>0.952969</td>\n",
              "      <td>{'model__C': 1, 'model__tol': 0.01, 'tfidf__mi...</td>\n",
              "    </tr>\n",
              "  </tbody>\n",
              "</table>\n",
              "</div>\n",
              "      <button class=\"colab-df-convert\" onclick=\"convertToInteractive('df-c571c78b-788a-4fcc-8a54-2cc2bb00cdb9')\"\n",
              "              title=\"Convert this dataframe to an interactive table.\"\n",
              "              style=\"display:none;\">\n",
              "        \n",
              "  <svg xmlns=\"http://www.w3.org/2000/svg\" height=\"24px\"viewBox=\"0 0 24 24\"\n",
              "       width=\"24px\">\n",
              "    <path d=\"M0 0h24v24H0V0z\" fill=\"none\"/>\n",
              "    <path d=\"M18.56 5.44l.94 2.06.94-2.06 2.06-.94-2.06-.94-.94-2.06-.94 2.06-2.06.94zm-11 1L8.5 8.5l.94-2.06 2.06-.94-2.06-.94L8.5 2.5l-.94 2.06-2.06.94zm10 10l.94 2.06.94-2.06 2.06-.94-2.06-.94-.94-2.06-.94 2.06-2.06.94z\"/><path d=\"M17.41 7.96l-1.37-1.37c-.4-.4-.92-.59-1.43-.59-.52 0-1.04.2-1.43.59L10.3 9.45l-7.72 7.72c-.78.78-.78 2.05 0 2.83L4 21.41c.39.39.9.59 1.41.59.51 0 1.02-.2 1.41-.59l7.78-7.78 2.81-2.81c.8-.78.8-2.07 0-2.86zM5.41 20L4 18.59l7.72-7.72 1.47 1.35L5.41 20z\"/>\n",
              "  </svg>\n",
              "      </button>\n",
              "      \n",
              "  <style>\n",
              "    .colab-df-container {\n",
              "      display:flex;\n",
              "      flex-wrap:wrap;\n",
              "      gap: 12px;\n",
              "    }\n",
              "\n",
              "    .colab-df-convert {\n",
              "      background-color: #E8F0FE;\n",
              "      border: none;\n",
              "      border-radius: 50%;\n",
              "      cursor: pointer;\n",
              "      display: none;\n",
              "      fill: #1967D2;\n",
              "      height: 32px;\n",
              "      padding: 0 0 0 0;\n",
              "      width: 32px;\n",
              "    }\n",
              "\n",
              "    .colab-df-convert:hover {\n",
              "      background-color: #E2EBFA;\n",
              "      box-shadow: 0px 1px 2px rgba(60, 64, 67, 0.3), 0px 1px 3px 1px rgba(60, 64, 67, 0.15);\n",
              "      fill: #174EA6;\n",
              "    }\n",
              "\n",
              "    [theme=dark] .colab-df-convert {\n",
              "      background-color: #3B4455;\n",
              "      fill: #D2E3FC;\n",
              "    }\n",
              "\n",
              "    [theme=dark] .colab-df-convert:hover {\n",
              "      background-color: #434B5C;\n",
              "      box-shadow: 0px 1px 3px 1px rgba(0, 0, 0, 0.15);\n",
              "      filter: drop-shadow(0px 1px 2px rgba(0, 0, 0, 0.3));\n",
              "      fill: #FFFFFF;\n",
              "    }\n",
              "  </style>\n",
              "\n",
              "      <script>\n",
              "        const buttonEl =\n",
              "          document.querySelector('#df-c571c78b-788a-4fcc-8a54-2cc2bb00cdb9 button.colab-df-convert');\n",
              "        buttonEl.style.display =\n",
              "          google.colab.kernel.accessAllowed ? 'block' : 'none';\n",
              "\n",
              "        async function convertToInteractive(key) {\n",
              "          const element = document.querySelector('#df-c571c78b-788a-4fcc-8a54-2cc2bb00cdb9');\n",
              "          const dataTable =\n",
              "            await google.colab.kernel.invokeFunction('convertToInteractive',\n",
              "                                                     [key], {});\n",
              "          if (!dataTable) return;\n",
              "\n",
              "          const docLinkHtml = 'Like what you see? Visit the ' +\n",
              "            '<a target=\"_blank\" href=https://colab.research.google.com/notebooks/data_table.ipynb>data table notebook</a>'\n",
              "            + ' to learn more about interactive tables.';\n",
              "          element.innerHTML = '';\n",
              "          dataTable['output_type'] = 'display_data';\n",
              "          await google.colab.output.renderOutput(dataTable, element);\n",
              "          const docLink = document.createElement('div');\n",
              "          docLink.innerHTML = docLinkHtml;\n",
              "          element.appendChild(docLink);\n",
              "        }\n",
              "      </script>\n",
              "    </div>\n",
              "  </div>\n",
              "  "
            ]
          },
          "metadata": {},
          "execution_count": 138
        }
      ]
    },
    {
      "cell_type": "markdown",
      "source": [
        "We applied 3 different classification methods: Naive Bayes, SVM, and SVC. All models performed well to distinguish between 4 different classes with 95% to 96% overall accuracy. Highest accuracy is related to SVM classifier with accuracy of 96% and F1 score of 96%. Taking into account the running time of the model and the simplicity of the Naïve Bayes model without any hyperparameters, it may be cost effective to ignore a one percent difference in the accuracy of the model’s performance."
      ],
      "metadata": {
        "id": "uzr3iAaLCMik"
      }
    }
  ]
}