{
  "cells": [
    {
      "cell_type": "markdown",
      "id": "8Ty15tURkIf-",
      "metadata": {
        "id": "8Ty15tURkIf-"
      },
      "source": [
        "# Customer Query Classification\n",
        "### Hoori Javadnia & Fatemeh Khosravi"
      ]
    },
    {
      "cell_type": "markdown",
      "id": "cJBm-45LswQ9",
      "metadata": {
        "id": "cJBm-45LswQ9"
      },
      "source": [
        "### Topic Modeling"
      ]
    },
    {
      "cell_type": "code",
      "execution_count": 3,
      "id": "Vnj2xWc3kIgA",
      "metadata": {
        "id": "Vnj2xWc3kIgA"
      },
      "outputs": [],
      "source": [
        "#!pip install --upgrade emoji\n",
        "#!pip install plotly\n",
        "#!python -m nltk.downloader stopwords\n",
        "#!pip install pyLDAvis==3.4.1"
      ]
    },
    {
      "cell_type": "code",
      "execution_count": 1,
      "id": "0GFEJ44UkIgC",
      "metadata": {
        "colab": {
          "base_uri": "https://localhost:8080/",
          "height": 17
        },
        "id": "0GFEJ44UkIgC",
        "outputId": "20cbcb5e-1de7-4502-aafe-85af06e693e7"
      },
      "outputs": [
        {
          "output_type": "display_data",
          "data": {
            "text/html": [
              "        <script type=\"text/javascript\">\n",
              "        window.PlotlyConfig = {MathJaxConfig: 'local'};\n",
              "        if (window.MathJax && window.MathJax.Hub && window.MathJax.Hub.Config) {window.MathJax.Hub.Config({SVG: {font: \"STIX-Web\"}});}\n",
              "        if (typeof require !== 'undefined') {\n",
              "        require.undef(\"plotly\");\n",
              "        requirejs.config({\n",
              "            paths: {\n",
              "                'plotly': ['https://cdn.plot.ly/plotly-2.18.2.min']\n",
              "            }\n",
              "        });\n",
              "        require(['plotly'], function(Plotly) {\n",
              "            window._Plotly = Plotly;\n",
              "        });\n",
              "        }\n",
              "        </script>\n",
              "        "
            ]
          },
          "metadata": {}
        }
      ],
      "source": [
        "import pandas as pd\n",
        "import numpy as np\n",
        "import requests\n",
        "import time\n",
        "import random\n",
        "from collections import OrderedDict\n",
        "import string\n",
        "import re\n",
        "import matplotlib.pyplot as plt\n",
        "import seaborn as sns\n",
        "import plotly.offline as py\n",
        "import plotly.graph_objs as go\n",
        "import plotly.tools as tls\n",
        "import plotly.express as px\n",
        "import nltk\n",
        "import random\n",
        "py.init_notebook_mode(connected=True)\n",
        "from nltk.stem import WordNetLemmatizer\n",
        "from random import randint\n",
        "color = sns.color_palette()\n",
        "%matplotlib inline\n",
        "from collections import Counter, defaultdict\n",
        "from string import punctuation\n",
        "from nltk.corpus import stopwords\n",
        "from nltk.metrics import ConfusionMatrix\n",
        "import plotly.io as pio\n",
        "from nltk.tokenize import word_tokenize\n",
        "re.compile('<title>(.*)</title>')\n",
        "import nltk\n",
        "import os\n",
        "from collections import Counter, defaultdict\n",
        "from nltk.corpus import stopwords\n",
        "from wordcloud import WordCloud\n",
        "from nltk.corpus import stopwords\n",
        "from sklearn.feature_extraction.text import TfidfVectorizer\n",
        "from sklearn.feature_extraction.text import CountVectorizer\n",
        "from sklearn.decomposition import NMF, TruncatedSVD\n",
        "from sklearn.decomposition import LatentDirichletAllocation\n",
        "sw = set(stopwords.words('english'))\n",
        "import pyLDAvis\n",
        "import pyLDAvis.lda_model\n",
        "import pyLDAvis.gensim_models"
      ]
    },
    {
      "cell_type": "markdown",
      "id": "1irUfn3jkIgC",
      "metadata": {
        "id": "1irUfn3jkIgC"
      },
      "source": [
        "### Read the Data"
      ]
    },
    {
      "cell_type": "code",
      "execution_count": 2,
      "id": "73rO8qeNkIgC",
      "metadata": {
        "id": "73rO8qeNkIgC",
        "colab": {
          "base_uri": "https://localhost:8080/"
        },
        "outputId": "bcc2c865-2405-4d10-d5db-280bdffe50e5"
      },
      "outputs": [
        {
          "output_type": "stream",
          "name": "stderr",
          "text": [
            "/usr/local/lib/python3.10/dist-packages/ipykernel/ipkernel.py:283: DeprecationWarning:\n",
            "\n",
            "`should_run_async` will not call `transform_cell` automatically in the future. Please pass the result to `transformed_cell` argument and any exception that happen during thetransform in `preprocessing_exc_tuple` in IPython 7.17 and above.\n",
            "\n"
          ]
        }
      ],
      "source": [
        "#Read the data\n",
        "\n",
        "customer_queries = pd.read_csv('customer_query.csv')"
      ]
    },
    {
      "cell_type": "code",
      "source": [
        "# Some punctuation variations\n",
        "\n",
        "punctuation = set(punctuation) #Creates a set of punctuation marks for later use.\n",
        "\n",
        "\n",
        "# Stopwords\n",
        "#Loads a list of stopwords for the English language.\n",
        "\n",
        "sw = stopwords.words(\"english\")\n",
        "\n",
        "\n",
        "# useful regex\n",
        "#Compiles a regular expression pattern to match whitespace.\n",
        "whitespace_pattern = re.compile(r\"\\s+\")\n",
        "\n",
        "\n",
        "#Descriptive function\n",
        "#This function takes a list of tokens as input and calculates various statistics\n",
        "#such as the total number of tokens, the number of unique tokens, the number of characters,\n",
        "#and the lexical diversity. It also prints the top num_tokens most common tokens if specified.\n",
        "\n",
        "\n",
        "def descriptive_stats(tokens, num_tokens = 10, verbose=True) :\n",
        "    \"\"\"\n",
        "        Given a list of tokens, print number of tokens, number of unique tokens,\n",
        "        number of characters, lexical diversity, and num_tokens most common\n",
        "        tokens. Return a list of\n",
        "    \"\"\"\n",
        "\n",
        "    if verbose :\n",
        "        print(f\"There are {len(tokens)} tokens in the data.\")\n",
        "        print(f\"There are {len(set(tokens))} unique tokens in the data.\")\n",
        "        print(f\"There are {len(''.join(tokens))} characters in the data.\")\n",
        "        print(f\"The lexical diversity is {len(set(tokens))/len(tokens):.3f} in the data.\")\n",
        "\n",
        "        counts = Counter(tokens)\n",
        "\n",
        "        if num_tokens > 0 :\n",
        "            print(\"The top ten most common tokens are:\")\n",
        "            top_tokens=counts.most_common(num_tokens)\n",
        "            top_token_df = pd.DataFrame(top_tokens, columns = [\"Token\", \"Frequency\"])\n",
        "            print(top_token_df)\n",
        "\n",
        "    return([len(tokens),\n",
        "           len(set(tokens)),\n",
        "           len(\"\".join(tokens)),\n",
        "           len(set(tokens))/len(tokens)])\n",
        "\n",
        "\n",
        "\n",
        "\n",
        "\n",
        "# Remove stop words  from a list of tokens\n",
        "\n",
        "def remove_stop(tokens) :\n",
        "    return([t for t in tokens if t.lower() not in sw])\n",
        "\n",
        "# Remove punctuation\n",
        "\n",
        "#Removes punctuation marks from a given text.\n",
        "def remove_punctuation(text, punct_set=punctuation) :\n",
        "    return(\"\".join([ch for ch in text if ch not in punct_set]))\n",
        "\n",
        "#Remove white space\n",
        "#Replaces multiple consecutive whitespace characters with a single space\n",
        "def remove_whitespace(text):\n",
        "    text = whitespace_pattern.sub(r\" \", text)\n",
        "    return text\n",
        "\n",
        "# Tokenization\n",
        "#Splits a given text into tokens using whitespace as the delimiter\n",
        "def tokenize(text) :\n",
        "    \"\"\" Splitting on whitespace rather than the book's tokenize function. That\n",
        "        function will drop tokens like '#hashtag' or '2A', which we need for Twitter. \"\"\"\n",
        "\n",
        "    return([t for t in whitespace_pattern.split(text) if t])\n",
        "\n",
        "# pipeline function\n",
        "\n",
        "#Takes a text and a list of transformation functions as input.\n",
        "#It applies each function in the pipeline to the text sequentially,\n",
        "#modifying the text along the way.\n",
        "\n",
        "\n",
        "def prepare(text, pipeline) :\n",
        "    tokens = str(text)\n",
        "\n",
        "    for transform in pipeline :\n",
        "        tokens = transform(tokens)\n",
        "\n",
        "    return(tokens)\n",
        "\n",
        "def join_tokens(tokens):\n",
        "\n",
        "    text = \" \".join(tokens)\n",
        "\n",
        "    return(text)\n",
        "\n",
        "\n",
        "\n",
        "#Overall,this code provides a set of utility functions for text preprocessing and\n",
        "#descriptive analysis. It can be used to clean and analyze text data by applying various\n",
        "#transformations and computing statistics on the processed text."
      ],
      "metadata": {
        "colab": {
          "base_uri": "https://localhost:8080/"
        },
        "id": "T82lzFZsGMy2",
        "outputId": "28004bb1-898a-431b-b0af-aa1bdcdbf3f5"
      },
      "id": "T82lzFZsGMy2",
      "execution_count": 3,
      "outputs": [
        {
          "output_type": "stream",
          "name": "stderr",
          "text": [
            "/usr/local/lib/python3.10/dist-packages/ipykernel/ipkernel.py:283: DeprecationWarning:\n",
            "\n",
            "`should_run_async` will not call `transform_cell` automatically in the future. Please pass the result to `transformed_cell` argument and any exception that happen during thetransform in `preprocessing_exc_tuple` in IPython 7.17 and above.\n",
            "\n"
          ]
        }
      ]
    },
    {
      "cell_type": "code",
      "source": [
        "prep_pipeline = [str.lower, remove_punctuation, tokenize, remove_stop, join_tokens]\n",
        "customer_queries[\"clean_queries\"] = customer_queries[\"Query\"].apply(prepare, pipeline = prep_pipeline)"
      ],
      "metadata": {
        "colab": {
          "base_uri": "https://localhost:8080/"
        },
        "id": "p1dcZL12EhaP",
        "outputId": "0b044aec-8c8d-485e-8098-2ccb4645096d"
      },
      "id": "p1dcZL12EhaP",
      "execution_count": 4,
      "outputs": [
        {
          "output_type": "stream",
          "name": "stderr",
          "text": [
            "/usr/local/lib/python3.10/dist-packages/ipykernel/ipkernel.py:283: DeprecationWarning:\n",
            "\n",
            "`should_run_async` will not call `transform_cell` automatically in the future. Please pass the result to `transformed_cell` argument and any exception that happen during thetransform in `preprocessing_exc_tuple` in IPython 7.17 and above.\n",
            "\n"
          ]
        }
      ]
    },
    {
      "cell_type": "markdown",
      "id": "8e4f4e9f",
      "metadata": {
        "id": "8e4f4e9f"
      },
      "source": [
        "### Fitting an LSA Model"
      ]
    },
    {
      "cell_type": "code",
      "execution_count": 5,
      "id": "f4f562ff",
      "metadata": {
        "colab": {
          "base_uri": "https://localhost:8080/"
        },
        "id": "f4f562ff",
        "outputId": "f8b19f4f-9fce-4493-dfab-f6a209adbdb0"
      },
      "outputs": [
        {
          "output_type": "stream",
          "name": "stderr",
          "text": [
            "/usr/local/lib/python3.10/dist-packages/ipykernel/ipkernel.py:283: DeprecationWarning:\n",
            "\n",
            "`should_run_async` will not call `transform_cell` automatically in the future. Please pass the result to `transformed_cell` argument and any exception that happen during thetransform in `preprocessing_exc_tuple` in IPython 7.17 and above.\n",
            "\n"
          ]
        },
        {
          "output_type": "execute_result",
          "data": {
            "text/plain": [
              "(40267, 4356)"
            ]
          },
          "metadata": {},
          "execution_count": 5
        }
      ],
      "source": [
        "#Fitting an LSA Model\n",
        "\n",
        "# Creating a list of stopwords using the 'sw' variable\n",
        "stopwords_list = list(sw)\n",
        "#stopwords_list.extend([\"ll\", \"ve\"])\n",
        "\n",
        "\n",
        "# Creating a TF-IDF vectorizer with the stopwords list.\n",
        "tfidf_text_vectorizer = TfidfVectorizer(\n",
        "    stop_words = stopwords_list ,min_df=5, max_df=0.7\n",
        ")\n",
        "tfidf_text_vectors = tfidf_text_vectorizer.fit_transform(customer_queries[\"clean_queries\"])\n",
        "# Checking the shape of the TF-IDF vectors\n",
        "tfidf_text_vectors.shape\n"
      ]
    },
    {
      "cell_type": "code",
      "execution_count": 6,
      "id": "3fd8f333",
      "metadata": {
        "id": "3fd8f333",
        "colab": {
          "base_uri": "https://localhost:8080/"
        },
        "outputId": "04a6d347-c009-4d9e-cf91-71286cc24e2c"
      },
      "outputs": [
        {
          "output_type": "stream",
          "name": "stderr",
          "text": [
            "/usr/local/lib/python3.10/dist-packages/ipykernel/ipkernel.py:283: DeprecationWarning:\n",
            "\n",
            "`should_run_async` will not call `transform_cell` automatically in the future. Please pass the result to `transformed_cell` argument and any exception that happen during thetransform in `preprocessing_exc_tuple` in IPython 7.17 and above.\n",
            "\n"
          ]
        }
      ],
      "source": [
        "# Initialize an LSA model with 4 components and a random state of 7\n",
        "\n",
        "lsa_model = TruncatedSVD(n_components = 4, random_state = 7)\n",
        "\n",
        "# Transform the TF-IDF text vectors using the LSA model to obtain the W matrix\n",
        "W_lsa_matrix = lsa_model.fit_transform(tfidf_text_vectors)\n",
        "# Retrieve the LSA model's components to obtain the H matrix\n",
        "H_lsa_matrix = lsa_model.components_"
      ]
    },
    {
      "cell_type": "code",
      "source": [
        "# Topic index dict\n",
        "# (key = topic index) : (value : np.argmax count)\n",
        "topic_dict = {0 : 0, 1 : 0,\n",
        "              2 : 0, 3: 0\n",
        "              }\n",
        "\n",
        "# Iterate over each row in the W_lsa_matrix\n",
        "for row in W_lsa_matrix:\n",
        "    # Find most similar topic to document\n",
        "    topic_idx = np.argmax(row)\n",
        "    # Add 1 count to topic dictionary\n",
        "    topic_dict[topic_idx] += 1\n",
        "\n",
        "topic_dict  # Print or use the topic_dict for further analysis"
      ],
      "metadata": {
        "colab": {
          "base_uri": "https://localhost:8080/"
        },
        "id": "5g2oxKOg28xV",
        "outputId": "025c26fa-4b64-41f3-c518-4a0426ab106a"
      },
      "id": "5g2oxKOg28xV",
      "execution_count": 7,
      "outputs": [
        {
          "output_type": "stream",
          "name": "stderr",
          "text": [
            "/usr/local/lib/python3.10/dist-packages/ipykernel/ipkernel.py:283: DeprecationWarning:\n",
            "\n",
            "`should_run_async` will not call `transform_cell` automatically in the future. Please pass the result to `transformed_cell` argument and any exception that happen during thetransform in `preprocessing_exc_tuple` in IPython 7.17 and above.\n",
            "\n"
          ]
        },
        {
          "output_type": "execute_result",
          "data": {
            "text/plain": [
              "{0: 11945, 1: 19848, 2: 1745, 3: 6729}"
            ]
          },
          "metadata": {},
          "execution_count": 7
        }
      ]
    },
    {
      "cell_type": "code",
      "source": [
        "#assign topic to dataframe\n",
        "customer_queries['LSA_topic']=[np.argmax(row) for row in W_lsa_matrix]\n",
        "\n",
        "customer_queries.groupby('LSA_topic')['Class'].value_counts()"
      ],
      "metadata": {
        "colab": {
          "base_uri": "https://localhost:8080/"
        },
        "id": "73p036xF3jsY",
        "outputId": "d199154e-0957-4b1a-edf4-8ff123ba8a1e"
      },
      "id": "73p036xF3jsY",
      "execution_count": 8,
      "outputs": [
        {
          "output_type": "stream",
          "name": "stderr",
          "text": [
            "/usr/local/lib/python3.10/dist-packages/ipykernel/ipkernel.py:283: DeprecationWarning:\n",
            "\n",
            "`should_run_async` will not call `transform_cell` automatically in the future. Please pass the result to `transformed_cell` argument and any exception that happen during thetransform in `preprocessing_exc_tuple` in IPython 7.17 and above.\n",
            "\n"
          ]
        },
        {
          "output_type": "execute_result",
          "data": {
            "text/plain": [
              "LSA_topic  Class          \n",
              "0          Returns            9534\n",
              "           Product Inquiry    1383\n",
              "           Billing             818\n",
              "           Tech. Support       210\n",
              "1          Billing            9170\n",
              "           Tech. Support      8068\n",
              "           Product Inquiry    2481\n",
              "           Returns             129\n",
              "2          Tech. Support      1710\n",
              "           Product Inquiry      34\n",
              "           Returns               1\n",
              "3          Product Inquiry    6169\n",
              "           Returns             402\n",
              "           Billing              81\n",
              "           Tech. Support        77\n",
              "Name: count, dtype: int64"
            ]
          },
          "metadata": {},
          "execution_count": 8
        }
      ]
    },
    {
      "cell_type": "code",
      "source": [
        "def display_topics(model, features, no_top_words=5):\n",
        "    for topic, words in enumerate(model.components_):\n",
        "        total = words.sum()#sum of all the values in the words array, which represents the total occurrence or importance of words in the topic.\n",
        "        largest = words.argsort()[::-1] # invert sort order\n",
        "        print(\"\\nTopic %02d\" % topic)\n",
        "        for i in range(0, no_top_words):\n",
        "            print(\"  %s (%2.2f)\" % (\n",
        "                features[largest[i]],\n",
        "                abs(words[largest[i]]*100.0/total)))\n",
        "\n",
        "\n",
        "\n",
        "#Overall, this code defines a function that takes a topic modeling model,\n",
        "#a list of features (words), and an optional parameter for the number of top words\n",
        "#to display. It then iterates over the topics in the model, calculates\n",
        "#the total importance of words in each topic, sorts the words by importance,\n",
        "#and prints the top words along with their weights for each topic."
      ],
      "metadata": {
        "id": "IqPnvC-r2f7p",
        "colab": {
          "base_uri": "https://localhost:8080/"
        },
        "outputId": "0640ccce-02d3-415d-a25e-6b3ac2ee85c6"
      },
      "id": "IqPnvC-r2f7p",
      "execution_count": 9,
      "outputs": [
        {
          "output_type": "stream",
          "name": "stderr",
          "text": [
            "/usr/local/lib/python3.10/dist-packages/ipykernel/ipkernel.py:283: DeprecationWarning:\n",
            "\n",
            "`should_run_async` will not call `transform_cell` automatically in the future. Please pass the result to `transformed_cell` argument and any exception that happen during thetransform in `preprocessing_exc_tuple` in IPython 7.17 and above.\n",
            "\n"
          ]
        }
      ]
    },
    {
      "cell_type": "code",
      "source": [
        "# call display_topics on  model\n",
        "\n",
        "display_topics(lsa_model, tfidf_text_vectorizer.get_feature_names_out())\n",
        "##This part of the code will display the top words and their weights for each topic in the\n",
        "#LSA model, using the feature names obtained from the TF-IDF text vectorizer."
      ],
      "metadata": {
        "colab": {
          "base_uri": "https://localhost:8080/"
        },
        "id": "tzbZTaYb7nmL",
        "outputId": "21db15d2-da2a-4386-8157-aa68014b5ed6"
      },
      "id": "tzbZTaYb7nmL",
      "execution_count": 10,
      "outputs": [
        {
          "output_type": "stream",
          "name": "stdout",
          "text": [
            "\n",
            "Topic 00\n",
            "  return (5.62)\n",
            "  item (4.27)\n",
            "  purchased (3.36)\n",
            "  recently (2.11)\n",
            "  process (1.92)\n",
            "\n",
            "Topic 01\n",
            "  wont (1.72)\n",
            "  laptop (1.59)\n",
            "  payment (1.51)\n",
            "  computer (1.37)\n",
            "  turn (1.27)\n",
            "\n",
            "Topic 02\n",
            "  wont (11.27)\n",
            "  laptop (9.35)\n",
            "  turn (8.69)\n",
            "  computer (8.06)\n",
            "  printer (6.58)\n",
            "\n",
            "Topic 03\n",
            "  product (34.39)\n",
            "  warranty (6.00)\n",
            "  come (4.84)\n",
            "  policy (4.70)\n",
            "  im (4.04)\n"
          ]
        },
        {
          "output_type": "stream",
          "name": "stderr",
          "text": [
            "/usr/local/lib/python3.10/dist-packages/ipykernel/ipkernel.py:283: DeprecationWarning:\n",
            "\n",
            "`should_run_async` will not call `transform_cell` automatically in the future. Please pass the result to `transformed_cell` argument and any exception that happen during thetransform in `preprocessing_exc_tuple` in IPython 7.17 and above.\n",
            "\n"
          ]
        }
      ]
    },
    {
      "cell_type": "markdown",
      "id": "d494fe67",
      "metadata": {
        "id": "d494fe67"
      },
      "source": [
        "### Fitting an LDA Model"
      ]
    },
    {
      "cell_type": "code",
      "execution_count": 11,
      "id": "72cf202f",
      "metadata": {
        "colab": {
          "base_uri": "https://localhost:8080/"
        },
        "id": "72cf202f",
        "outputId": "41c3ef19-9baa-438c-b5de-5ee69c796886"
      },
      "outputs": [
        {
          "output_type": "stream",
          "name": "stderr",
          "text": [
            "/usr/local/lib/python3.10/dist-packages/ipykernel/ipkernel.py:283: DeprecationWarning:\n",
            "\n",
            "`should_run_async` will not call `transform_cell` automatically in the future. Please pass the result to `transformed_cell` argument and any exception that happen during thetransform in `preprocessing_exc_tuple` in IPython 7.17 and above.\n",
            "\n"
          ]
        },
        {
          "output_type": "execute_result",
          "data": {
            "text/plain": [
              "(40267, 4356)"
            ]
          },
          "metadata": {},
          "execution_count": 11
        }
      ],
      "source": [
        "\n",
        "count_text_vectorizer = CountVectorizer(\n",
        "    stop_words = stopwords_list, min_df=5, max_df=0.7\n",
        "\n",
        "   )\n",
        "count_text_vectors = count_text_vectorizer.fit_transform(customer_queries[\"clean_queries\"])\n",
        "# prints the shape of the count_text_vectors matrix\n",
        "count_text_vectors.shape\n",
        "\n",
        "#Overall, the code demonstrates the use of CountVectorizer to convert a collection of text\n",
        "#documents into a numerical representation.It also sets some parameters to control the\n",
        "#tokenization process and the inclusion of words in the matrix based on their document\n",
        "#frequency."
      ]
    },
    {
      "cell_type": "code",
      "execution_count": 12,
      "id": "7452a2f9",
      "metadata": {
        "id": "7452a2f9",
        "colab": {
          "base_uri": "https://localhost:8080/"
        },
        "outputId": "ac3bb2c8-895d-433d-c75c-ca2b8a42bc68"
      },
      "outputs": [
        {
          "output_type": "stream",
          "name": "stderr",
          "text": [
            "/usr/local/lib/python3.10/dist-packages/ipykernel/ipkernel.py:283: DeprecationWarning:\n",
            "\n",
            "`should_run_async` will not call `transform_cell` automatically in the future. Please pass the result to `transformed_cell` argument and any exception that happen during thetransform in `preprocessing_exc_tuple` in IPython 7.17 and above.\n",
            "\n"
          ]
        }
      ],
      "source": [
        "# Create a LatentDirichletAllocation object\n",
        "lda_model = LatentDirichletAllocation(n_components = 4, random_state = 7)\n",
        "# Fit the LDA model to the count_text_vectors and\n",
        "#transform the data into a topic-document matrix\n",
        "W_lda_matrix = lda_model.fit_transform(count_text_vectors)\n",
        "# Retrieve the topic-word matrix from the trained LDA model\n",
        "H_lda_matrix = lda_model.components_"
      ]
    },
    {
      "cell_type": "code",
      "source": [
        "#assign topic to dataframe\n",
        "customer_queries['LDA_topic']=[np.argmax(row) for row in W_lda_matrix]\n",
        "\n",
        "customer_queries.groupby('LDA_topic')['Class'].value_counts()"
      ],
      "metadata": {
        "colab": {
          "base_uri": "https://localhost:8080/"
        },
        "id": "wRgG46-t7sA2",
        "outputId": "369e37c0-b83c-4bc1-d655-194c195114ae"
      },
      "id": "wRgG46-t7sA2",
      "execution_count": 13,
      "outputs": [
        {
          "output_type": "stream",
          "name": "stderr",
          "text": [
            "/usr/local/lib/python3.10/dist-packages/ipykernel/ipkernel.py:283: DeprecationWarning:\n",
            "\n",
            "`should_run_async` will not call `transform_cell` automatically in the future. Please pass the result to `transformed_cell` argument and any exception that happen during thetransform in `preprocessing_exc_tuple` in IPython 7.17 and above.\n",
            "\n"
          ]
        },
        {
          "output_type": "execute_result",
          "data": {
            "text/plain": [
              "LDA_topic  Class          \n",
              "0          Returns            9672\n",
              "           Product Inquiry    1003\n",
              "           Billing             311\n",
              "           Tech. Support        39\n",
              "1          Tech. Support      4381\n",
              "           Product Inquiry    3076\n",
              "           Billing              39\n",
              "           Returns              39\n",
              "2          Billing            9640\n",
              "           Product Inquiry     470\n",
              "           Returns             252\n",
              "           Tech. Support       138\n",
              "3          Product Inquiry    5518\n",
              "           Tech. Support      5507\n",
              "           Returns             103\n",
              "           Billing              79\n",
              "Name: count, dtype: int64"
            ]
          },
          "metadata": {},
          "execution_count": 13
        }
      ]
    },
    {
      "cell_type": "code",
      "execution_count": 14,
      "id": "73289f4b",
      "metadata": {
        "colab": {
          "base_uri": "https://localhost:8080/"
        },
        "id": "73289f4b",
        "outputId": "c25d5762-44c1-447a-b660-a4a172a5f627"
      },
      "outputs": [
        {
          "output_type": "stream",
          "name": "stdout",
          "text": [
            "\n",
            "Topic 00\n",
            "  return (9.06)\n",
            "  item (5.87)\n",
            "  purchased (4.46)\n",
            "  recently (3.45)\n",
            "  product (2.56)\n",
            "\n",
            "Topic 01\n",
            "  wont (2.87)\n",
            "  laptop (2.85)\n",
            "  computer (2.41)\n",
            "  turn (1.75)\n",
            "  power (1.15)\n",
            "\n",
            "Topic 02\n",
            "  payment (3.54)\n",
            "  please (2.43)\n",
            "  billing (2.16)\n",
            "  bill (1.63)\n",
            "  order (1.60)\n",
            "\n",
            "Topic 03\n",
            "  product (4.57)\n",
            "  im (2.70)\n",
            "  printer (1.42)\n",
            "  wifi (1.34)\n",
            "  working (1.23)\n"
          ]
        },
        {
          "output_type": "stream",
          "name": "stderr",
          "text": [
            "/usr/local/lib/python3.10/dist-packages/ipykernel/ipkernel.py:283: DeprecationWarning:\n",
            "\n",
            "`should_run_async` will not call `transform_cell` automatically in the future. Please pass the result to `transformed_cell` argument and any exception that happen during thetransform in `preprocessing_exc_tuple` in IPython 7.17 and above.\n",
            "\n"
          ]
        }
      ],
      "source": [
        "# Call `display_topics` on model\n",
        "display_topics(lda_model, tfidf_text_vectorizer.get_feature_names_out())"
      ]
    },
    {
      "cell_type": "markdown",
      "source": [
        " ### Fitting a Non-Negative Matrix Factorization Model"
      ],
      "metadata": {
        "id": "O4HGuDYw68is"
      },
      "id": "O4HGuDYw68is"
    },
    {
      "cell_type": "code",
      "execution_count": 15,
      "id": "22f02ded",
      "metadata": {
        "id": "22f02ded",
        "colab": {
          "base_uri": "https://localhost:8080/"
        },
        "outputId": "102d54cd-553a-48ab-c041-2336bc9d0367"
      },
      "outputs": [
        {
          "output_type": "stream",
          "name": "stderr",
          "text": [
            "/usr/local/lib/python3.10/dist-packages/ipykernel/ipkernel.py:283: DeprecationWarning:\n",
            "\n",
            "`should_run_async` will not call `transform_cell` automatically in the future. Please pass the result to `transformed_cell` argument and any exception that happen during thetransform in `preprocessing_exc_tuple` in IPython 7.17 and above.\n",
            "\n"
          ]
        }
      ],
      "source": [
        "nmf_text_model = NMF(n_components=4, random_state=7)\n",
        "W_text_matrix = nmf_text_model.fit_transform(tfidf_text_vectors)\n",
        "H_text_matrix = nmf_text_model.components_"
      ]
    },
    {
      "cell_type": "code",
      "source": [
        "#assign topic to dataframe\n",
        "customer_queries['NMF_topic']=[np.argmax(row) for row in W_text_matrix]\n",
        "\n",
        "customer_queries.groupby('NMF_topic')['Class'].value_counts()\n"
      ],
      "metadata": {
        "colab": {
          "base_uri": "https://localhost:8080/"
        },
        "id": "gWc3ZgO07xjq",
        "outputId": "52327c16-fb3b-4bdc-aeca-3bcf419fd78e"
      },
      "id": "gWc3ZgO07xjq",
      "execution_count": 16,
      "outputs": [
        {
          "output_type": "stream",
          "name": "stderr",
          "text": [
            "/usr/local/lib/python3.10/dist-packages/ipykernel/ipkernel.py:283: DeprecationWarning:\n",
            "\n",
            "`should_run_async` will not call `transform_cell` automatically in the future. Please pass the result to `transformed_cell` argument and any exception that happen during thetransform in `preprocessing_exc_tuple` in IPython 7.17 and above.\n",
            "\n"
          ]
        },
        {
          "output_type": "execute_result",
          "data": {
            "text/plain": [
              "NMF_topic  Class          \n",
              "0          Returns            7973\n",
              "           Product Inquiry     623\n",
              "           Billing             186\n",
              "           Tech. Support        81\n",
              "1          Billing            9667\n",
              "           Product Inquiry     842\n",
              "           Returns             592\n",
              "           Tech. Support       505\n",
              "2          Tech. Support      9231\n",
              "           Product Inquiry     781\n",
              "           Returns              40\n",
              "           Billing              26\n",
              "3          Product Inquiry    7821\n",
              "           Returns            1461\n",
              "           Tech. Support       248\n",
              "           Billing             190\n",
              "Name: count, dtype: int64"
            ]
          },
          "metadata": {},
          "execution_count": 16
        }
      ]
    },
    {
      "cell_type": "code",
      "source": [
        "display_topics(nmf_text_model, tfidf_text_vectorizer.get_feature_names_out())"
      ],
      "metadata": {
        "colab": {
          "base_uri": "https://localhost:8080/"
        },
        "id": "9oObXX2e7V7c",
        "outputId": "8da53b84-55df-4a2f-8c26-ce1e80f9bbee"
      },
      "id": "9oObXX2e7V7c",
      "execution_count": 17,
      "outputs": [
        {
          "output_type": "stream",
          "name": "stdout",
          "text": [
            "\n",
            "Topic 00\n",
            "  return (10.22)\n",
            "  item (8.25)\n",
            "  purchased (6.14)\n",
            "  recently (3.60)\n",
            "  process (3.37)\n",
            "\n",
            "Topic 01\n",
            "  payment (2.92)\n",
            "  please (1.92)\n",
            "  billing (1.77)\n",
            "  order (1.76)\n",
            "  invoice (1.33)\n",
            "\n",
            "Topic 02\n",
            "  wont (4.32)\n",
            "  laptop (3.75)\n",
            "  turn (3.26)\n",
            "  computer (3.24)\n",
            "  printer (2.66)\n",
            "\n",
            "Topic 03\n",
            "  product (10.48)\n",
            "  warranty (1.78)\n",
            "  im (1.50)\n",
            "  come (1.46)\n",
            "  available (1.13)\n"
          ]
        },
        {
          "output_type": "stream",
          "name": "stderr",
          "text": [
            "/usr/local/lib/python3.10/dist-packages/ipykernel/ipkernel.py:283: DeprecationWarning:\n",
            "\n",
            "`should_run_async` will not call `transform_cell` automatically in the future. Please pass the result to `transformed_cell` argument and any exception that happen during thetransform in `preprocessing_exc_tuple` in IPython 7.17 and above.\n",
            "\n"
          ]
        }
      ]
    },
    {
      "cell_type": "markdown",
      "source": [
        "### LDA Model Visualization"
      ],
      "metadata": {
        "id": "qrbN8ebO_Bw-"
      },
      "id": "qrbN8ebO_Bw-"
    },
    {
      "cell_type": "code",
      "source": [
        "lda_display = pyLDAvis.lda_model.prepare(lda_model, count_text_vectors,count_text_vectorizer,sort_topics=False)"
      ],
      "metadata": {
        "id": "LZuoC7jj8NNN",
        "colab": {
          "base_uri": "https://localhost:8080/"
        },
        "outputId": "10433b88-6220-46eb-c30f-353178e0275b"
      },
      "id": "LZuoC7jj8NNN",
      "execution_count": 18,
      "outputs": [
        {
          "output_type": "stream",
          "name": "stderr",
          "text": [
            "/usr/local/lib/python3.10/dist-packages/ipykernel/ipkernel.py:283: DeprecationWarning:\n",
            "\n",
            "`should_run_async` will not call `transform_cell` automatically in the future. Please pass the result to `transformed_cell` argument and any exception that happen during thetransform in `preprocessing_exc_tuple` in IPython 7.17 and above.\n",
            "\n"
          ]
        }
      ]
    },
    {
      "cell_type": "code",
      "source": [
        "pyLDAvis.display(lda_display)"
      ],
      "metadata": {
        "colab": {
          "base_uri": "https://localhost:8080/",
          "height": 951
        },
        "id": "1I7dds1o-mV5",
        "outputId": "f92ff0d0-0c71-450a-93b3-71007a2616bf"
      },
      "id": "1I7dds1o-mV5",
      "execution_count": 19,
      "outputs": [
        {
          "output_type": "stream",
          "name": "stderr",
          "text": [
            "/usr/local/lib/python3.10/dist-packages/ipykernel/ipkernel.py:283: DeprecationWarning:\n",
            "\n",
            "`should_run_async` will not call `transform_cell` automatically in the future. Please pass the result to `transformed_cell` argument and any exception that happen during thetransform in `preprocessing_exc_tuple` in IPython 7.17 and above.\n",
            "\n"
          ]
        },
        {
          "output_type": "execute_result",
          "data": {
            "text/plain": [
              "<IPython.core.display.HTML object>"
            ],
            "text/html": [
              "\n",
              "<link rel=\"stylesheet\" type=\"text/css\" href=\"https://cdn.jsdelivr.net/gh/bmabey/pyLDAvis@3.4.0/pyLDAvis/js/ldavis.v1.0.0.css\">\n",
              "\n",
              "\n",
              "<div id=\"ldavis_el72351402088566424161557077043\" style=\"background-color:white;\"></div>\n",
              "<script type=\"text/javascript\">\n",
              "\n",
              "var ldavis_el72351402088566424161557077043_data = {\"mdsDat\": {\"x\": [-0.21717703864319293, 0.23283494340706207, -0.2102555659207126, 0.19459766115684377], \"y\": [0.20131038916725233, -0.035384979098257906, -0.20809405696804056, 0.04216864689904609], \"topics\": [1, 2, 3, 4], \"cluster\": [1, 1, 1, 1], \"Freq\": [26.47319179090321, 18.099243141185067, 30.517980429591766, 24.909584638319952]}, \"tinfo\": {\"Term\": [\"return\", \"item\", \"purchased\", \"payment\", \"product\", \"wont\", \"recently\", \"refund\", \"laptop\", \"billing\", \"computer\", \"policy\", \"process\", \"please\", \"store\", \"bill\", \"im\", \"invoice\", \"turn\", \"order\", \"returning\", \"returns\", \"wifi\", \"items\", \"purchase\", \"card\", \"recent\", \"printer\", \"received\", \"online\", \"return\", \"item\", \"refund\", \"purchased\", \"policy\", \"returning\", \"returns\", \"exchange\", \"ordered\", \"store\", \"returned\", \"damaged\", \"arrived\", \"ago\", \"satisfied\", \"initiate\", \"procedure\", \"defective\", \"week\", \"original\", \"policies\", \"opened\", \"faulty\", \"returnexchange\", \"refunds\", \"delivered\", \"unfortunately\", \"expectations\", \"label\", \"30\", \"days\", \"arrange\", \"merchandise\", \"process\", \"recently\", \"items\", \"bought\", \"online\", \"follow\", \"received\", \"full\", \"purchase\", \"order\", \"need\", \"product\", \"like\", \"receive\", \"get\", \"would\", \"possible\", \"please\", \"could\", \"turn\", \"power\", \"software\", \"button\", \"press\", \"install\", \"monitor\", \"drive\", \"external\", \"hard\", \"fabric\", \"operating\", \"plug\", \"air\", \"updates\", \"vacuum\", \"boot\", \"version\", \"charger\", \"pro\", \"noise\", \"high\", \"plugged\", \"macbook\", \"coffee\", \"feature\", \"batteries\", \"cleaner\", \"hardware\", \"replace\", \"screen\", \"compatible\", \"windows\", \"light\", \"display\", \"wont\", \"battery\", \"machine\", \"headphones\", \"system\", \"often\", \"laptop\", \"computer\", \"bluetooth\", \"sound\", \"turning\", \"type\", \"issue\", \"fix\", \"causing\", \"new\", \"running\", \"could\", \"isnt\", \"update\", \"use\", \"im\", \"updated\", \"made\", \"need\", \"printer\", \"get\", \"recently\", \"payment\", \"billing\", \"bill\", \"invoice\", \"card\", \"statement\", \"total\", \"charges\", \"amount\", \"recent\", \"balance\", \"pay\", \"confirm\", \"charged\", \"plan\", \"payments\", \"monthly\", \"subscription\", \"services\", \"address\", \"method\", \"current\", \"billed\", \"breakdown\", \"methods\", \"accept\", \"taxes\", \"review\", \"discounts\", \"applied\", \"us\", \"due\", \"charge\", \"associated\", \"details\", \"service\", \"month\", \"cost\", \"fees\", \"date\", \"please\", \"account\", \"credit\", \"information\", \"additional\", \"provide\", \"last\", \"order\", \"purchase\", \"could\", \"would\", \"need\", \"like\", \"make\", \"internet\", \"connection\", \"password\", \"print\", \"sizes\", \"message\", \"router\", \"every\", \"printing\", \"colors\", \"comes\", \"document\", \"similar\", \"wifi\", \"emails\", \"network\", \"browser\", \"ingredients\", \"crashing\", \"freezing\", \"web\", \"open\", \"word\", \"carry\", \"warranty\", \"market\", \"microsoft\", \"ink\", \"error\", \"wirelessly\", \"getting\", \"stopped\", \"keeps\", \"log\", \"connecting\", \"best\", \"working\", \"trouble\", \"connect\", \"printer\", \"wireless\", \"im\", \"cant\", \"product\", \"come\", \"try\", \"isnt\", \"trying\", \"seem\", \"way\", \"issue\", \"help\", \"fix\", \"available\", \"wondering\", \"laptop\", \"computer\", \"new\", \"get\", \"use\", \"could\"], \"Freq\": [8162.0, 5285.0, 4017.0, 3680.0, 6294.0, 1877.0, 3619.0, 2099.0, 2621.0, 2245.0, 2274.0, 1752.0, 2080.0, 3173.0, 1555.0, 1694.0, 3157.0, 1571.0, 1076.0, 3224.0, 1336.0, 1284.0, 1144.0, 1564.0, 2688.0, 1195.0, 1156.0, 1512.0, 2003.0, 1652.0, 8161.473826691781, 5284.256753840097, 2098.9821743008883, 4016.0096377177047, 1751.8003900420097, 1336.1604904642572, 1283.3422553022594, 832.5009088247128, 616.3612803853663, 1554.036772288782, 535.1935013140769, 441.30774846751655, 350.35511510200695, 528.9164643032377, 270.16277050085256, 254.51396937203114, 230.05928183738715, 209.5264506371369, 403.42872938980213, 244.5551157542023, 175.28920012238092, 175.28053625342451, 128.34978554252532, 126.40103515295256, 122.47813932062815, 138.92671016056659, 108.78842320593708, 104.87935776189299, 102.92371319736955, 110.68351276106364, 435.9774784250788, 280.68705190870867, 143.00754560434075, 1917.594631843941, 3106.9527499096907, 1369.3944077874028, 893.1658131461904, 1373.8268966846954, 217.8083293474307, 1318.7517708654545, 494.8438209056704, 1404.5546981665502, 1561.117562708625, 1462.7482863110197, 2309.6175849636315, 909.907041520553, 660.8381207874079, 973.7230414056471, 844.72247226858, 502.61958838837097, 647.4037547913664, 561.3786959099979, 1075.4762845978164, 710.2858782535579, 507.83537929978183, 395.95892676449137, 313.56324018404524, 272.8559709690007, 250.48996075778913, 206.74730287056616, 172.15839793848338, 160.94513651935335, 172.06547819332738, 143.67619616997237, 133.50910877426278, 129.43660435890754, 135.43953605747487, 119.26106948163773, 112.14539010192333, 185.8876746798706, 95.86690240586393, 95.86672043882275, 93.83659726882273, 92.7931919805385, 86.71458574150836, 85.69267067893576, 79.58816301470908, 94.69086787628265, 78.57280034614084, 77.55363159084227, 107.73372342923827, 89.58075551473739, 400.1684569732202, 284.38481225584735, 325.48782700045484, 143.6233303379443, 126.70493979234963, 1767.9904627008616, 227.57307185727117, 170.21788838314018, 120.32084442856628, 396.9415647141906, 115.52758327323788, 1756.5151375072992, 1482.3530603036465, 165.54625520096826, 196.65142836557106, 170.88110040087895, 427.88764062430135, 626.1016635045281, 479.69066904107876, 234.29109488840615, 417.8609806941064, 214.53846103248094, 613.3016677071282, 407.9540136557823, 261.90321591183255, 322.8276102000488, 434.15935629496227, 219.06179437300102, 264.2807370368146, 389.04638486972055, 309.8221582708757, 292.2689048755691, 269.8721190635368, 3680.211810259034, 2244.8474583671964, 1693.5409577888308, 1570.4444869353165, 1194.4054165617488, 1084.1510040797807, 1009.326952482129, 999.4853287868474, 1098.8351464953907, 1155.749329747026, 826.2184993260191, 729.7364254608949, 670.6447456715456, 888.92115856297, 502.27854367047905, 467.8693214170489, 454.0869872729527, 459.972768699705, 455.9863094534915, 717.3345345536582, 363.5082210325908, 574.7236013085356, 349.7300118418915, 331.9672498851423, 315.26775557212136, 340.760421409403, 235.5266668571068, 234.5439963814786, 227.64714694637215, 208.93550027346149, 490.6257877106975, 1018.4461864047978, 978.6428865134212, 340.7218080950745, 600.187661429405, 583.427153448157, 719.3936253265421, 492.15392417582166, 521.8267924252596, 582.374713766478, 2523.392546208249, 1369.1692953960658, 944.0077787118016, 1211.997891422549, 626.4039964897956, 1145.166986446308, 944.0243385142911, 1662.9949955163079, 1273.3897902957226, 1110.388617829089, 775.9969806658379, 821.8530981222955, 711.7886426620282, 690.0462679697874, 844.9495661467131, 587.2206805833559, 342.2358349007172, 322.6312866942834, 322.62752898320406, 307.918213907978, 256.97269711675636, 202.0894189246043, 187.40950496171678, 233.15306440920227, 177.54109141245917, 160.94222962110058, 137.41944793563695, 1138.377951635343, 127.62193556018345, 493.96040834825016, 123.69382356163673, 168.42111317567694, 102.15155712568762, 101.16544244438177, 89.38750161782569, 329.4192393332037, 109.74676042167579, 75.68793159588142, 624.7097336707433, 72.75096863596234, 94.0685264409191, 64.91284682301745, 560.1058367455232, 63.93716811736596, 419.2098495363168, 297.9505711788894, 375.9376286209135, 153.7396999867164, 631.0258365505125, 856.7825983638257, 1045.7795171722044, 562.1640666934321, 806.4214811791483, 1202.3225419019025, 350.28715654081867, 2291.726719566665, 712.2819470337317, 3875.9564297119787, 645.7450445372821, 466.53381450188624, 854.9492903249846, 456.0038367140781, 533.396801967269, 627.1024285982763, 783.4658802266675, 863.428646083685, 629.0641842986836, 622.7149335849409, 471.1530899047183, 864.0723017161743, 792.0618107711075, 563.9927495547462, 661.9441714820085, 530.7510605124786, 533.2623099372885], \"Total\": [8162.0, 5285.0, 4017.0, 3680.0, 6294.0, 1877.0, 3619.0, 2099.0, 2621.0, 2245.0, 2274.0, 1752.0, 2080.0, 3173.0, 1555.0, 1694.0, 3157.0, 1571.0, 1076.0, 3224.0, 1336.0, 1284.0, 1144.0, 1564.0, 2688.0, 1195.0, 1156.0, 1512.0, 2003.0, 1652.0, 8162.222370921413, 5285.00901072674, 2099.732290091834, 4017.5505569408197, 1752.5498394270753, 1336.9088730256044, 1284.0980715700227, 833.2498496250674, 617.116630320573, 1555.978968528004, 535.9443447938303, 442.0584212470257, 351.10635960901027, 530.0791052970997, 270.91206195732667, 255.26442162520254, 230.81510798630418, 210.27747676740495, 404.89999133467217, 245.48592432726912, 176.04821658851512, 176.04833171720674, 129.10536714237577, 127.14920597782488, 123.23735326446518, 139.86425334549764, 109.54567124389709, 105.63380731596807, 103.67778297332313, 111.50212629346183, 441.09764886328037, 285.6093247718368, 144.75951638040263, 2080.2633188420764, 3619.8403327235656, 1564.1019531167456, 1014.5269805565432, 1652.437713779115, 227.90448378925356, 2003.514391652279, 619.8889338191121, 2688.423329324873, 3224.622858696293, 3123.4911519840016, 6294.48386092473, 1713.5659920310545, 1252.7922249203048, 2471.9036851843352, 1987.2997537887552, 822.2942175628402, 3173.6685919523106, 2818.331291383504, 1076.2147028355134, 711.0247741314286, 508.5928907126567, 396.69699450581857, 314.30041873724923, 273.6100937769024, 251.231252119246, 207.4897966544834, 172.9034679399232, 161.712943496111, 172.90004038605107, 144.42071388778962, 134.24848290615049, 130.17938943652067, 136.279051395157, 120.00684844271728, 112.88633743398033, 187.1280303952409, 96.6103790505772, 96.61037383859852, 94.57603851532873, 93.5579086776494, 87.45529481352942, 86.43788257649095, 80.33439665180848, 95.58795433789699, 79.3172207010671, 78.29990697334817, 108.8048145860195, 90.50020825623713, 404.69089888204184, 287.75202320617046, 331.3966981830012, 145.39872778743765, 128.11935432096413, 1877.7221662490872, 238.63166988185404, 179.69193816258863, 123.96547801823334, 469.5067189834685, 118.89002037433086, 2621.079971676466, 2274.906678508991, 179.52065231455896, 227.69848969531873, 194.4154327158805, 743.9793343124257, 1565.537686977551, 1109.2474400517947, 376.07034783964184, 1157.3640456756177, 322.4290763255443, 2818.331291383504, 1263.4084981162268, 556.7383836024168, 1221.8015569729093, 3157.4226006930844, 395.9204521161314, 770.8497144972488, 3123.4911519840016, 1512.63645683223, 2471.9036851843352, 3619.8403327235656, 3680.9588624131843, 2245.5937729533402, 1694.287585133762, 1571.2278908615708, 1195.1586842435693, 1084.8973004576164, 1010.0771618884507, 1000.232436574575, 1099.6639337862564, 1156.765685100849, 826.964770079569, 730.4861568453945, 671.41750435814, 889.9696573307815, 503.073762894758, 468.6157332946, 454.83307948768504, 460.740465466167, 456.8041264777284, 718.6686339724854, 364.2613168560115, 575.9383209856413, 350.4786618538716, 332.75961240524106, 316.022079686572, 341.6177974074018, 236.27948560535626, 235.29507836950543, 228.40378810818353, 209.69861291347337, 494.1933684327428, 1041.432723824102, 1000.9260720986034, 343.5734485304872, 612.2739414369033, 603.3849654366223, 760.7354202184763, 506.94406173254345, 541.3422232487433, 612.1563158129129, 3173.6685919523106, 1618.3215307041573, 1107.443986621014, 1504.3777301218279, 677.8933936839026, 1598.0203115957709, 1322.064798059211, 3224.622858696293, 2688.423329324873, 2818.331291383504, 1987.2997537887552, 3123.4911519840016, 1713.5659920310545, 1409.4105903249247, 845.7030322365425, 587.977605891888, 342.9911619302092, 323.39230398688665, 323.39248500538145, 308.693739674512, 257.7362471317289, 202.8590991219628, 188.15963007426552, 234.22893821279595, 178.3606118769385, 161.701147775588, 138.1823479601497, 1144.794083704119, 128.383105800533, 496.9235458949134, 124.46392721336642, 169.55463547713305, 102.90451501814205, 101.9247988898259, 90.1658998889341, 332.2888844988189, 110.75320642743793, 76.44603396181157, 631.1138129322319, 73.50600927220978, 95.07418374136728, 65.66648728145076, 566.6299434386937, 64.68650020472957, 425.3475531149449, 302.96965566724106, 384.4326860733639, 155.87193293978788, 650.3966362623464, 898.8438924580906, 1145.2662017428045, 648.9482168596778, 963.1350992352212, 1512.63645683223, 391.5123343723121, 3157.4226006930844, 881.2694169436475, 6294.48386092473, 823.2129822251221, 589.5191203071356, 1263.4084981162268, 574.6446507126076, 776.4570316932595, 1007.9475732564622, 1565.537686977551, 1904.1941176733874, 1109.2474400517947, 1211.7795214148014, 711.0466403937928, 2621.079971676466, 2274.906678508991, 1157.3640456756177, 2471.9036851843352, 1221.8015569729093, 2818.331291383504], \"Category\": [\"Default\", \"Default\", \"Default\", \"Default\", \"Default\", \"Default\", \"Default\", \"Default\", \"Default\", \"Default\", \"Default\", \"Default\", \"Default\", \"Default\", \"Default\", \"Default\", \"Default\", \"Default\", \"Default\", \"Default\", \"Default\", \"Default\", \"Default\", \"Default\", \"Default\", \"Default\", \"Default\", \"Default\", \"Default\", \"Default\", \"Topic1\", \"Topic1\", \"Topic1\", \"Topic1\", \"Topic1\", \"Topic1\", \"Topic1\", \"Topic1\", \"Topic1\", \"Topic1\", \"Topic1\", \"Topic1\", \"Topic1\", \"Topic1\", \"Topic1\", \"Topic1\", \"Topic1\", \"Topic1\", \"Topic1\", \"Topic1\", \"Topic1\", \"Topic1\", \"Topic1\", \"Topic1\", \"Topic1\", \"Topic1\", \"Topic1\", \"Topic1\", \"Topic1\", \"Topic1\", \"Topic1\", \"Topic1\", \"Topic1\", \"Topic1\", \"Topic1\", \"Topic1\", \"Topic1\", \"Topic1\", \"Topic1\", \"Topic1\", \"Topic1\", \"Topic1\", \"Topic1\", \"Topic1\", \"Topic1\", \"Topic1\", \"Topic1\", \"Topic1\", \"Topic1\", \"Topic1\", \"Topic1\", \"Topic1\", \"Topic2\", \"Topic2\", \"Topic2\", \"Topic2\", \"Topic2\", \"Topic2\", \"Topic2\", \"Topic2\", \"Topic2\", \"Topic2\", \"Topic2\", \"Topic2\", \"Topic2\", \"Topic2\", \"Topic2\", \"Topic2\", \"Topic2\", \"Topic2\", \"Topic2\", \"Topic2\", \"Topic2\", \"Topic2\", \"Topic2\", \"Topic2\", \"Topic2\", \"Topic2\", \"Topic2\", \"Topic2\", \"Topic2\", \"Topic2\", \"Topic2\", \"Topic2\", \"Topic2\", \"Topic2\", \"Topic2\", \"Topic2\", \"Topic2\", \"Topic2\", \"Topic2\", \"Topic2\", \"Topic2\", \"Topic2\", \"Topic2\", \"Topic2\", \"Topic2\", \"Topic2\", \"Topic2\", \"Topic2\", \"Topic2\", \"Topic2\", \"Topic2\", \"Topic2\", \"Topic2\", \"Topic2\", \"Topic2\", \"Topic2\", \"Topic2\", \"Topic2\", \"Topic2\", \"Topic2\", \"Topic2\", \"Topic2\", \"Topic2\", \"Topic3\", \"Topic3\", \"Topic3\", \"Topic3\", \"Topic3\", \"Topic3\", \"Topic3\", \"Topic3\", \"Topic3\", \"Topic3\", \"Topic3\", \"Topic3\", \"Topic3\", \"Topic3\", \"Topic3\", \"Topic3\", \"Topic3\", \"Topic3\", \"Topic3\", \"Topic3\", \"Topic3\", \"Topic3\", \"Topic3\", \"Topic3\", \"Topic3\", \"Topic3\", \"Topic3\", \"Topic3\", \"Topic3\", \"Topic3\", \"Topic3\", \"Topic3\", \"Topic3\", \"Topic3\", \"Topic3\", \"Topic3\", \"Topic3\", \"Topic3\", \"Topic3\", \"Topic3\", \"Topic3\", \"Topic3\", \"Topic3\", \"Topic3\", \"Topic3\", \"Topic3\", \"Topic3\", \"Topic3\", \"Topic3\", \"Topic3\", \"Topic3\", \"Topic3\", \"Topic3\", \"Topic3\", \"Topic4\", \"Topic4\", \"Topic4\", \"Topic4\", \"Topic4\", \"Topic4\", \"Topic4\", \"Topic4\", \"Topic4\", \"Topic4\", \"Topic4\", \"Topic4\", \"Topic4\", \"Topic4\", \"Topic4\", \"Topic4\", \"Topic4\", \"Topic4\", \"Topic4\", \"Topic4\", \"Topic4\", \"Topic4\", \"Topic4\", \"Topic4\", \"Topic4\", \"Topic4\", \"Topic4\", \"Topic4\", \"Topic4\", \"Topic4\", \"Topic4\", \"Topic4\", \"Topic4\", \"Topic4\", \"Topic4\", \"Topic4\", \"Topic4\", \"Topic4\", \"Topic4\", \"Topic4\", \"Topic4\", \"Topic4\", \"Topic4\", \"Topic4\", \"Topic4\", \"Topic4\", \"Topic4\", \"Topic4\", \"Topic4\", \"Topic4\", \"Topic4\", \"Topic4\", \"Topic4\", \"Topic4\", \"Topic4\", \"Topic4\", \"Topic4\", \"Topic4\", \"Topic4\", \"Topic4\", \"Topic4\"], \"logprob\": [30.0, 29.0, 28.0, 27.0, 26.0, 25.0, 24.0, 23.0, 22.0, 21.0, 20.0, 19.0, 18.0, 17.0, 16.0, 15.0, 14.0, 13.0, 12.0, 11.0, 10.0, 9.0, 8.0, 7.0, 6.0, 5.0, 4.0, 3.0, 2.0, 1.0, -2.4011, -2.8358, -3.7591, -3.1103, -3.9399, -4.2108, -4.2511, -4.6839, -4.9845, -4.0597, -5.1257, -5.3186, -5.5494, -5.1375, -5.8093, -5.869, -5.97, -6.0635, -5.4083, -5.9089, -6.2419, -6.2419, -6.5536, -6.5689, -6.6004, -6.4744, -6.7189, -6.7555, -6.7743, -6.7016, -5.3307, -5.7711, -6.4454, -3.8495, -3.3669, -4.1862, -4.6135, -4.183, -6.0247, -4.2239, -5.2041, -4.1608, -4.0552, -4.1202, -3.6635, -4.595, -4.9148, -4.5272, -4.6693, -5.1885, -4.9353, -5.0779, -4.0475, -4.4624, -4.7979, -5.0467, -5.28, -5.4191, -5.5046, -5.6966, -5.8796, -5.947, -5.8802, -6.0605, -6.1339, -6.1649, -6.1195, -6.2467, -6.3083, -5.8029, -6.4651, -6.4651, -6.4865, -6.4977, -6.5654, -6.5773, -6.6512, -6.4774, -6.664, -6.6771, -6.3484, -6.5329, -5.0362, -5.3777, -5.2427, -6.0609, -6.1862, -3.5504, -5.6006, -5.891, -6.2379, -5.0443, -6.2785, -3.557, -3.7267, -5.9188, -5.7466, -5.8871, -4.9692, -4.5885, -4.8549, -5.5715, -4.9929, -5.6596, -4.6092, -5.0169, -5.4601, -5.2509, -4.9546, -5.6387, -5.451, -5.0643, -5.292, -5.3504, -5.4301, -3.3398, -3.8341, -4.1159, -4.1914, -4.4651, -4.5619, -4.6335, -4.6433, -4.5485, -4.498, -4.8336, -4.9578, -5.0423, -4.7605, -5.3313, -5.4023, -5.4322, -5.4193, -5.428, -4.975, -5.6547, -5.1966, -5.6933, -5.7455, -5.7971, -5.7193, -6.0887, -6.0929, -6.1227, -6.2085, -5.3548, -4.6245, -4.6643, -5.7194, -5.1533, -5.1816, -4.9721, -5.3517, -5.2932, -5.1834, -3.7171, -4.3285, -4.7004, -4.4505, -5.1105, -4.5072, -4.7003, -4.1341, -4.4011, -4.538, -4.8963, -4.8389, -4.9827, -5.0137, -4.6082, -4.972, -5.5119, -5.5709, -5.5709, -5.6176, -5.7985, -6.0387, -6.1141, -5.8957, -6.1682, -6.2664, -6.4244, -4.3101, -6.4984, -5.145, -6.5296, -6.221, -6.721, -6.7307, -6.8544, -5.5501, -6.6493, -7.0208, -4.9101, -7.0604, -6.8034, -7.1744, -5.0193, -7.1895, -5.3091, -5.6505, -5.418, -6.3122, -4.9001, -4.5942, -4.3949, -5.0156, -4.6548, -4.2554, -5.4887, -3.6104, -4.779, -3.0849, -4.877, -5.2021, -4.5964, -5.2249, -5.0682, -4.9063, -4.6837, -4.5865, -4.9032, -4.9133, -5.1922, -4.5858, -4.6728, -5.0124, -4.8522, -5.0731, -5.0684], \"loglift\": [30.0, 29.0, 28.0, 27.0, 26.0, 25.0, 24.0, 23.0, 22.0, 21.0, 20.0, 19.0, 18.0, 17.0, 16.0, 15.0, 14.0, 13.0, 12.0, 11.0, 10.0, 9.0, 8.0, 7.0, 6.0, 5.0, 4.0, 3.0, 2.0, 1.0, 1.3289, 1.3289, 1.3287, 1.3287, 1.3286, 1.3285, 1.3284, 1.3281, 1.3278, 1.3278, 1.3276, 1.3273, 1.3269, 1.3268, 1.3263, 1.3261, 1.3258, 1.3255, 1.3254, 1.3252, 1.3247, 1.3247, 1.3232, 1.3231, 1.3229, 1.3223, 1.3221, 1.3219, 1.3217, 1.3217, 1.3174, 1.3117, 1.3169, 1.2476, 1.1763, 1.1961, 1.2016, 1.1444, 1.2837, 0.9108, 1.1037, 0.6798, 0.6036, 0.5704, 0.3264, 0.696, 0.6894, 0.3974, 0.4735, 0.8368, -0.2606, -0.2845, 1.7086, 1.7083, 1.7078, 1.7074, 1.707, 1.7065, 1.7063, 1.7057, 1.705, 1.7045, 1.7045, 1.7041, 1.7038, 1.7036, 1.7031, 1.7031, 1.7027, 1.7026, 1.7016, 1.7016, 1.7015, 1.7011, 1.7008, 1.7006, 1.7, 1.6999, 1.6999, 1.6997, 1.6994, 1.6991, 1.6981, 1.6975, 1.6913, 1.697, 1.6982, 1.6491, 1.6619, 1.6551, 1.6795, 1.5414, 1.6806, 1.309, 1.281, 1.6283, 1.5627, 1.5803, 1.1561, 0.7928, 0.871, 1.2361, 0.6905, 1.3019, 0.1843, 0.5789, 0.9552, 0.3783, -0.2748, 1.1174, 0.6388, -0.3737, 0.1237, -0.4258, -0.8869, 1.1867, 1.1865, 1.1864, 1.1864, 1.1862, 1.1862, 1.1861, 1.1861, 1.1861, 1.186, 1.186, 1.1858, 1.1857, 1.1857, 1.1853, 1.1853, 1.1852, 1.1852, 1.1851, 1.185, 1.1848, 1.1847, 1.1847, 1.1845, 1.1845, 1.1843, 1.1837, 1.1837, 1.1835, 1.1832, 1.1796, 1.1645, 1.1643, 1.1785, 1.1669, 1.1532, 1.131, 1.1572, 1.1501, 1.137, 0.9576, 1.0197, 1.0272, 0.9707, 1.1079, 0.8536, 0.8501, 0.5247, 0.4396, 0.2554, 0.2465, -0.1483, 0.3083, 0.4727, 1.389, 1.3886, 1.3877, 1.3876, 1.3875, 1.3874, 1.387, 1.3861, 1.3859, 1.3853, 1.3853, 1.3852, 1.3844, 1.3843, 1.384, 1.3839, 1.3837, 1.3832, 1.3826, 1.3824, 1.3812, 1.3812, 1.3808, 1.38, 1.3797, 1.3796, 1.3793, 1.3784, 1.3783, 1.3783, 1.3754, 1.3732, 1.3676, 1.3761, 1.3597, 1.342, 1.299, 1.2464, 1.2123, 1.1603, 1.2787, 1.0695, 1.177, 0.905, 1.1471, 1.1559, 0.9994, 1.1587, 1.0144, 0.9154, 0.6977, 0.599, 0.8227, 0.7242, 0.9784, 0.2802, 0.3349, 0.6711, 0.0724, 0.5561, -0.275]}, \"token.table\": {\"Topic\": [1, 3, 3, 4, 1, 2, 3, 4, 1, 3, 1, 3, 2, 3, 3, 1, 3, 1, 1, 3, 1, 2, 3, 4, 3, 2, 2, 4, 1, 2, 3, 4, 3, 3, 3, 2, 4, 2, 1, 2, 4, 3, 4, 2, 2, 4, 3, 4, 2, 4, 2, 3, 1, 3, 2, 3, 2, 2, 2, 4, 1, 2, 3, 4, 4, 2, 4, 2, 4, 3, 2, 4, 2, 4, 4, 1, 2, 3, 1, 2, 3, 4, 4, 1, 3, 2, 3, 1, 1, 3, 1, 3, 4, 1, 1, 1, 3, 3, 2, 4, 4, 2, 1, 3, 4, 2, 4, 4, 1, 1, 2, 2, 1, 2, 1, 3, 2, 4, 1, 3, 4, 4, 1, 3, 4, 1, 2, 3, 4, 1, 2, 4, 2, 2, 4, 2, 4, 1, 2, 3, 4, 2, 1, 2, 3, 4, 1, 2, 3, 2, 4, 1, 4, 2, 4, 3, 2, 4, 1, 2, 3, 4, 1, 1, 3, 2, 4, 1, 2, 4, 1, 2, 3, 2, 4, 1, 2, 3, 4, 2, 4, 2, 2, 4, 1, 2, 3, 4, 1, 2, 3, 4, 4, 1, 3, 4, 3, 3, 2, 4, 2, 1, 3, 3, 1, 2, 3, 4, 2, 4, 1, 2, 3, 4, 2, 2, 4, 1, 3, 4, 2, 4, 1, 2, 1, 3, 1, 1, 4, 3, 3, 3, 3, 1, 2, 3, 2, 2, 1, 1, 1, 2, 3, 4, 2, 2, 4, 2, 4, 4, 2, 1, 1, 3, 1, 2, 3, 4, 1, 2, 3, 4, 1, 2, 3, 4, 1, 4, 1, 3, 1, 3, 3, 1, 2, 3, 4, 1, 1, 2, 1, 1, 1, 1, 1, 3, 4, 2, 4, 1, 2, 4, 1, 2, 3, 4, 1, 3, 4, 3, 4, 4, 2, 2, 4, 3, 2, 4, 1, 4, 3, 2, 3, 4, 3, 3, 2, 4, 2, 4, 2, 3, 4, 2, 2, 4, 1, 2, 3, 4, 1, 1, 2, 3, 2, 3, 2, 1, 3, 2, 3, 4, 2, 2, 3, 1, 3, 4, 1, 2, 3, 4, 4, 1, 3, 2, 4, 2, 4, 2, 4, 4, 1, 2, 3, 4, 2, 4, 2, 4, 2, 4, 1, 2, 3, 4], \"Freq\": [0.9954967110480002, 0.9981915538005035, 0.8459381983284412, 0.15386312007580852, 0.0014751582023327604, 0.07228275191430526, 0.923449034660308, 0.002950316404665521, 0.0013914618681386414, 0.9976781594554058, 0.9979642561151418, 0.0018865108811250318, 0.9909402752492108, 0.9993962393729051, 0.9966684905361695, 0.9838614345819451, 0.014005144976255445, 0.996848933154494, 0.00582117159679913, 0.9925097572542517, 0.10645500911699457, 0.093251287055972, 0.28718095482724115, 0.5141199277510669, 0.9988333601206782, 0.996000607456196, 0.9554473641863306, 0.0460961447633756, 0.0011125402401803892, 0.035601287685772455, 0.010012862161623502, 0.9534469858345934, 0.9998302619128622, 0.9986342624930725, 0.9997355830958867, 0.9246846970516358, 0.07241506663657389, 0.9921484082650951, 0.8802131605313477, 0.029570430924905296, 0.08969697380554607, 0.997717233772, 0.9962725970186437, 0.9982430053278148, 0.19063409755287436, 0.8079254610574199, 0.9990305184919418, 0.9941653747265112, 0.6222240103327122, 0.3749298523799676, 0.021979645263784008, 0.9780942142383884, 0.001123633813538345, 0.9989104602355886, 0.993682055110687, 0.9987678498221917, 0.9961697659046995, 0.9958374411740734, 0.004269327298454918, 0.9947532605399958, 0.004859009863022458, 0.19557514698665396, 0.01579178205482299, 0.784730092878127, 0.9979781865898324, 0.9869609145945702, 0.01042564346402715, 0.6514552944085275, 0.3481461492385653, 0.9993781747490496, 0.16197104655813294, 0.8368504072170202, 0.02921294321137308, 0.9701772192829692, 0.9983373416230622, 0.027616459204893896, 0.0019726042289209926, 0.9705212806291285, 0.19905395853040686, 0.21750459283269055, 0.3938500783756713, 0.18911900159840794, 0.9912101522660829, 0.14718577369979557, 0.8524133151693682, 0.0017362970366143267, 0.998370796053238, 0.9976056982603341, 0.04737352086531926, 0.9507375566764074, 0.9884432644870877, 0.004534143415078384, 0.006801215122617576, 0.9986804256372551, 0.9938207703196131, 0.019599070265571047, 0.9799535132785523, 0.9982321304233699, 0.9912631910541796, 0.007805221976804564, 0.9956639282699399, 0.9976394181189593, 0.021124744303421563, 0.977499531858325, 0.9970159173347292, 0.010588921516550895, 0.9882993415447502, 0.995765045168389, 0.9997001504108524, 0.9939999576643844, 0.9947747263216427, 0.994794446640721, 0.9914382556911303, 0.9938490750014525, 0.03509794577998329, 0.9642698787974356, 0.43272581271640087, 0.5670511170804503, 0.9565410753462298, 0.004387803097918485, 0.03949022788126637, 0.9909266547503759, 0.7985301446669225, 0.20003583421959273, 0.0016131922114483283, 0.3940282972341484, 0.1181275798689644, 0.2200732994819063, 0.26780978723717275, 0.009404074316889392, 0.004702037158444696, 0.9850767846941638, 0.9955913022130591, 0.9926031344377392, 0.009190769763312399, 0.9680114328470537, 0.024200285821176344, 0.18327963349998197, 0.09032692539254127, 0.27308140234954337, 0.45321009659164596, 0.9940367555716573, 0.010768276629342134, 0.13745388403336722, 0.12573546534849492, 0.7259085304250639, 0.19277073449931698, 0.0013294533413745998, 0.8056487248730074, 0.005897803956736204, 0.9908310647316823, 0.9989641265965737, 0.9898504197644356, 0.9977702073469562, 0.9991687008208031, 0.9992185151061076, 0.32293593133838977, 0.6767407384664786, 0.0549332032792087, 0.3998626192184261, 0.04471307243656522, 0.5001476531118653, 0.999809080604273, 0.8752626369860539, 0.12403283533622678, 0.020809885032703243, 0.9780645965370524, 0.9934626015923052, 0.6703343732302098, 0.329635115805863, 0.21935384742542086, 0.0665625468049553, 0.7140345929986114, 0.990380054841453, 0.0068776392697323125, 0.5310562909347867, 0.002334313366746315, 0.4155077792808441, 0.05135489406841893, 0.012831046374285898, 0.9879905708200142, 0.9949341357812247, 0.9460635893758396, 0.050085719437544446, 0.3126420046184763, 0.34247920837874585, 0.3411819386500385, 0.0038918091861221116, 0.25897350460227003, 0.09010858927257066, 0.4895663511659351, 0.161060234369083, 0.993116082926827, 0.9878452455189272, 0.006908008709922568, 0.99775266037062, 0.9992826115650518, 0.9967657965937516, 0.010518102398021376, 0.9887016254140093, 0.9950991283574004, 0.05389521627404331, 0.9451380610009059, 0.9981683841275938, 0.46838615152494384, 0.1245401318818887, 0.2631670653133998, 0.14406956130295606, 0.004024764003481028, 0.994116708859814, 0.05270597460489704, 0.3611655308991305, 0.09936372261578949, 0.48731425700265457, 0.9939092551943232, 0.9756916487588151, 0.025233404709279702, 0.8314988144743262, 0.13737280268243962, 0.03146865964531657, 0.006018859171339837, 0.9901023336854032, 0.994045205046926, 0.9970868868013179, 0.4840876184296195, 0.515719224502535, 0.9981905684181726, 0.9980205613474551, 0.9971102406119406, 0.9993344749372199, 0.9997395074356914, 0.9986860592787377, 0.997865595517088, 0.2038650165428874, 0.0009452782838155521, 0.7949790366888794, 0.9981490822036015, 0.9947939708567652, 0.9940458551138569, 0.9996862631722616, 0.6117031948623187, 0.029186633552078827, 0.32226907880420375, 0.036483291940098535, 0.9985587363918783, 0.9990441669201199, 0.9987869099479172, 0.20494018810653514, 0.7946390519485652, 0.9938369879138909, 0.9936821087182808, 0.9964685674459726, 0.9219986636439872, 0.07787475678327734, 0.36698799314430763, 0.012232933104810256, 0.00508381635524582, 0.61577725602915, 0.26157364644670156, 0.020024776761469975, 0.7165115434963475, 0.00187732282138781, 0.5226111470892603, 0.003347687063205226, 0.47351173682891695, 0.00037196522924502507, 0.9996140541559232, 0.00024890788201093703, 0.5276214098806759, 0.4717462227526164, 0.6583431621433142, 0.34140009318121833, 0.9993380810731931, 0.8583251509500407, 0.07458892525153234, 0.01160272170579392, 0.05552731102058519, 0.9996512459729798, 0.9899595923501388, 0.9944728496665901, 0.9998502404289097, 0.9982379797398673, 0.9909617526197898, 0.9993201683047046, 0.9991448693878341, 0.9987459220500905, 0.9971434086593471, 0.6668133111634222, 0.3318559269510985, 0.9966333652671754, 0.9884086869880186, 0.009884086869880187, 0.0734103725942145, 0.14166914009409817, 0.097880496792286, 0.6864513788195847, 0.016573167335655746, 0.9662156556687299, 0.01491585060209017, 0.9982396689716252, 0.9914435673036133, 0.99878635087833, 0.9988342528503968, 0.8651792124910618, 0.13614495221940565, 0.9991729166832308, 0.016503302909950893, 0.9835968534330733, 0.998728152135709, 0.0006426822085815373, 0.9983928794588992, 0.8455683038137278, 0.11927411842208754, 0.034078319549167874, 0.9988171397756339, 0.9989335845526525, 0.13252213006480268, 0.8660167104234779, 0.20694833432448942, 0.7921710830289882, 0.09919173515200258, 0.10789276455130105, 0.7935338812160206, 0.9988713192336872, 0.8795598045444267, 0.11830336552351937, 0.004032370069489301, 0.5752847965804736, 0.05779730432934665, 0.36425742961053353, 0.9950187785815636, 0.012573230454681396, 0.47059805416093226, 0.5155024486419372, 0.55314141724551, 0.4445337417132866, 0.9906144680193858, 0.0060704982940463816, 0.9935382207922578, 0.2643637161506431, 0.3011945744378844, 0.43460412778944735, 0.9916100751266884, 0.9939718790773443, 0.005343934833749163, 0.0015845002589214103, 0.007922501294607052, 0.9903126618258815, 0.18949398269090525, 0.09325881870651881, 0.0952430488917639, 0.622056163074333, 0.9870693921940528, 0.9953075046299477, 0.002469745669056942, 0.005241117232704661, 0.9940652351363174, 0.9806977612689766, 0.015087657865676563, 0.10472211575590026, 0.893969280843051, 0.9893872724207241, 0.10547831286912965, 0.1715780556004509, 0.06047423271163433, 0.6624038048181342, 0.9415663465973421, 0.05804905643614835, 0.009029083962956585, 0.9931992359252244, 0.08644278496069048, 0.913324778473558, 0.4252000728068431, 0.02767574438387736, 0.39047959348888783, 0.15699694995944974], \"Term\": [\"30\", \"accept\", \"account\", \"account\", \"additional\", \"additional\", \"additional\", \"additional\", \"address\", \"address\", \"ago\", \"ago\", \"air\", \"amount\", \"applied\", \"arrange\", \"arrange\", \"arrived\", \"associated\", \"associated\", \"available\", \"available\", \"available\", \"available\", \"balance\", \"batteries\", \"battery\", \"battery\", \"best\", \"best\", \"best\", \"best\", \"bill\", \"billed\", \"billing\", \"bluetooth\", \"bluetooth\", \"boot\", \"bought\", \"bought\", \"bought\", \"breakdown\", \"browser\", \"button\", \"cant\", \"cant\", \"card\", \"carry\", \"causing\", \"causing\", \"charge\", \"charge\", \"charged\", \"charged\", \"charger\", \"charges\", \"cleaner\", \"coffee\", \"colors\", \"colors\", \"come\", \"come\", \"come\", \"come\", \"comes\", \"compatible\", \"compatible\", \"computer\", \"computer\", \"confirm\", \"connect\", \"connect\", \"connecting\", \"connecting\", \"connection\", \"cost\", \"cost\", \"cost\", \"could\", \"could\", \"could\", \"could\", \"crashing\", \"credit\", \"credit\", \"current\", \"current\", \"damaged\", \"date\", \"date\", \"days\", \"days\", \"days\", \"defective\", \"delivered\", \"details\", \"details\", \"discounts\", \"display\", \"display\", \"document\", \"drive\", \"due\", \"due\", \"emails\", \"error\", \"error\", \"every\", \"exchange\", \"expectations\", \"external\", \"fabric\", \"faulty\", \"feature\", \"fees\", \"fees\", \"fix\", \"fix\", \"follow\", \"follow\", \"follow\", \"freezing\", \"full\", \"full\", \"full\", \"get\", \"get\", \"get\", \"get\", \"getting\", \"getting\", \"getting\", \"hard\", \"hardware\", \"hardware\", \"headphones\", \"headphones\", \"help\", \"help\", \"help\", \"help\", \"high\", \"im\", \"im\", \"im\", \"im\", \"information\", \"information\", \"information\", \"ingredients\", \"ingredients\", \"initiate\", \"ink\", \"install\", \"internet\", \"invoice\", \"isnt\", \"isnt\", \"issue\", \"issue\", \"issue\", \"issue\", \"item\", \"items\", \"items\", \"keeps\", \"keeps\", \"label\", \"laptop\", \"laptop\", \"last\", \"last\", \"last\", \"light\", \"light\", \"like\", \"like\", \"like\", \"like\", \"log\", \"log\", \"macbook\", \"machine\", \"machine\", \"made\", \"made\", \"made\", \"made\", \"make\", \"make\", \"make\", \"make\", \"market\", \"merchandise\", \"merchandise\", \"message\", \"method\", \"methods\", \"microsoft\", \"microsoft\", \"monitor\", \"month\", \"month\", \"monthly\", \"need\", \"need\", \"need\", \"need\", \"network\", \"network\", \"new\", \"new\", \"new\", \"new\", \"noise\", \"often\", \"often\", \"online\", \"online\", \"online\", \"open\", \"open\", \"opened\", \"operating\", \"order\", \"order\", \"ordered\", \"original\", \"password\", \"pay\", \"payment\", \"payments\", \"plan\", \"please\", \"please\", \"please\", \"plug\", \"plugged\", \"policies\", \"policy\", \"possible\", \"possible\", \"possible\", \"possible\", \"power\", \"press\", \"print\", \"printer\", \"printer\", \"printing\", \"pro\", \"procedure\", \"process\", \"process\", \"product\", \"product\", \"product\", \"product\", \"provide\", \"provide\", \"provide\", \"provide\", \"purchase\", \"purchase\", \"purchase\", \"purchase\", \"purchased\", \"purchased\", \"receive\", \"receive\", \"received\", \"received\", \"recent\", \"recently\", \"recently\", \"recently\", \"recently\", \"refund\", \"refunds\", \"replace\", \"return\", \"returned\", \"returnexchange\", \"returning\", \"returns\", \"review\", \"router\", \"running\", \"running\", \"satisfied\", \"screen\", \"screen\", \"seem\", \"seem\", \"seem\", \"seem\", \"service\", \"service\", \"service\", \"services\", \"similar\", \"sizes\", \"software\", \"sound\", \"sound\", \"statement\", \"stopped\", \"stopped\", \"store\", \"store\", \"subscription\", \"system\", \"system\", \"system\", \"taxes\", \"total\", \"trouble\", \"trouble\", \"try\", \"try\", \"trying\", \"trying\", \"trying\", \"turn\", \"turning\", \"turning\", \"type\", \"type\", \"type\", \"type\", \"unfortunately\", \"update\", \"update\", \"update\", \"updated\", \"updated\", \"updates\", \"us\", \"us\", \"use\", \"use\", \"use\", \"vacuum\", \"version\", \"version\", \"warranty\", \"warranty\", \"warranty\", \"way\", \"way\", \"way\", \"way\", \"web\", \"week\", \"week\", \"wifi\", \"wifi\", \"windows\", \"windows\", \"wireless\", \"wireless\", \"wirelessly\", \"wondering\", \"wondering\", \"wondering\", \"wondering\", \"wont\", \"wont\", \"word\", \"word\", \"working\", \"working\", \"would\", \"would\", \"would\", \"would\"]}, \"R\": 30, \"lambda.step\": 0.01, \"plot.opts\": {\"xlab\": \"PC1\", \"ylab\": \"PC2\"}, \"topic.order\": [1, 2, 3, 4]};\n",
              "\n",
              "function LDAvis_load_lib(url, callback){\n",
              "  var s = document.createElement('script');\n",
              "  s.src = url;\n",
              "  s.async = true;\n",
              "  s.onreadystatechange = s.onload = callback;\n",
              "  s.onerror = function(){console.warn(\"failed to load library \" + url);};\n",
              "  document.getElementsByTagName(\"head\")[0].appendChild(s);\n",
              "}\n",
              "\n",
              "if(typeof(LDAvis) !== \"undefined\"){\n",
              "   // already loaded: just create the visualization\n",
              "   !function(LDAvis){\n",
              "       new LDAvis(\"#\" + \"ldavis_el72351402088566424161557077043\", ldavis_el72351402088566424161557077043_data);\n",
              "   }(LDAvis);\n",
              "}else if(typeof define === \"function\" && define.amd){\n",
              "   // require.js is available: use it to load d3/LDAvis\n",
              "   require.config({paths: {d3: \"https://d3js.org/d3.v5\"}});\n",
              "   require([\"d3\"], function(d3){\n",
              "      window.d3 = d3;\n",
              "      LDAvis_load_lib(\"https://cdn.jsdelivr.net/gh/bmabey/pyLDAvis@3.4.0/pyLDAvis/js/ldavis.v3.0.0.js\", function(){\n",
              "        new LDAvis(\"#\" + \"ldavis_el72351402088566424161557077043\", ldavis_el72351402088566424161557077043_data);\n",
              "      });\n",
              "    });\n",
              "}else{\n",
              "    // require.js not available: dynamically load d3 & LDAvis\n",
              "    LDAvis_load_lib(\"https://d3js.org/d3.v5.js\", function(){\n",
              "         LDAvis_load_lib(\"https://cdn.jsdelivr.net/gh/bmabey/pyLDAvis@3.4.0/pyLDAvis/js/ldavis.v3.0.0.js\", function(){\n",
              "                 new LDAvis(\"#\" + \"ldavis_el72351402088566424161557077043\", ldavis_el72351402088566424161557077043_data);\n",
              "            })\n",
              "         });\n",
              "}\n",
              "</script>"
            ]
          },
          "metadata": {},
          "execution_count": 19
        }
      ]
    }
  ],
  "metadata": {
    "colab": {
      "provenance": []
    },
    "kernelspec": {
      "display_name": "Python 3 (ipykernel)",
      "language": "python",
      "name": "python3"
    },
    "language_info": {
      "codemirror_mode": {
        "name": "ipython",
        "version": 3
      },
      "file_extension": ".py",
      "mimetype": "text/x-python",
      "name": "python",
      "nbconvert_exporter": "python",
      "pygments_lexer": "ipython3",
      "version": "3.9.7"
    }
  },
  "nbformat": 4,
  "nbformat_minor": 5
}