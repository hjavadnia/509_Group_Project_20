{
 "cells": [
  {
   "cell_type": "markdown",
   "id": "7723f175",
   "metadata": {},
   "source": [
    "## Group Project 509 ,  Hoori Javadnia & Fatime Khosravi"
   ]
  },
  {
   "cell_type": "markdown",
   "id": "74508422",
   "metadata": {},
   "source": [
    "# descriptive statistics on your final-project data"
   ]
  },
  {
   "cell_type": "code",
   "execution_count": null,
   "id": "8b704691",
   "metadata": {},
   "outputs": [],
   "source": []
  },
  {
   "cell_type": "code",
   "execution_count": 126,
   "id": "37470bf5",
   "metadata": {},
   "outputs": [
    {
     "name": "stdout",
     "output_type": "stream",
     "text": [
      "Requirement already satisfied: emoji in /Users/javadniahoori/opt/anaconda3/lib/python3.9/site-packages (2.2.0)\n",
      "Collecting emoji\n",
      "  Downloading emoji-2.5.1.tar.gz (356 kB)\n",
      "\u001b[2K     \u001b[90m━━━━━━━━━━━━━━━━━━━━━━━━━━━━━━━━━━━━━━━\u001b[0m \u001b[32m356.3/356.3 kB\u001b[0m \u001b[31m2.5 MB/s\u001b[0m eta \u001b[36m0:00:00\u001b[0m00:01\u001b[0m00:01\u001b[0m\n",
      "\u001b[?25h  Preparing metadata (setup.py) ... \u001b[?25ldone\n",
      "\u001b[?25hBuilding wheels for collected packages: emoji\n",
      "  Building wheel for emoji (setup.py) ... \u001b[?25ldone\n",
      "\u001b[?25h  Created wheel for emoji: filename=emoji-2.5.1-py2.py3-none-any.whl size=351210 sha256=f3fd1a46bf48aac5b7534d8cd0c047593aa45ce1cf8355c3101acb1d9eb87e1c\n",
      "  Stored in directory: /Users/javadniahoori/Library/Caches/pip/wheels/a0/bb/4c/96ea18d2d9a98bc7f3a6559c8bce0f72601b375af92e3b43a0\n",
      "Successfully built emoji\n",
      "Installing collected packages: emoji\n",
      "  Attempting uninstall: emoji\n",
      "    Found existing installation: emoji 2.2.0\n",
      "    Uninstalling emoji-2.2.0:\n",
      "      Successfully uninstalled emoji-2.2.0\n",
      "Successfully installed emoji-2.5.1\n",
      "Note: you may need to restart the kernel to use updated packages.\n"
     ]
    }
   ],
   "source": [
    "pip install --upgrade emoji"
   ]
  },
  {
   "cell_type": "code",
   "execution_count": 2,
   "id": "9db4ec7c",
   "metadata": {},
   "outputs": [
    {
     "name": "stdout",
     "output_type": "stream",
     "text": [
      "Collecting plotly\n",
      "  Downloading plotly-5.15.0-py2.py3-none-any.whl (15.5 MB)\n",
      "\u001b[2K     \u001b[90m━━━━━━━━━━━━━━━━━━━━━━━━━━━━━━━━━━━━━━━━\u001b[0m \u001b[32m15.5/15.5 MB\u001b[0m \u001b[31m3.0 MB/s\u001b[0m eta \u001b[36m0:00:00\u001b[0m00:01\u001b[0m00:01\u001b[0m\n",
      "\u001b[?25hCollecting tenacity>=6.2.0 (from plotly)\n",
      "  Downloading tenacity-8.2.2-py3-none-any.whl (24 kB)\n",
      "Requirement already satisfied: packaging in /Users/javadniahoori/opt/anaconda3/lib/python3.9/site-packages (from plotly) (21.0)\n",
      "Requirement already satisfied: pyparsing>=2.0.2 in /Users/javadniahoori/opt/anaconda3/lib/python3.9/site-packages (from packaging->plotly) (3.0.4)\n",
      "Installing collected packages: tenacity, plotly\n",
      "Successfully installed plotly-5.15.0 tenacity-8.2.2\n",
      "Note: you may need to restart the kernel to use updated packages.\n"
     ]
    }
   ],
   "source": [
    "pip install plotly"
   ]
  },
  {
   "cell_type": "code",
   "execution_count": 127,
   "id": "2d15c95b",
   "metadata": {},
   "outputs": [
    {
     "data": {
      "text/html": [
       "        <script type=\"text/javascript\">\n",
       "        window.PlotlyConfig = {MathJaxConfig: 'local'};\n",
       "        if (window.MathJax && window.MathJax.Hub && window.MathJax.Hub.Config) {window.MathJax.Hub.Config({SVG: {font: \"STIX-Web\"}});}\n",
       "        if (typeof require !== 'undefined') {\n",
       "        require.undef(\"plotly\");\n",
       "        requirejs.config({\n",
       "            paths: {\n",
       "                'plotly': ['https://cdn.plot.ly/plotly-2.24.1.min']\n",
       "            }\n",
       "        });\n",
       "        require(['plotly'], function(Plotly) {\n",
       "            window._Plotly = Plotly;\n",
       "        });\n",
       "        }\n",
       "        </script>\n",
       "        "
      ]
     },
     "metadata": {},
     "output_type": "display_data"
    }
   ],
   "source": [
    "import pandas as pd\n",
    "import numpy as np\n",
    "from bs4 import BeautifulSoup\n",
    "import requests\n",
    "import csv\n",
    "import time\n",
    "import random\n",
    "from collections import OrderedDict\n",
    "import string\n",
    "import re\n",
    "import matplotlib.pyplot as plt\n",
    "import seaborn as sns\n",
    "import plotly.offline as py\n",
    "import plotly.graph_objs as go\n",
    "import plotly.tools as tls\n",
    "import plotly.express as px\n",
    "import nltk\n",
    "import random\n",
    "\n",
    "\n",
    "py.init_notebook_mode(connected=True)\n",
    "\n",
    "\n",
    "from nltk.stem import WordNetLemmatizer\n",
    "from random import randint\n",
    "from textblob import TextBlob\n",
    "from time import sleep\n",
    "\n",
    "color = sns.color_palette()\n",
    "%matplotlib inline\n",
    "\n",
    "\n",
    "from collections import Counter, defaultdict\n",
    "from string import punctuation\n",
    "from nltk.corpus import stopwords\n",
    "from nltk.metrics import ConfusionMatrix\n",
    "import plotly.io as pio\n",
    "\n",
    "color = sns.color_palette()\n",
    "%matplotlib inline\n",
    "import emoji"
   ]
  },
  {
   "cell_type": "code",
   "execution_count": 128,
   "id": "a31eb71f",
   "metadata": {},
   "outputs": [
    {
     "name": "stderr",
     "output_type": "stream",
     "text": [
      "[nltk_data] Downloading package stopwords to\n",
      "[nltk_data]     /Users/javadniahoori/nltk_data...\n",
      "[nltk_data]   Package stopwords is already up-to-date!\n"
     ]
    },
    {
     "data": {
      "text/plain": [
       "True"
      ]
     },
     "execution_count": 128,
     "metadata": {},
     "output_type": "execute_result"
    }
   ],
   "source": [
    "import nltk\n",
    "nltk.download('stopwords')"
   ]
  },
  {
   "cell_type": "code",
   "execution_count": 129,
   "id": "cc397455",
   "metadata": {},
   "outputs": [],
   "source": [
    "import os\n",
    "import re\n",
    "import emoji\n",
    "import pandas as pd\n",
    "import numpy as np\n",
    "\n",
    "from collections import Counter, defaultdict\n",
    "from nltk.corpus import stopwords\n",
    "from string import punctuation\n",
    "\n",
    "sw = stopwords.words(\"english\")"
   ]
  },
  {
   "cell_type": "code",
   "execution_count": 130,
   "id": "e0acbae9",
   "metadata": {},
   "outputs": [
    {
     "data": {
      "text/plain": [
       "re.compile(r'<title>(.*)</title>', re.UNICODE)"
      ]
     },
     "execution_count": 130,
     "metadata": {},
     "output_type": "execute_result"
    }
   ],
   "source": [
    "\n",
    "  import re\n",
    "re.compile('<title>(.*)</title>')"
   ]
  },
  {
   "cell_type": "code",
   "execution_count": null,
   "id": "e76715e2",
   "metadata": {},
   "outputs": [],
   "source": []
  },
  {
   "cell_type": "code",
   "execution_count": 131,
   "id": "4de38c30",
   "metadata": {},
   "outputs": [],
   "source": [
    "from nltk.tokenize import word_tokenize"
   ]
  },
  {
   "cell_type": "markdown",
   "id": "2c39e98b",
   "metadata": {},
   "source": [
    "## Read the data "
   ]
  },
  {
   "cell_type": "code",
   "execution_count": 132,
   "id": "553b5eb8",
   "metadata": {},
   "outputs": [],
   "source": [
    "import pandas as pd\n",
    "data = pd.read_csv('/Users/javadniahoori/Downloads/509/group/cus_q_dataset.csv')"
   ]
  },
  {
   "cell_type": "code",
   "execution_count": 133,
   "id": "d3ec00ff",
   "metadata": {},
   "outputs": [
    {
     "name": "stdout",
     "output_type": "stream",
     "text": [
      "(19846, 2)\n"
     ]
    },
    {
     "data": {
      "text/html": [
       "<div>\n",
       "<style scoped>\n",
       "    .dataframe tbody tr th:only-of-type {\n",
       "        vertical-align: middle;\n",
       "    }\n",
       "\n",
       "    .dataframe tbody tr th {\n",
       "        vertical-align: top;\n",
       "    }\n",
       "\n",
       "    .dataframe thead th {\n",
       "        text-align: right;\n",
       "    }\n",
       "</style>\n",
       "<table border=\"1\" class=\"dataframe\">\n",
       "  <thead>\n",
       "    <tr style=\"text-align: right;\">\n",
       "      <th></th>\n",
       "      <th>Query</th>\n",
       "      <th>Class</th>\n",
       "    </tr>\n",
       "  </thead>\n",
       "  <tbody>\n",
       "    <tr>\n",
       "      <th>0</th>\n",
       "      <td>What is the PDF document stating my final tran...</td>\n",
       "      <td>Billing</td>\n",
       "    </tr>\n",
       "    <tr>\n",
       "      <th>1</th>\n",
       "      <td>\\r\\n\\r\\nI noticed that I was charged an additi...</td>\n",
       "      <td>Billing</td>\n",
       "    </tr>\n",
       "    <tr>\n",
       "      <th>2</th>\n",
       "      <td>I charged 83.00 a payment on my card but still...</td>\n",
       "      <td>Billing</td>\n",
       "    </tr>\n",
       "    <tr>\n",
       "      <th>3</th>\n",
       "      <td>\\r\\n\\r\\nWhat address should I use to send this...</td>\n",
       "      <td>Billing</td>\n",
       "    </tr>\n",
       "    <tr>\n",
       "      <th>4</th>\n",
       "      <td>\\r\\n\\r\\nI noticed an pending charge on my cell...</td>\n",
       "      <td>Billing</td>\n",
       "    </tr>\n",
       "    <tr>\n",
       "      <th>5</th>\n",
       "      <td>\\r\\n\\r\\nHi there, I noticed on my last stateme...</td>\n",
       "      <td>Billing</td>\n",
       "    </tr>\n",
       "    <tr>\n",
       "      <th>6</th>\n",
       "      <td>Has my credit card payment of \\$50 been proces...</td>\n",
       "      <td>Billing</td>\n",
       "    </tr>\n",
       "    <tr>\n",
       "      <th>7</th>\n",
       "      <td>\\r\\n\\r\\nI typically pay my bill within busines...</td>\n",
       "      <td>Billing</td>\n",
       "    </tr>\n",
       "    <tr>\n",
       "      <th>8</th>\n",
       "      <td>\\r\\n\\r\\nWere curious what billing plan of ours...</td>\n",
       "      <td>Billing</td>\n",
       "    </tr>\n",
       "    <tr>\n",
       "      <th>9</th>\n",
       "      <td>\\r\\n\\r\\nCan you please clarify the amount I am...</td>\n",
       "      <td>Billing</td>\n",
       "    </tr>\n",
       "  </tbody>\n",
       "</table>\n",
       "</div>"
      ],
      "text/plain": [
       "                                               Query    Class\n",
       "0  What is the PDF document stating my final tran...  Billing\n",
       "1  \\r\\n\\r\\nI noticed that I was charged an additi...  Billing\n",
       "2  I charged 83.00 a payment on my card but still...  Billing\n",
       "3  \\r\\n\\r\\nWhat address should I use to send this...  Billing\n",
       "4  \\r\\n\\r\\nI noticed an pending charge on my cell...  Billing\n",
       "5  \\r\\n\\r\\nHi there, I noticed on my last stateme...  Billing\n",
       "6  Has my credit card payment of \\$50 been proces...  Billing\n",
       "7  \\r\\n\\r\\nI typically pay my bill within busines...  Billing\n",
       "8  \\r\\n\\r\\nWere curious what billing plan of ours...  Billing\n",
       "9  \\r\\n\\r\\nCan you please clarify the amount I am...  Billing"
      ]
     },
     "execution_count": 133,
     "metadata": {},
     "output_type": "execute_result"
    }
   ],
   "source": [
    "print(data.shape)\n",
    "data.head(10)"
   ]
  },
  {
   "cell_type": "code",
   "execution_count": 134,
   "id": "cba02359",
   "metadata": {},
   "outputs": [
    {
     "data": {
      "text/html": [
       "<div>\n",
       "<style scoped>\n",
       "    .dataframe tbody tr th:only-of-type {\n",
       "        vertical-align: middle;\n",
       "    }\n",
       "\n",
       "    .dataframe tbody tr th {\n",
       "        vertical-align: top;\n",
       "    }\n",
       "\n",
       "    .dataframe thead th {\n",
       "        text-align: right;\n",
       "    }\n",
       "</style>\n",
       "<table border=\"1\" class=\"dataframe\">\n",
       "  <thead>\n",
       "    <tr style=\"text-align: right;\">\n",
       "      <th></th>\n",
       "      <th>Query</th>\n",
       "      <th>Class</th>\n",
       "    </tr>\n",
       "  </thead>\n",
       "  <tbody>\n",
       "    <tr>\n",
       "      <th>count</th>\n",
       "      <td>19844</td>\n",
       "      <td>19846</td>\n",
       "    </tr>\n",
       "    <tr>\n",
       "      <th>unique</th>\n",
       "      <td>19689</td>\n",
       "      <td>4</td>\n",
       "    </tr>\n",
       "    <tr>\n",
       "      <th>top</th>\n",
       "      <td>\\r\\n\\r\\nMy laptop won't turn on when I press t...</td>\n",
       "      <td>Billing</td>\n",
       "    </tr>\n",
       "    <tr>\n",
       "      <th>freq</th>\n",
       "      <td>8</td>\n",
       "      <td>4963</td>\n",
       "    </tr>\n",
       "  </tbody>\n",
       "</table>\n",
       "</div>"
      ],
      "text/plain": [
       "                                                    Query    Class\n",
       "count                                               19844    19846\n",
       "unique                                              19689        4\n",
       "top     \\r\\n\\r\\nMy laptop won't turn on when I press t...  Billing\n",
       "freq                                                    8     4963"
      ]
     },
     "execution_count": 134,
     "metadata": {},
     "output_type": "execute_result"
    }
   ],
   "source": [
    "#Summary of the dataset\n",
    "data.describe()"
   ]
  },
  {
   "cell_type": "code",
   "execution_count": 135,
   "id": "5530db20",
   "metadata": {},
   "outputs": [
    {
     "name": "stdout",
     "output_type": "stream",
     "text": [
      "(19846, 2)\n"
     ]
    },
    {
     "data": {
      "text/html": [
       "<div>\n",
       "<style scoped>\n",
       "    .dataframe tbody tr th:only-of-type {\n",
       "        vertical-align: middle;\n",
       "    }\n",
       "\n",
       "    .dataframe tbody tr th {\n",
       "        vertical-align: top;\n",
       "    }\n",
       "\n",
       "    .dataframe thead th {\n",
       "        text-align: right;\n",
       "    }\n",
       "</style>\n",
       "<table border=\"1\" class=\"dataframe\">\n",
       "  <thead>\n",
       "    <tr style=\"text-align: right;\">\n",
       "      <th></th>\n",
       "      <th>Query</th>\n",
       "      <th>Class</th>\n",
       "    </tr>\n",
       "  </thead>\n",
       "  <tbody>\n",
       "    <tr>\n",
       "      <th>0</th>\n",
       "      <td>What is the PDF document stating my final tran...</td>\n",
       "      <td>Billing</td>\n",
       "    </tr>\n",
       "    <tr>\n",
       "      <th>1</th>\n",
       "      <td>\\r\\n\\r\\nI noticed that I was charged an additi...</td>\n",
       "      <td>Billing</td>\n",
       "    </tr>\n",
       "    <tr>\n",
       "      <th>2</th>\n",
       "      <td>I charged 83.00 a payment on my card but still...</td>\n",
       "      <td>Billing</td>\n",
       "    </tr>\n",
       "    <tr>\n",
       "      <th>3</th>\n",
       "      <td>\\r\\n\\r\\nWhat address should I use to send this...</td>\n",
       "      <td>Billing</td>\n",
       "    </tr>\n",
       "    <tr>\n",
       "      <th>4</th>\n",
       "      <td>\\r\\n\\r\\nI noticed an pending charge on my cell...</td>\n",
       "      <td>Billing</td>\n",
       "    </tr>\n",
       "    <tr>\n",
       "      <th>5</th>\n",
       "      <td>\\r\\n\\r\\nHi there, I noticed on my last stateme...</td>\n",
       "      <td>Billing</td>\n",
       "    </tr>\n",
       "    <tr>\n",
       "      <th>6</th>\n",
       "      <td>Has my credit card payment of \\$50 been proces...</td>\n",
       "      <td>Billing</td>\n",
       "    </tr>\n",
       "    <tr>\n",
       "      <th>7</th>\n",
       "      <td>\\r\\n\\r\\nI typically pay my bill within busines...</td>\n",
       "      <td>Billing</td>\n",
       "    </tr>\n",
       "    <tr>\n",
       "      <th>8</th>\n",
       "      <td>\\r\\n\\r\\nWere curious what billing plan of ours...</td>\n",
       "      <td>Billing</td>\n",
       "    </tr>\n",
       "    <tr>\n",
       "      <th>9</th>\n",
       "      <td>\\r\\n\\r\\nCan you please clarify the amount I am...</td>\n",
       "      <td>Billing</td>\n",
       "    </tr>\n",
       "  </tbody>\n",
       "</table>\n",
       "</div>"
      ],
      "text/plain": [
       "                                               Query    Class\n",
       "0  What is the PDF document stating my final tran...  Billing\n",
       "1  \\r\\n\\r\\nI noticed that I was charged an additi...  Billing\n",
       "2  I charged 83.00 a payment on my card but still...  Billing\n",
       "3  \\r\\n\\r\\nWhat address should I use to send this...  Billing\n",
       "4  \\r\\n\\r\\nI noticed an pending charge on my cell...  Billing\n",
       "5  \\r\\n\\r\\nHi there, I noticed on my last stateme...  Billing\n",
       "6  Has my credit card payment of \\$50 been proces...  Billing\n",
       "7  \\r\\n\\r\\nI typically pay my bill within busines...  Billing\n",
       "8  \\r\\n\\r\\nWere curious what billing plan of ours...  Billing\n",
       "9  \\r\\n\\r\\nCan you please clarify the amount I am...  Billing"
      ]
     },
     "execution_count": 135,
     "metadata": {},
     "output_type": "execute_result"
    }
   ],
   "source": [
    "print(data.shape)\n",
    "data.head(10)"
   ]
  },
  {
   "cell_type": "code",
   "execution_count": 136,
   "id": "dbcd1c4d",
   "metadata": {},
   "outputs": [
    {
     "data": {
      "text/plain": [
       "Index(['Query', 'Class'], dtype='object')"
      ]
     },
     "execution_count": 136,
     "metadata": {},
     "output_type": "execute_result"
    }
   ],
   "source": [
    "data.columns"
   ]
  },
  {
   "cell_type": "code",
   "execution_count": 137,
   "id": "dcc1b07e",
   "metadata": {},
   "outputs": [],
   "source": [
    "# Stopwords\n",
    "sw = stopwords.words(\"english\")\n",
    "\n",
    "# Some punctuation variations\n",
    "punct = list(set(punctuation))\n",
    "punct.append(\",\")\n",
    "punct = \"\".join(punct)\n",
    "tw_punct = list(set(punct) - set([\"#\"]))\n",
    "tw_punct = \"\".join(tw_punct)"
   ]
  },
  {
   "cell_type": "code",
   "execution_count": 145,
   "id": "498bbc52",
   "metadata": {},
   "outputs": [],
   "source": [
    "import emoji.unicode_codes\n"
   ]
  },
  {
   "cell_type": "code",
   "execution_count": 148,
   "id": "fefee3cf",
   "metadata": {},
   "outputs": [],
   "source": [
    "# Place any addtional functions or constants you need here. \n",
    "def display_side_by_side(*args):\n",
    "    html_str = ''\n",
    "    for df in args:\n",
    "        html_str += df.to_html()\n",
    "    display_html(\n",
    "        html_str.replace('table', 'table style=\"display:inline\"'), \n",
    "        raw = True\n",
    "    )\n",
    "\n",
    "# Convert lyric text file to dataframe\n",
    "def txt_to_dict(artist):\n",
    "    # Create list of files in artist's subdirectory\n",
    "    song_list = os.listdir(lyrics_path + artist)\n",
    "    # Create empty list to hold data\n",
    "    lyrics_list = []\n",
    "    # Read each file in the artist's folder\n",
    "    for song in song_list:\n",
    "        metadata = {}\n",
    "        path_to_song = lyrics_path + artist + \"/\" + song\n",
    "        with open(path_to_song, \"r\") as song_lyrics:\n",
    "            lyrics = song_lyrics.read()\n",
    "        metadata[\"Artist\"] = artist\n",
    "        metadata[\"Title\"] = lyrics.split(\"\\n\", 2)[0]\n",
    "        metadata[\"Lyrics\"] = lyrics.split(\"\\n\", 2)[2]\n",
    "        # Append metadata to lyrics_list\n",
    "        lyrics_list.append(metadata)\n",
    "    # Convert lyrics_list to dict\n",
    "    lyrics_df = pd.DataFrame.from_records(lyrics_list)\n",
    "    \n",
    "    return lyrics_df\n",
    "\n",
    "# Global text prep pipeline function\n",
    "def prepare(text, pipeline): \n",
    "    tokens = str(text)\n",
    "\n",
    "    for transform in pipeline: \n",
    "        tokens = transform(tokens)\n",
    "        \n",
    "    return(tokens)\n",
    "    \n",
    "# Remove Punctuation Function\n",
    "def remove_punctuation(text): \n",
    "    text = text.translate(str.maketrans(\"\", \"\", tw_punct))\n",
    "    return text\n",
    "\n",
    "# Two useful regex\n",
    "whitespace_pattern = re.compile(r\"\\s+\")\n",
    "hashtag_pattern = re.compile(r\"^#[0-9a-zA-Z]+\")\n",
    "\n",
    "# Remove White Spaces Function\n",
    "def remove_whitespace(text):\n",
    "    text = whitespace_pattern.sub(r\" \", text)\n",
    "    return text\n",
    "\n",
    "def tokenize(text):  \n",
    "    tokens = text.split(\" \")\n",
    "    # Remove empty splits\n",
    "    tokens = [x for x in tokens if x != \"\"]\n",
    "    return tokens\n",
    "\n",
    "def remove_stop(tokens):\n",
    "    tokens = [x for x in tokens if not x in sw]\n",
    "    return tokens\n",
    "\n",
    "\n",
    "\n",
    "def descriptive_stats(df_col, verbose=True) :\n",
    "    \"\"\"\n",
    "        Given a list of tokens, print number of tokens, number of unique tokens, \n",
    "        number of characters, lexical diversity, and num_tokens most common\n",
    "        tokens. Return a list of \n",
    "    \"\"\"\n",
    "    # Initialize blank counter\n",
    "    token_counter = Counter()\n",
    "    # Update counter row by row with token column\n",
    "    df_col.map(token_counter.update)\n",
    "    \n",
    "    num_tokens = sum(token_counter.values())\n",
    "    num_unique_tokens = len(token_counter)\n",
    "    lexical_diversity = num_unique_tokens / num_tokens\n",
    "\n",
    "    num_characters = 0\n",
    "    for k,v in token_counter.items():\n",
    "        token_length = len(k) * v\n",
    "        num_characters += token_length\n",
    "\n",
    "    top_tokens = token_counter.most_common(5)\n",
    "    # Convert top 5 tokens to dataframe\n",
    "    top_token_df = pd.DataFrame(top_tokens, columns = [\"Token\", \"Frequency\"])\n",
    "    \n",
    "    if verbose == True:        \n",
    "        print(f\"There are {num_tokens} tokens in the data.\")\n",
    "        print(f\"There are {num_unique_tokens} unique tokens in the data.\")\n",
    "        print(f\"There are {num_characters} characters in the data.\")\n",
    "        print(f\"The lexical diversity is {lexical_diversity:.3f} in the data.\")\n",
    "    \n",
    "        # print the five most common tokens\n",
    "        print(\"The top five most common tokens are:\")\n",
    "        print(top_token_df)\n",
    "    return([num_tokens, num_unique_tokens,\n",
    "            lexical_diversity,\n",
    "            num_characters])"
   ]
  },
  {
   "cell_type": "code",
   "execution_count": 149,
   "id": "eb2d912e",
   "metadata": {},
   "outputs": [],
   "source": [
    "# Apply Processing Pipeline\n",
    "prep_pipeline = [str.lower, remove_punctuation, \n",
    "                   remove_whitespace, tokenize, \n",
    "                   remove_stop]\n",
    "\n",
    "data[\"tokens\"] = data[\"Query\"].apply(\n",
    "    prepare, pipeline = prep_pipeline\n",
    ")\n"
   ]
  },
  {
   "cell_type": "code",
   "execution_count": 150,
   "id": "dfff5731",
   "metadata": {},
   "outputs": [
    {
     "data": {
      "text/html": [
       "<div>\n",
       "<style scoped>\n",
       "    .dataframe tbody tr th:only-of-type {\n",
       "        vertical-align: middle;\n",
       "    }\n",
       "\n",
       "    .dataframe tbody tr th {\n",
       "        vertical-align: top;\n",
       "    }\n",
       "\n",
       "    .dataframe thead th {\n",
       "        text-align: right;\n",
       "    }\n",
       "</style>\n",
       "<table border=\"1\" class=\"dataframe\">\n",
       "  <thead>\n",
       "    <tr style=\"text-align: right;\">\n",
       "      <th></th>\n",
       "      <th>Query</th>\n",
       "      <th>Class</th>\n",
       "      <th>tokens</th>\n",
       "    </tr>\n",
       "  </thead>\n",
       "  <tbody>\n",
       "    <tr>\n",
       "      <th>0</th>\n",
       "      <td>What is the PDF document stating my final tran...</td>\n",
       "      <td>Billing</td>\n",
       "      <td>[pdf, document, stating, final, transaction, b...</td>\n",
       "    </tr>\n",
       "    <tr>\n",
       "      <th>1</th>\n",
       "      <td>\\r\\n\\r\\nI noticed that I was charged an additi...</td>\n",
       "      <td>Billing</td>\n",
       "      <td>[noticed, charged, additional, fee, even, thou...</td>\n",
       "    </tr>\n",
       "    <tr>\n",
       "      <th>2</th>\n",
       "      <td>I charged 83.00 a payment on my card but still...</td>\n",
       "      <td>Billing</td>\n",
       "      <td>[charged, 8300, payment, card, still, seen, cr...</td>\n",
       "    </tr>\n",
       "    <tr>\n",
       "      <th>3</th>\n",
       "      <td>\\r\\n\\r\\nWhat address should I use to send this...</td>\n",
       "      <td>Billing</td>\n",
       "      <td>[address, use, send, customers, invoice, recen...</td>\n",
       "    </tr>\n",
       "    <tr>\n",
       "      <th>4</th>\n",
       "      <td>\\r\\n\\r\\nI noticed an pending charge on my cell...</td>\n",
       "      <td>Billing</td>\n",
       "      <td>[noticed, pending, charge, cellular, phone, bi...</td>\n",
       "    </tr>\n",
       "  </tbody>\n",
       "</table>\n",
       "</div>"
      ],
      "text/plain": [
       "                                               Query    Class  \\\n",
       "0  What is the PDF document stating my final tran...  Billing   \n",
       "1  \\r\\n\\r\\nI noticed that I was charged an additi...  Billing   \n",
       "2  I charged 83.00 a payment on my card but still...  Billing   \n",
       "3  \\r\\n\\r\\nWhat address should I use to send this...  Billing   \n",
       "4  \\r\\n\\r\\nI noticed an pending charge on my cell...  Billing   \n",
       "\n",
       "                                              tokens  \n",
       "0  [pdf, document, stating, final, transaction, b...  \n",
       "1  [noticed, charged, additional, fee, even, thou...  \n",
       "2  [charged, 8300, payment, card, still, seen, cr...  \n",
       "3  [address, use, send, customers, invoice, recen...  \n",
       "4  [noticed, pending, charge, cellular, phone, bi...  "
      ]
     },
     "execution_count": 150,
     "metadata": {},
     "output_type": "execute_result"
    }
   ],
   "source": [
    "data.head()"
   ]
  },
  {
   "cell_type": "code",
   "execution_count": 125,
   "id": "45e0837d",
   "metadata": {},
   "outputs": [],
   "source": [
    "data[\"num_tokens\"] = data[\"tokens\"].map(len)"
   ]
  },
  {
   "cell_type": "code",
   "execution_count": null,
   "id": "cc7b376f",
   "metadata": {},
   "outputs": [],
   "source": []
  },
  {
   "cell_type": "code",
   "execution_count": 151,
   "id": "85d22684",
   "metadata": {},
   "outputs": [
    {
     "name": "stdout",
     "output_type": "stream",
     "text": [
      "Descriptive Stats:\n",
      "\n",
      "There are 178929 tokens in the data.\n",
      "There are 13754 unique tokens in the data.\n",
      "There are 1128840 characters in the data.\n",
      "The lexical diversity is 0.077 in the data.\n",
      "The top five most common tokens are:\n",
      "       Token  Frequency\n",
      "0     return       4090\n",
      "1    product       3173\n",
      "2       item       2682\n",
      "3  purchased       2012\n",
      "4   recently       1819\n",
      "[178929, 13754, 0.07686847855853439, 1128840]\n"
     ]
    }
   ],
   "source": [
    "print(\"Descriptive Stats:\\n\")\n",
    "print(descriptive_stats(data[\"tokens\"]))\n"
   ]
  },
  {
   "cell_type": "code",
   "execution_count": null,
   "id": "39199abb",
   "metadata": {},
   "outputs": [],
   "source": [
    "# Save the preprocessed data to a new CSV file\n",
    "#data.to_csv('preprocessed_data.csv', index=False)"
   ]
  },
  {
   "cell_type": "code",
   "execution_count": null,
   "id": "8855c19b",
   "metadata": {},
   "outputs": [],
   "source": []
  },
  {
   "cell_type": "code",
   "execution_count": null,
   "id": "89456d86",
   "metadata": {},
   "outputs": [],
   "source": []
  },
  {
   "cell_type": "code",
   "execution_count": null,
   "id": "f4dd7097",
   "metadata": {},
   "outputs": [],
   "source": []
  },
  {
   "cell_type": "markdown",
   "id": "b5908322",
   "metadata": {},
   "source": [
    "\n"
   ]
  },
  {
   "cell_type": "code",
   "execution_count": null,
   "id": "09d74056",
   "metadata": {},
   "outputs": [],
   "source": []
  },
  {
   "cell_type": "code",
   "execution_count": 96,
   "id": "bf4fcd32",
   "metadata": {},
   "outputs": [],
   "source": []
  },
  {
   "cell_type": "code",
   "execution_count": null,
   "id": "aab03ee2",
   "metadata": {},
   "outputs": [],
   "source": []
  },
  {
   "cell_type": "code",
   "execution_count": 100,
   "id": "ee34330b",
   "metadata": {},
   "outputs": [],
   "source": []
  },
  {
   "cell_type": "code",
   "execution_count": null,
   "id": "ba0f6639",
   "metadata": {},
   "outputs": [],
   "source": []
  },
  {
   "cell_type": "code",
   "execution_count": null,
   "id": "c4021bbb",
   "metadata": {},
   "outputs": [],
   "source": []
  },
  {
   "cell_type": "code",
   "execution_count": null,
   "id": "3c46edd3",
   "metadata": {},
   "outputs": [],
   "source": []
  },
  {
   "cell_type": "code",
   "execution_count": null,
   "id": "1dd409f6",
   "metadata": {},
   "outputs": [],
   "source": []
  },
  {
   "cell_type": "code",
   "execution_count": null,
   "id": "4d0aa3c2",
   "metadata": {},
   "outputs": [],
   "source": []
  },
  {
   "cell_type": "markdown",
   "id": "eb62d938",
   "metadata": {},
   "source": [
    "\n"
   ]
  },
  {
   "cell_type": "markdown",
   "id": "1fa1cbbc",
   "metadata": {},
   "source": [
    "\n"
   ]
  },
  {
   "cell_type": "code",
   "execution_count": null,
   "id": "596d75de",
   "metadata": {},
   "outputs": [],
   "source": []
  },
  {
   "cell_type": "code",
   "execution_count": null,
   "id": "6d0d7eb5",
   "metadata": {},
   "outputs": [],
   "source": []
  },
  {
   "cell_type": "markdown",
   "id": "762001ef",
   "metadata": {},
   "source": [
    "\n"
   ]
  },
  {
   "cell_type": "code",
   "execution_count": null,
   "id": "491e223f",
   "metadata": {},
   "outputs": [],
   "source": []
  },
  {
   "cell_type": "markdown",
   "id": "58fc3fde",
   "metadata": {},
   "source": []
  },
  {
   "cell_type": "code",
   "execution_count": 90,
   "id": "478b5b72",
   "metadata": {},
   "outputs": [],
   "source": []
  },
  {
   "cell_type": "code",
   "execution_count": null,
   "id": "59715950",
   "metadata": {},
   "outputs": [],
   "source": []
  },
  {
   "cell_type": "code",
   "execution_count": null,
   "id": "1d8e0c32",
   "metadata": {},
   "outputs": [],
   "source": []
  },
  {
   "cell_type": "code",
   "execution_count": 94,
   "id": "28b53035",
   "metadata": {},
   "outputs": [],
   "source": []
  },
  {
   "cell_type": "code",
   "execution_count": null,
   "id": "c8d20a57",
   "metadata": {},
   "outputs": [],
   "source": []
  }
 ],
 "metadata": {
  "kernelspec": {
   "display_name": "Python 3 (ipykernel)",
   "language": "python",
   "name": "python3"
  },
  "language_info": {
   "codemirror_mode": {
    "name": "ipython",
    "version": 3
   },
   "file_extension": ".py",
   "mimetype": "text/x-python",
   "name": "python",
   "nbconvert_exporter": "python",
   "pygments_lexer": "ipython3",
   "version": "3.9.7"
  }
 },
 "nbformat": 4,
 "nbformat_minor": 5
}
