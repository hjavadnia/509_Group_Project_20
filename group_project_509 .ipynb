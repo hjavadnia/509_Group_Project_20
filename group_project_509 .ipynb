{
 "cells": [
  {
   "cell_type": "markdown",
   "metadata": {},
   "source": [
    "# Customer Query Classification\n",
    "### Hoori Javadnia & Fatemeh Khosravi"
   ]
  },
  {
   "cell_type": "code",
   "execution_count": 1,
   "metadata": {},
   "outputs": [
    {
     "name": "stdout",
     "output_type": "stream",
     "text": [
      "Requirement already satisfied: emoji in /Users/fatemehkhosravi/opt/anaconda3/lib/python3.8/site-packages (2.2.0)\n",
      "Collecting emoji\n",
      "  Downloading emoji-2.5.1.tar.gz (356 kB)\n",
      "\u001b[2K     \u001b[90m━━━━━━━━━━━━━━━━━━━━━━━━━━━━━━━━━━━━━━━\u001b[0m \u001b[32m356.3/356.3 kB\u001b[0m \u001b[31m5.0 MB/s\u001b[0m eta \u001b[36m0:00:00\u001b[0ma \u001b[36m0:00:01\u001b[0m\n",
      "\u001b[?25h  Preparing metadata (setup.py) ... \u001b[?25ldone\n",
      "\u001b[?25hBuilding wheels for collected packages: emoji\n",
      "  Building wheel for emoji (setup.py) ... \u001b[?25ldone\n",
      "\u001b[?25h  Created wheel for emoji: filename=emoji-2.5.1-py2.py3-none-any.whl size=351210 sha256=5614fe176293f08405987f0c276b4d77203c41e1bf7bba4e33b950cec1bdcf3b\n",
      "  Stored in directory: /Users/fatemehkhosravi/Library/Caches/pip/wheels/8d/f5/02/63dc849dcc2c6d417626fd8440f2fc9da91c2f12afbe65c790\n",
      "Successfully built emoji\n",
      "Installing collected packages: emoji\n",
      "  Attempting uninstall: emoji\n",
      "    Found existing installation: emoji 2.2.0\n",
      "    Uninstalling emoji-2.2.0:\n",
      "      Successfully uninstalled emoji-2.2.0\n",
      "Successfully installed emoji-2.5.1\n",
      "Note: you may need to restart the kernel to use updated packages.\n"
     ]
    }
   ],
   "source": [
    "#!pip install --upgrade emoji\n",
    "#!pip install plotly"
   ]
  },
  {
   "cell_type": "code",
   "execution_count": 1,
   "metadata": {},
   "outputs": [
    {
     "data": {
      "text/html": [
       "        <script type=\"text/javascript\">\n",
       "        window.PlotlyConfig = {MathJaxConfig: 'local'};\n",
       "        if (window.MathJax && window.MathJax.Hub && window.MathJax.Hub.Config) {window.MathJax.Hub.Config({SVG: {font: \"STIX-Web\"}});}\n",
       "        if (typeof require !== 'undefined') {\n",
       "        require.undef(\"plotly\");\n",
       "        requirejs.config({\n",
       "            paths: {\n",
       "                'plotly': ['https://cdn.plot.ly/plotly-2.24.1.min']\n",
       "            }\n",
       "        });\n",
       "        require(['plotly'], function(Plotly) {\n",
       "            window._Plotly = Plotly;\n",
       "        });\n",
       "        }\n",
       "        </script>\n",
       "        "
      ]
     },
     "metadata": {},
     "output_type": "display_data"
    }
   ],
   "source": [
    "import pandas as pd\n",
    "import numpy as np\n",
    "import requests\n",
    "import time\n",
    "import random\n",
    "from collections import OrderedDict\n",
    "import string\n",
    "import re\n",
    "import matplotlib.pyplot as plt\n",
    "import seaborn as sns\n",
    "import plotly.offline as py\n",
    "import plotly.graph_objs as go\n",
    "import plotly.tools as tls\n",
    "import plotly.express as px\n",
    "import nltk\n",
    "import random\n",
    "py.init_notebook_mode(connected=True)\n",
    "from nltk.stem import WordNetLemmatizer\n",
    "from random import randint\n",
    "#from textblob import TextBlob\n",
    "from time import sleep\n",
    "color = sns.color_palette()\n",
    "%matplotlib inline\n",
    "from collections import Counter, defaultdict\n",
    "from string import punctuation\n",
    "from nltk.corpus import stopwords\n",
    "from nltk.metrics import ConfusionMatrix\n",
    "import plotly.io as pio\n",
    "import emoji\n",
    "from nltk.tokenize import word_tokenize\n",
    "import re\n",
    "re.compile('<title>(.*)</title>')\n",
    "import nltk\n",
    "import os\n",
    "import re\n",
    "import pandas as pd\n",
    "import numpy as np\n",
    "from collections import Counter, defaultdict\n",
    "from nltk.corpus import stopwords\n",
    "from string import punctuation\n",
    "sw = stopwords.words(\"english\")\n"
   ]
  },
  {
   "cell_type": "markdown",
   "metadata": {},
   "source": [
    "### Read the Data"
   ]
  },
  {
   "cell_type": "code",
   "execution_count": 126,
   "metadata": {},
   "outputs": [],
   "source": [
    "#Read the data\n",
    "\n",
    "customer_queries = pd.read_csv('/Users/fatemehkhosravi/Desktop/cus_q_dataset_final.csv')"
   ]
  },
  {
   "cell_type": "markdown",
   "metadata": {},
   "source": [
    "### Dimension "
   ]
  },
  {
   "cell_type": "markdown",
   "metadata": {},
   "source": [
    "The dataset consists of 40,267 samples (queries) with response variable in the 'Class' Column."
   ]
  },
  {
   "cell_type": "code",
   "execution_count": 127,
   "metadata": {},
   "outputs": [
    {
     "name": "stdout",
     "output_type": "stream",
     "text": [
      "(40267, 2)\n"
     ]
    },
    {
     "data": {
      "text/html": [
       "<div>\n",
       "<style scoped>\n",
       "    .dataframe tbody tr th:only-of-type {\n",
       "        vertical-align: middle;\n",
       "    }\n",
       "\n",
       "    .dataframe tbody tr th {\n",
       "        vertical-align: top;\n",
       "    }\n",
       "\n",
       "    .dataframe thead th {\n",
       "        text-align: right;\n",
       "    }\n",
       "</style>\n",
       "<table border=\"1\" class=\"dataframe\">\n",
       "  <thead>\n",
       "    <tr style=\"text-align: right;\">\n",
       "      <th></th>\n",
       "      <th>Query</th>\n",
       "      <th>Class</th>\n",
       "    </tr>\n",
       "  </thead>\n",
       "  <tbody>\n",
       "    <tr>\n",
       "      <th>6044</th>\n",
       "      <td>\\r\\n\\r\\nIs there an easy way to return my purc...</td>\n",
       "      <td>Returns</td>\n",
       "    </tr>\n",
       "    <tr>\n",
       "      <th>307</th>\n",
       "      <td>\\r\\n\\r\\nDo you need help understanding the ite...</td>\n",
       "      <td>Billing</td>\n",
       "    </tr>\n",
       "    <tr>\n",
       "      <th>10151</th>\n",
       "      <td>\\r\\n\\r\\nWhat sizes does the t-shirt come in?</td>\n",
       "      <td>Product Inquiry</td>\n",
       "    </tr>\n",
       "    <tr>\n",
       "      <th>3960</th>\n",
       "      <td>\\r\\n\\r\\nDo these shoes come in different width...</td>\n",
       "      <td>Product Inquiry</td>\n",
       "    </tr>\n",
       "    <tr>\n",
       "      <th>31171</th>\n",
       "      <td>\\r\\n\\r\\nDo I need to make a payment today, or ...</td>\n",
       "      <td>Billing</td>\n",
       "    </tr>\n",
       "    <tr>\n",
       "      <th>33012</th>\n",
       "      <td>\\r\\n\\r\\nI'm concerned about the ease of assemb...</td>\n",
       "      <td>Product Inquiry</td>\n",
       "    </tr>\n",
       "    <tr>\n",
       "      <th>16547</th>\n",
       "      <td>\\r\\n\\r\\nDo you accept American Express cards a...</td>\n",
       "      <td>Billing</td>\n",
       "    </tr>\n",
       "    <tr>\n",
       "      <th>37678</th>\n",
       "      <td>\\r\\n\\r\\nI was curious if this product is inter...</td>\n",
       "      <td>Product Inquiry</td>\n",
       "    </tr>\n",
       "    <tr>\n",
       "      <th>18839</th>\n",
       "      <td>\\r\\nenter\\r\\n\\r\\nHas my item been processed ac...</td>\n",
       "      <td>Returns</td>\n",
       "    </tr>\n",
       "    <tr>\n",
       "      <th>15692</th>\n",
       "      <td>\\r\\n\\r\\nCan I get help connecting my printer t...</td>\n",
       "      <td>Tech. Support</td>\n",
       "    </tr>\n",
       "  </tbody>\n",
       "</table>\n",
       "</div>"
      ],
      "text/plain": [
       "                                                   Query            Class\n",
       "6044   \\r\\n\\r\\nIs there an easy way to return my purc...          Returns\n",
       "307    \\r\\n\\r\\nDo you need help understanding the ite...          Billing\n",
       "10151       \\r\\n\\r\\nWhat sizes does the t-shirt come in?  Product Inquiry\n",
       "3960   \\r\\n\\r\\nDo these shoes come in different width...  Product Inquiry\n",
       "31171  \\r\\n\\r\\nDo I need to make a payment today, or ...          Billing\n",
       "33012  \\r\\n\\r\\nI'm concerned about the ease of assemb...  Product Inquiry\n",
       "16547  \\r\\n\\r\\nDo you accept American Express cards a...          Billing\n",
       "37678  \\r\\n\\r\\nI was curious if this product is inter...  Product Inquiry\n",
       "18839  \\r\\nenter\\r\\n\\r\\nHas my item been processed ac...          Returns\n",
       "15692  \\r\\n\\r\\nCan I get help connecting my printer t...    Tech. Support"
      ]
     },
     "execution_count": 127,
     "metadata": {},
     "output_type": "execute_result"
    }
   ],
   "source": [
    "#Dimension of the data set\n",
    "\n",
    "print(customer_queries.shape)\n",
    "\n",
    "#10 samples from data set\n",
    "\n",
    "customer_queries.sample(10)"
   ]
  },
  {
   "cell_type": "markdown",
   "metadata": {},
   "source": [
    "### Check the Balance\n",
    "\n",
    "Data set has 4 different classes: ‘Billing', 'Product Inquiry, 'Return' and 'Tech. Support’. According to the barplot, the dataset is balanced."
   ]
  },
  {
   "cell_type": "code",
   "execution_count": 128,
   "metadata": {},
   "outputs": [
    {
     "data": {
      "text/plain": [
       "Billing            10069\n",
       "Product Inquiry    10067\n",
       "Returns            10066\n",
       "Tech. Support      10065\n",
       "Name: Class, dtype: int64"
      ]
     },
     "execution_count": 128,
     "metadata": {},
     "output_type": "execute_result"
    }
   ],
   "source": [
    "# Check different classes of the response variable \n",
    "\n",
    "customer_queries['Class'].value_counts()"
   ]
  },
  {
   "cell_type": "code",
   "execution_count": 129,
   "metadata": {},
   "outputs": [
    {
     "data": {
      "text/plain": [
       "<AxesSubplot:title={'center':\"' Barplot of the Class Values'\"}, xlabel='Class'>"
      ]
     },
     "execution_count": 129,
     "metadata": {},
     "output_type": "execute_result"
    },
    {
     "data": {
      "image/png": "[encoded data removed]",
      "text/plain": [
       "<Figure size 1000x600 with 1 Axes>"
      ]
     },
     "metadata": {},
     "output_type": "display_data"
    }
   ],
   "source": [
    "# Barplot of the 'Class' values\n",
    "\n",
    "customer_queries.groupby('Class').agg({'Query': 'count'}).plot.bar(figsize=(10,6), \n",
    "                                    title=\"' Barplot of the Class Values'\")"
   ]
  },
  {
   "cell_type": "code",
   "execution_count": 130,
   "metadata": {},
   "outputs": [],
   "source": [
    "# Some punctuation variations\n",
    "\n",
    "punctuation = set(punctuation) \n",
    "\n",
    "\n",
    "# Stopwords\n",
    "\n",
    "sw = stopwords.words(\"english\")\n",
    "\n",
    "\n",
    "# useful regex\n",
    "\n",
    "whitespace_pattern = re.compile(r\"\\s+\")\n",
    "\n",
    "\n",
    "#Descriptive function\n",
    "\n",
    "def descriptive_stats(tokens, num_tokens = 10, verbose=True) :\n",
    "    \"\"\"\n",
    "        Given a list of tokens, print number of tokens, number of unique tokens, \n",
    "        number of characters, lexical diversity, and num_tokens most common\n",
    "        tokens. Return a list of \n",
    "    \"\"\"\n",
    "    \n",
    "    if verbose :        \n",
    "        print(f\"There are {len(tokens)} tokens in the data.\")\n",
    "        print(f\"There are {len(set(tokens))} unique tokens in the data.\")\n",
    "        print(f\"There are {len(''.join(tokens))} characters in the data.\")\n",
    "        print(f\"The lexical diversity is {len(set(tokens))/len(tokens):.3f} in the data.\")\n",
    "    \n",
    "        counts = Counter(tokens)\n",
    "\n",
    "        if num_tokens > 0 :\n",
    "            print(\"The top ten most common tokens are:\")\n",
    "            top_tokens=counts.most_common(num_tokens)\n",
    "            top_token_df = pd.DataFrame(top_tokens, columns = [\"Token\", \"Frequency\"])\n",
    "            print(top_token_df)\n",
    "        \n",
    "    return([len(tokens),\n",
    "           len(set(tokens)),\n",
    "           len(\"\".join(tokens)),\n",
    "           len(set(tokens))/len(tokens)])\n",
    "\n",
    "        \n",
    "\n",
    "\n",
    "\n",
    "# Remove stop words\n",
    "\n",
    "def remove_stop(tokens) : \n",
    "    return([t for t in tokens if t.lower() not in sw])\n",
    "\n",
    "# Remove punctuation\n",
    "\n",
    "def remove_punctuation(text, punct_set=punctuation) : \n",
    "    return(\"\".join([ch for ch in text if ch not in punct_set]))\n",
    "\n",
    "#Remove white space\n",
    "\n",
    "def remove_whitespace(text):\n",
    "    text = whitespace_pattern.sub(r\" \", text)\n",
    "    return text\n",
    "\n",
    "# Tokenization\n",
    "\n",
    "def tokenize(text) : \n",
    "    \"\"\" Splitting on whitespace rather than the book's tokenize function. That \n",
    "        function will drop tokens like '#hashtag' or '2A', which we need for Twitter. \"\"\"\n",
    "    \n",
    "    return([t for t in whitespace_pattern.split(text) if t])\n",
    "\n",
    "# pipeline function\n",
    "\n",
    "def prepare(text, pipeline) : \n",
    "    tokens = str(text)\n",
    "    \n",
    "    for transform in pipeline : \n",
    "        tokens = transform(tokens)\n",
    "        \n",
    "    return(tokens)\n"
   ]
  },
  {
   "cell_type": "code",
   "execution_count": 131,
   "metadata": {},
   "outputs": [
    {
     "data": {
      "text/html": [
       "<div>\n",
       "<style scoped>\n",
       "    .dataframe tbody tr th:only-of-type {\n",
       "        vertical-align: middle;\n",
       "    }\n",
       "\n",
       "    .dataframe tbody tr th {\n",
       "        vertical-align: top;\n",
       "    }\n",
       "\n",
       "    .dataframe thead th {\n",
       "        text-align: right;\n",
       "    }\n",
       "</style>\n",
       "<table border=\"1\" class=\"dataframe\">\n",
       "  <thead>\n",
       "    <tr style=\"text-align: right;\">\n",
       "      <th></th>\n",
       "      <th>Query</th>\n",
       "      <th>Class</th>\n",
       "      <th>tokens</th>\n",
       "      <th>num_tokens</th>\n",
       "    </tr>\n",
       "  </thead>\n",
       "  <tbody>\n",
       "    <tr>\n",
       "      <th>31061</th>\n",
       "      <td>\\r\\n\\r\\nWhat plug-in type do I need for a podc...</td>\n",
       "      <td>Tech. Support</td>\n",
       "      <td>[plugin, type, need, podcast, inithibition, pr...</td>\n",
       "      <td>7</td>\n",
       "    </tr>\n",
       "    <tr>\n",
       "      <th>25570</th>\n",
       "      <td>\\r\\n\\r\\nIs this product good for taking macros...</td>\n",
       "      <td>Product Inquiry</td>\n",
       "      <td>[product, good, taking, macros, images, withou...</td>\n",
       "      <td>9</td>\n",
       "    </tr>\n",
       "    <tr>\n",
       "      <th>4798</th>\n",
       "      <td>\\r\\n\\r\\nWhat type of fabric is this leisurewea...</td>\n",
       "      <td>Product Inquiry</td>\n",
       "      <td>[type, fabric, leisurewear, blazer, made, mach...</td>\n",
       "      <td>7</td>\n",
       "    </tr>\n",
       "    <tr>\n",
       "      <th>9520</th>\n",
       "      <td>\\r\\n\\r\\nWhat is the total taxable amount inclu...</td>\n",
       "      <td>Billing</td>\n",
       "      <td>[total, taxable, amount, included, recent, inv...</td>\n",
       "      <td>6</td>\n",
       "    </tr>\n",
       "    <tr>\n",
       "      <th>34052</th>\n",
       "      <td>\\r\\n\\r\\nHow can I return this item and get a f...</td>\n",
       "      <td>Returns</td>\n",
       "      <td>[return, item, get, full, refund]</td>\n",
       "      <td>5</td>\n",
       "    </tr>\n",
       "    <tr>\n",
       "      <th>20350</th>\n",
       "      <td>\\r\\n\\r\\nIs my credit card billing statement se...</td>\n",
       "      <td>Billing</td>\n",
       "      <td>[credit, card, billing, statement, set, email,...</td>\n",
       "      <td>13</td>\n",
       "    </tr>\n",
       "    <tr>\n",
       "      <th>38763</th>\n",
       "      <td>\\r\\n\\r\\nDid you send the incorrect item? I rec...</td>\n",
       "      <td>Returns</td>\n",
       "      <td>[send, incorrect, item, recently, received, ch...</td>\n",
       "      <td>15</td>\n",
       "    </tr>\n",
       "    <tr>\n",
       "      <th>37199</th>\n",
       "      <td>\\r\\n\\r\\nIs my credit card payment merchant saf...</td>\n",
       "      <td>Billing</td>\n",
       "      <td>[credit, card, payment, merchant, safe, submis...</td>\n",
       "      <td>6</td>\n",
       "    </tr>\n",
       "    <tr>\n",
       "      <th>39583</th>\n",
       "      <td>\\r\\n\\r\\nMy account won't let me pay online - w...</td>\n",
       "      <td>Tech. Support</td>\n",
       "      <td>[account, wont, let, pay, online]</td>\n",
       "      <td>5</td>\n",
       "    </tr>\n",
       "    <tr>\n",
       "      <th>32803</th>\n",
       "      <td>\\r\\nQ: Can I return a packaged double puppet d...</td>\n",
       "      <td>Product Inquiry</td>\n",
       "      <td>[q, return, packaged, double, puppet, dolls, s...</td>\n",
       "      <td>9</td>\n",
       "    </tr>\n",
       "    <tr>\n",
       "      <th>36345</th>\n",
       "      <td>\\r\\n\\r\\nI need clarification on my statement f...</td>\n",
       "      <td>Billing</td>\n",
       "      <td>[need, clarification, statement, april, much, ...</td>\n",
       "      <td>10</td>\n",
       "    </tr>\n",
       "  </tbody>\n",
       "</table>\n",
       "</div>"
      ],
      "text/plain": [
       "                                                   Query            Class  \\\n",
       "31061  \\r\\n\\r\\nWhat plug-in type do I need for a podc...    Tech. Support   \n",
       "25570  \\r\\n\\r\\nIs this product good for taking macros...  Product Inquiry   \n",
       "4798   \\r\\n\\r\\nWhat type of fabric is this leisurewea...  Product Inquiry   \n",
       "9520   \\r\\n\\r\\nWhat is the total taxable amount inclu...          Billing   \n",
       "34052  \\r\\n\\r\\nHow can I return this item and get a f...          Returns   \n",
       "20350  \\r\\n\\r\\nIs my credit card billing statement se...          Billing   \n",
       "38763  \\r\\n\\r\\nDid you send the incorrect item? I rec...          Returns   \n",
       "37199  \\r\\n\\r\\nIs my credit card payment merchant saf...          Billing   \n",
       "39583  \\r\\n\\r\\nMy account won't let me pay online - w...    Tech. Support   \n",
       "32803  \\r\\nQ: Can I return a packaged double puppet d...  Product Inquiry   \n",
       "36345  \\r\\n\\r\\nI need clarification on my statement f...          Billing   \n",
       "\n",
       "                                                  tokens  num_tokens  \n",
       "31061  [plugin, type, need, podcast, inithibition, pr...           7  \n",
       "25570  [product, good, taking, macros, images, withou...           9  \n",
       "4798   [type, fabric, leisurewear, blazer, made, mach...           7  \n",
       "9520   [total, taxable, amount, included, recent, inv...           6  \n",
       "34052                  [return, item, get, full, refund]           5  \n",
       "20350  [credit, card, billing, statement, set, email,...          13  \n",
       "38763  [send, incorrect, item, recently, received, ch...          15  \n",
       "37199  [credit, card, payment, merchant, safe, submis...           6  \n",
       "39583                  [account, wont, let, pay, online]           5  \n",
       "32803  [q, return, packaged, double, puppet, dolls, s...           9  \n",
       "36345  [need, clarification, statement, april, much, ...          10  "
      ]
     },
     "execution_count": 131,
     "metadata": {},
     "output_type": "execute_result"
    }
   ],
   "source": [
    "# Apply processing pipeline\n",
    "\n",
    "prep_pipeline = [str.lower, remove_punctuation,remove_whitespace, tokenize, remove_stop]\n",
    "\n",
    "# Tokenization on 'Query' column\n",
    "\n",
    "customer_queries[\"tokens\"] = customer_queries[\"Query\"].apply(prepare, pipeline = prep_pipeline)\n",
    "\n",
    "# Count number of tokens in each row\n",
    "\n",
    "customer_queries[\"num_tokens\"] = customer_queries[\"tokens\"].map(len) \n",
    "\n",
    "customer_queries.sample(11)\n"
   ]
  },
  {
   "cell_type": "markdown",
   "metadata": {},
   "source": [
    "### Descriptive Statistics\n",
    "\n",
    "Descriptive statistics output is displayed in the code snippet below.\n",
    "'return', 'product', 'item', 'purchased' and 'payment' are the top ten most common tokens in this dataset."
   ]
  },
  {
   "cell_type": "code",
   "execution_count": 132,
   "metadata": {},
   "outputs": [],
   "source": [
    "# We need to transform the Query to lists of tokens for descriptive statistics\n",
    "\n",
    "tokens_list = customer_queries['tokens'].to_list()\n",
    "\n",
    "# convert nested list to a flat list\n",
    "\n",
    "tokens_list  = [item for sublist in tokens_list  for item in sublist]"
   ]
  },
  {
   "cell_type": "code",
   "execution_count": 133,
   "metadata": {},
   "outputs": [
    {
     "name": "stdout",
     "output_type": "stream",
     "text": [
      "Descriptive Stats:\n",
      "\n",
      "There are 364359 tokens in the data.\n",
      "There are 20993 unique tokens in the data.\n",
      "There are 2295191 characters in the data.\n",
      "The lexical diversity is 0.058 in the data.\n",
      "The top ten most common tokens are:\n",
      "       Token  Frequency\n",
      "0     return       8343\n",
      "1    product       6413\n",
      "2       item       5398\n",
      "3  purchased       4106\n",
      "4    payment       3736\n",
      "5   recently       3689\n",
      "6      order       3281\n",
      "7     please       3227\n",
      "8         im       3200\n",
      "9       need       3171\n",
      "[364359, 20993, 2295191, 0.057616252103008296]\n"
     ]
    }
   ],
   "source": [
    "print(\"Descriptive Stats:\\n\")\n",
    "\n",
    "print(descriptive_stats(tokens_list ))\n"
   ]
  },
  {
   "cell_type": "markdown",
   "metadata": {},
   "source": [
    "### Query Lengths\n",
    "\n",
    "Here we can see the distribution histogram of lengths of queries ( number of tokens ) based on its class. According to this plot ‘Billing’ and ‘Returns’ categories have the highest number of tokens in the query. (35 and 38 tokens. The average number of tokens for all classes is about 10 tokens.  "
   ]
  },
  {
   "cell_type": "code",
   "execution_count": 134,
   "metadata": {},
   "outputs": [
    {
     "data": {
      "text/plain": [
       "Class\n",
       "Billing            AxesSubplot(0.125,0.11;0.775x0.77)\n",
       "Product Inquiry    AxesSubplot(0.125,0.11;0.775x0.77)\n",
       "Returns            AxesSubplot(0.125,0.11;0.775x0.77)\n",
       "Tech. Support      AxesSubplot(0.125,0.11;0.775x0.77)\n",
       "Name: num_tokens, dtype: object"
      ]
     },
     "execution_count": 134,
     "metadata": {},
     "output_type": "execute_result"
    },
    {
     "data": {
      "image/png": "[encoded data removed]",
      "text/plain": [
       "<Figure size 640x480 with 1 Axes>"
      ]
     },
     "metadata": {},
     "output_type": "display_data"
    }
   ],
   "source": [
    "customer_queries.groupby('Class')['num_tokens'].plot(kind=\"hist\",density=True,alpha=0.5,\n",
    "                         legend=True, title= \" Distribution Plot of Query Lengths\")"
   ]
  },
  {
   "cell_type": "markdown",
   "metadata": {},
   "source": [
    "### Descriptive Statistics of Each Class\n",
    "\n",
    "* Lexical diversity for 'Product Inquiry' class is about 0.127 and for 'Billing' and 'Tech. Support' classes is about 0.078. The lowest lexical diversity belongs to the 'Return' class with 0.065. Higher value means that the queries contain many different word types while lower value of lexical diversity refers to the repeated words or phrases. \n",
    "\n",
    "* By removing punctuation in the way we did, a number of pairs of stopwords (e.g., \"I am\" and \"is not\") show up in the top 10 tokens."
   ]
  },
  {
   "cell_type": "code",
   "execution_count": 153,
   "metadata": {},
   "outputs": [],
   "source": [
    "# Billing\n",
    "\n",
    "billing_query= customer_queries.loc[customer_queries['Class']== 'Billing'].tokens.to_list()\n",
    "billing_query = [item for sublist in billing_query for item in sublist]\n",
    "\n",
    "\n",
    "#Product Inquiry\n",
    "\n",
    "product_query = customer_queries.loc[customer_queries['Class']== 'Product Inquiry'].tokens.to_list()\n",
    "product_query = [item for sublist in product_query for item in sublist]\n",
    "\n",
    "\n",
    "# Returns\n",
    "\n",
    "return_query= customer_queries.loc[customer_queries['Class']== 'Returns'].tokens.to_list()\n",
    "return_query= [item for sublist in return_query for item in sublist]\n",
    "\n",
    "\n",
    "#Tech.Support\n",
    "\n",
    "tech_query = customer_queries.loc[customer_queries['Class']== 'Tech. Support'].tokens.to_list()\n",
    "tech_query = [item for sublist in tech_query for item in sublist]"
   ]
  },
  {
   "cell_type": "code",
   "execution_count": 158,
   "metadata": {},
   "outputs": [
    {
     "name": "stdout",
     "output_type": "stream",
     "text": [
      "Descriptive Statistics of Billing Class:\n",
      "\n",
      "There are 108398 tokens in the data.\n",
      "There are 8470 unique tokens in the data.\n",
      "There are 683268 characters in the data.\n",
      "The lexical diversity is 0.078 in the data.\n",
      "The top ten most common tokens are:\n",
      "       Token  Frequency\n",
      "0    payment       3642\n",
      "1     please       2288\n",
      "2    billing       2269\n",
      "3       bill       1710\n",
      "4      order       1640\n",
      "5    invoice       1568\n",
      "6    account       1225\n",
      "7   purchase       1117\n",
      "8       card       1090\n",
      "9  statement       1078\n",
      "[108398, 8470, 683268, 0.07813797302533257]\n"
     ]
    }
   ],
   "source": [
    "# Descriptive Statistics of Billing Class\n",
    "\n",
    "print(\"Descriptive Statistics of Billing Class:\\n\")\n",
    "\n",
    "print(descriptive_stats(billing_query, num_tokens=10 ))\n"
   ]
  },
  {
   "cell_type": "code",
   "execution_count": 159,
   "metadata": {},
   "outputs": [
    {
     "name": "stdout",
     "output_type": "stream",
     "text": [
      "Descriptive Statistics of Product Inquiry Class:\n",
      "\n",
      "There are 86000 tokens in the data.\n",
      "There are 10881 unique tokens in the data.\n",
      "There are 552211 characters in the data.\n",
      "The lexical diversity is 0.127 in the data.\n",
      "The top ten most common tokens are:\n",
      "       Token  Frequency\n",
      "0    product       4381\n",
      "1         im       1328\n",
      "2  available        731\n",
      "3       come        692\n",
      "4       size        679\n",
      "5        use        644\n",
      "6   products        595\n",
      "7    looking        587\n",
      "8   warranty        571\n",
      "9       type        567\n",
      "[86000, 10881, 552211, 0.1265232558139535]\n"
     ]
    }
   ],
   "source": [
    "# Descriptive Statistics of Product Inquiry Class\n",
    "\n",
    "print(\"Descriptive Statistics of Product Inquiry Class:\\n\")\n",
    "\n",
    "print(descriptive_stats(product_query, num_tokens=10 ))\n"
   ]
  },
  {
   "cell_type": "code",
   "execution_count": 160,
   "metadata": {},
   "outputs": [
    {
     "name": "stdout",
     "output_type": "stream",
     "text": [
      "Descriptive Statistics of Return Class:\n",
      "\n",
      "There are 88127 tokens in the data.\n",
      "There are 5765 unique tokens in the data.\n",
      "There are 556304 characters in the data.\n",
      "The lexical diversity is 0.065 in the data.\n",
      "The top ten most common tokens are:\n",
      "       Token  Frequency\n",
      "0     return       8042\n",
      "1       item       4785\n",
      "2  purchased       3227\n",
      "3   recently       2291\n",
      "4     refund       1961\n",
      "5    product       1809\n",
      "6    process       1729\n",
      "7     policy       1563\n",
      "8  returning       1336\n",
      "9       need       1310\n",
      "[88127, 5765, 556304, 0.06541695507619685]\n"
     ]
    }
   ],
   "source": [
    "# Descriptive Statistics of Return Class\n",
    "\n",
    "print(\"Descriptive Statistics of Return Class:\\n\")\n",
    "\n",
    "print(descriptive_stats(return_query, num_tokens=10 ))\n"
   ]
  },
  {
   "cell_type": "code",
   "execution_count": 161,
   "metadata": {},
   "outputs": [
    {
     "name": "stdout",
     "output_type": "stream",
     "text": [
      "Descriptive Statistics of Tech. Support Class:\n",
      "\n",
      "There are 81834 tokens in the data.\n",
      "There are 6363 unique tokens in the data.\n",
      "There are 503408 characters in the data.\n",
      "The lexical diversity is 0.078 in the data.\n",
      "The top ten most common tokens are:\n",
      "      Token  Frequency\n",
      "0    laptop       2343\n",
      "1  computer       2168\n",
      "2      wont       1769\n",
      "3   printer       1443\n",
      "4     issue       1145\n",
      "5      wifi       1114\n",
      "6      isnt       1091\n",
      "7       fix       1056\n",
      "8      turn       1030\n",
      "9        im        992\n",
      "[81834, 6363, 503408, 0.07775496737297456]\n"
     ]
    }
   ],
   "source": [
    "# Descriptive Statistics of Tech. Support Class\n",
    "\n",
    "print(\"Descriptive Statistics of Tech. Support Class:\\n\")\n",
    "\n",
    "print(descriptive_stats(tech_query, num_tokens=10 ))"
   ]
  },
  {
   "cell_type": "code",
   "execution_count": null,
   "metadata": {},
   "outputs": [],
   "source": []
  },
  {
   "cell_type": "code",
   "execution_count": null,
   "metadata": {},
   "outputs": [],
   "source": []
  }
 ],
 "metadata": {
  "kernelspec": {
   "display_name": "Python 3 (ipykernel)",
   "language": "python",
   "name": "python3"
  },
  "language_info": {
   "codemirror_mode": {
    "name": "ipython",
    "version": 3
   },
   "file_extension": ".py",
   "mimetype": "text/x-python",
   "name": "python",
   "nbconvert_exporter": "python",
   "pygments_lexer": "ipython3",
   "version": "3.8.5"
  }
 },
 "nbformat": 4,
 "nbformat_minor": 5
}
